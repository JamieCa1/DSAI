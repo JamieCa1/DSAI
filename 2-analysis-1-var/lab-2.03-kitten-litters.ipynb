{
  "cells": [
    {
      "cell_type": "markdown",
      "metadata": {
        "id": "dYTxJWJG5miJ"
      },
      "source": [
        "# Lab 2.03 - Univariate Analysis\n"
      ]
    },
    {
      "cell_type": "code",
      "execution_count": 2,
      "metadata": {
        "id": "MvwMKfrI8X-p"
      },
      "outputs": [],
      "source": [
        "# Importing the necessary packages\n",
        "import numpy as np                                  # \"Scientific computing\"\n",
        "import scipy.stats as stats                         # Statistical tests\n",
        "\n",
        "import pandas as pd                                 # Data Frame\n",
        "from pandas.api.types import CategoricalDtype\n",
        "\n",
        "import matplotlib.pyplot as plt                     # Basic visualisation\n",
        "from statsmodels.graphics.mosaicplot import mosaic  # Mosaic diagram\n",
        "import seaborn as sns                               # Advanced data visualisation"
      ]
    },
    {
      "cell_type": "markdown",
      "metadata": {
        "id": "s4x9EYrH5miO"
      },
      "source": [
        "## Exercise 3 - Kitten litters\n",
        "\n",
        "Een dierenarts houdt een register bij van het aantal kittens in nesten van katten in zijn praktijk. Het onderstaande codeblok bevat de gegevens in de vorm van een frequentietabel.\n",
        "\n",
        "- Zet de gegevens eerst in één lijst met individuele waarnemingen: [1, 1, 2, 2, ... 5, 5, 6, 6, 6, 6, 7, 7, 8]  \n",
        "- Visualiseer de gegevensset met behulp van alle geschikte grafiektypen die u kent.\n",
        "- Bereken:\n",
        "- de mediaan van de grootte van een nest\n",
        "- het gemiddelde van de grootte van een nest\n",
        "- het onderste kwartiel\n",
        "- het bovenste kwartiel"
      ]
    },
    {
      "cell_type": "code",
      "execution_count": 3,
      "metadata": {
        "colab": {
          "base_uri": "https://localhost:8080/",
          "height": 300
        },
        "id": "7pKKrRuj5miO",
        "outputId": "f0f1919c-bbdf-4149-802a-d9198278e359"
      },
      "outputs": [
        {
          "data": {
            "application/vnd.microsoft.datawrangler.viewer.v0+json": {
              "columns": [
                {
                  "name": "index",
                  "rawType": "int64",
                  "type": "integer"
                },
                {
                  "name": "Number in litter",
                  "rawType": "int64",
                  "type": "integer"
                },
                {
                  "name": "Frequency",
                  "rawType": "int64",
                  "type": "integer"
                }
              ],
              "ref": "da0bf1d4-d4dd-4b02-95d6-26da2b086aed",
              "rows": [
                [
                  "0",
                  "1",
                  "2"
                ],
                [
                  "1",
                  "2",
                  "4"
                ],
                [
                  "2",
                  "3",
                  "7"
                ],
                [
                  "3",
                  "4",
                  "11"
                ],
                [
                  "4",
                  "5",
                  "8"
                ],
                [
                  "5",
                  "6",
                  "4"
                ],
                [
                  "6",
                  "7",
                  "2"
                ],
                [
                  "7",
                  "8",
                  "1"
                ]
              ],
              "shape": {
                "columns": 2,
                "rows": 8
              }
            },
            "text/html": [
              "<div>\n",
              "<style scoped>\n",
              "    .dataframe tbody tr th:only-of-type {\n",
              "        vertical-align: middle;\n",
              "    }\n",
              "\n",
              "    .dataframe tbody tr th {\n",
              "        vertical-align: top;\n",
              "    }\n",
              "\n",
              "    .dataframe thead th {\n",
              "        text-align: right;\n",
              "    }\n",
              "</style>\n",
              "<table border=\"1\" class=\"dataframe\">\n",
              "  <thead>\n",
              "    <tr style=\"text-align: right;\">\n",
              "      <th></th>\n",
              "      <th>Number in litter</th>\n",
              "      <th>Frequency</th>\n",
              "    </tr>\n",
              "  </thead>\n",
              "  <tbody>\n",
              "    <tr>\n",
              "      <th>0</th>\n",
              "      <td>1</td>\n",
              "      <td>2</td>\n",
              "    </tr>\n",
              "    <tr>\n",
              "      <th>1</th>\n",
              "      <td>2</td>\n",
              "      <td>4</td>\n",
              "    </tr>\n",
              "    <tr>\n",
              "      <th>2</th>\n",
              "      <td>3</td>\n",
              "      <td>7</td>\n",
              "    </tr>\n",
              "    <tr>\n",
              "      <th>3</th>\n",
              "      <td>4</td>\n",
              "      <td>11</td>\n",
              "    </tr>\n",
              "    <tr>\n",
              "      <th>4</th>\n",
              "      <td>5</td>\n",
              "      <td>8</td>\n",
              "    </tr>\n",
              "    <tr>\n",
              "      <th>5</th>\n",
              "      <td>6</td>\n",
              "      <td>4</td>\n",
              "    </tr>\n",
              "    <tr>\n",
              "      <th>6</th>\n",
              "      <td>7</td>\n",
              "      <td>2</td>\n",
              "    </tr>\n",
              "    <tr>\n",
              "      <th>7</th>\n",
              "      <td>8</td>\n",
              "      <td>1</td>\n",
              "    </tr>\n",
              "  </tbody>\n",
              "</table>\n",
              "</div>"
            ],
            "text/plain": [
              "   Number in litter  Frequency\n",
              "0                 1          2\n",
              "1                 2          4\n",
              "2                 3          7\n",
              "3                 4         11\n",
              "4                 5          8\n",
              "5                 6          4\n",
              "6                 7          2\n",
              "7                 8          1"
            ]
          },
          "execution_count": 3,
          "metadata": {},
          "output_type": "execute_result"
        }
      ],
      "source": [
        "kittens = pd.DataFrame.from_dict({\n",
        "    'Number in litter': [1, 2, 3,  4, 5, 6, 7, 8],\n",
        "    'Frequency':        [2, 4, 7, 11, 8, 4, 2, 1]})\n",
        "kittens"
      ]
    },
    {
      "cell_type": "code",
      "execution_count": 4,
      "metadata": {},
      "outputs": [],
      "source": [
        "freq = np.repeat(kittens['Number in litter'], kittens['Frequency'])\n",
        "median = np.median(freq)\n",
        "mean = np.mean(freq)\n",
        "low = np.percentile(freq,25)\n",
        "upper = np.percentile(freq,75)\n",
        "\n"
      ]
    },
    {
      "cell_type": "code",
      "execution_count": 7,
      "metadata": {},
      "outputs": [
        {
          "name": "stdout",
          "output_type": "stream",
          "text": [
            "Gemiddelde: 4.128205128205129\n",
            "Mediaan (Q2): 4.0\n",
            "Eerste kwartiel (Q1): 3.0\n",
            "Derde kwartiel (Q3): 5.0\n",
            "Interkwartielafstand (IQR): 2.0\n"
          ]
        },
        {
          "data": {
            "image/png": "[encoded data removed]",
            "text/plain": [
              "<Figure size 640x480 with 1 Axes>"
            ]
          },
          "metadata": {},
          "output_type": "display_data"
        }
      ],
      "source": [
        "\n",
        "# Stap 1: Maak een lijst met alle nestgroottes herhaald volgens hun frequentie\n",
        "# De functie np.repeat() wordt gebruikt om elke waarde in de kolom \"Number in litter\" te herhalen \n",
        "# op basis van de overeenkomstige frequentie in de kolom \"Frequency\".\n",
        "data_expanded = np.repeat(kittens['Number in litter'], kittens['Frequency'])\n",
        "\n",
        "# Stap 2: Berekeningen uitvoeren\n",
        "median = np.median(data_expanded)       # Mediaan (Q2)\n",
        "q1 = np.percentile(data_expanded, 25)   # Eerste kwartiel (Q1)\n",
        "q3 = np.percentile(data_expanded, 75)   # Derde kwartiel (Q3)\n",
        "iqr = q3 - q1                           # Interkwartielafstand (IQR)\n",
        "\n",
        "# Stap 3: Resultaten weergeven\n",
        "print(f\"Gemiddelde: {data_expanded.mean()}\")\n",
        "print(f\"Mediaan (Q2): {median}\")\n",
        "print(f\"Eerste kwartiel (Q1): {q1}\")\n",
        "print(f\"Derde kwartiel (Q3): {q3}\")\n",
        "print(f\"Interkwartielafstand (IQR): {iqr}\")\n",
        "\n",
        "df_expanded = pd.DataFrame({\"Litter Size\":data_expanded})\n",
        "sns.boxplot(data=df_expanded[\"Litter Size\"], color=\"lightcoral\");\n",
        "\n",
        "\n"
      ]
    },
    {
      "cell_type": "code",
      "execution_count": 6,
      "metadata": {},
      "outputs": [
        {
          "data": {
            "image/png": "[encoded data removed]",
            "text/plain": [
              "<Figure size 500x500 with 1 Axes>"
            ]
          },
          "metadata": {},
          "output_type": "display_data"
        }
      ],
      "source": [
        "sns.displot(data=df_expanded[\"Litter Size\"], color=\"lightblue\");"
      ]
    },
    {
      "cell_type": "markdown",
      "metadata": {},
      "source": [
        "### Some answers:\n",
        "\n",
        "- Median: 4.0\n",
        "- Mean: 4.128205128205129\n",
        "- Lower Quartile: 3.0\n",
        "- Upper Quartile: 5.0\n",
        "\n",
        "Source: Complete Probability & Statistics 1 for Cambridge International As & A Level"
      ]
    }
  ],
  "metadata": {
    "colab": {
      "provenance": []
    },
    "gpuClass": "standard",
    "kernelspec": {
      "display_name": "Python 3",
      "name": "python3"
    },
    "language_info": {
      "codemirror_mode": {
        "name": "ipython",
        "version": 3
      },
      "file_extension": ".py",
      "mimetype": "text/x-python",
      "name": "python",
      "nbconvert_exporter": "python",
      "pygments_lexer": "ipython3",
      "version": "3.12.1"
    },
    "orig_nbformat": 4
  },
  "nbformat": 4,
  "nbformat_minor": 0
}
