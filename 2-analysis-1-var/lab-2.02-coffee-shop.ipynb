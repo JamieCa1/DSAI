{
  "cells": [
    {
      "cell_type": "markdown",
      "metadata": {
        "id": "dYTxJWJG5miJ"
      },
      "source": [
        "# Lab 2.02 - Univariate Analysis\n"
      ]
    },
    {
      "cell_type": "code",
      "execution_count": 2,
      "metadata": {
        "id": "MvwMKfrI8X-p"
      },
      "outputs": [],
      "source": [
        "# Importing the necessary packages\n",
        "import numpy as np                                  # \"Scientific computing\"\n",
        "import scipy.stats as stats                         # Statistical tests\n",
        "\n",
        "import pandas as pd                                 # Data Frame\n",
        "from pandas.api.types import CategoricalDtype\n",
        "\n",
        "import matplotlib.pyplot as plt                     # Basic visualisation\n",
        "from statsmodels.graphics.mosaicplot import mosaic  # Mosaic diagram\n",
        "import seaborn as sns                               # Advanced data visualisation"
      ]
    },
    {
      "cell_type": "markdown",
      "metadata": {
        "id": "ISZtcLRc8qHI"
      },
      "source": [
        "## Exercise 2\n",
        "\n",
        "De tijd die klanten in een koffiebar doorbrengen, wordt in minuten geregistreerd. Bereken de volgende statistieken:\n",
        "\n",
        "- Mediaan\n",
        "- Bereik\n",
        "- Kwartielen\n",
        "- Interkwartielafstand\n",
        "\n",
        "Source: Complete Probability & Statistics 1 for Cambridge International As & A Level"
      ]
    },
    {
      "cell_type": "code",
      "execution_count": 3,
      "metadata": {
        "colab": {
          "base_uri": "https://localhost:8080/"
        },
        "id": "BntQ7l2L83tu",
        "outputId": "6fd7374e-5c0b-482f-9baa-5d704eb8a44c"
      },
      "outputs": [
        {
          "name": "stdout",
          "output_type": "stream",
          "text": [
            " Mean: 22.785714285714285\n",
            " Range: 35\n",
            " Eerste kwartiel:  14.0\n",
            " Tweede kwartiel:  19.5\n",
            " Derde kwartiel:  31.75\n",
            "Interquartile range: 17.75\n"
          ]
        }
      ],
      "source": [
        "times = np.array([17, 15, 9, 31, 33, 41, 8, 14, 13, 22, 27, 43, 32, 14])\n",
        "print(f\" Mean: {times.mean()}\")\n",
        "print (f\" Range: {times.max() - times.min()}\")\n",
        "q1 = np.percentile(times,25)\n",
        "q2 = np.percentile(times,50)\n",
        "q3 = np.percentile(times,75)\n",
        "print (f\" Eerste kwartiel:  {q1}\")\n",
        "print (f\" Tweede kwartiel:  {q2}\")\n",
        "print (f\" Derde kwartiel:  {q3}\")\n",
        "iqr = q3 - q1\n",
        "print (f\"Interquartile range: {iqr}\")\n",
        "\n"
      ]
    }
  ],
  "metadata": {
    "colab": {
      "provenance": []
    },
    "gpuClass": "standard",
    "kernelspec": {
      "display_name": "Python 3",
      "name": "python3"
    },
    "language_info": {
      "codemirror_mode": {
        "name": "ipython",
        "version": 3
      },
      "file_extension": ".py",
      "mimetype": "text/x-python",
      "name": "python",
      "nbconvert_exporter": "python",
      "pygments_lexer": "ipython3",
      "version": "3.12.1"
    },
    "orig_nbformat": 4
  },
  "nbformat": 4,
  "nbformat_minor": 0
}
