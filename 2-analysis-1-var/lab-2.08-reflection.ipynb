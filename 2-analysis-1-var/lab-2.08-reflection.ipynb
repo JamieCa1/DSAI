{
 "cells": [
  {
   "attachments": {},
   "cell_type": "markdown",
   "metadata": {},
   "source": [
    "# Lab 2.08 - Univariate Analysis: Reflection exercises\n",
    "\n",
    "## Exercise 8.1 - retrieval practice: analysis of 1 variable\n",
    "\n",
    "Gebruik de procedure voor herhalingsoefeningen uit de vergelijkbare oefeningen in module 1 om de technieken voor analyse en visualisatie van een enkele variabele te bestuderen.\n",
    "\n",
    "Geef voor elk meetniveau:\n",
    "\n",
    "- De juiste maatstaven voor centrale tendens en spreiding (naam, definities en formules)\n",
    "- De juiste grafiektypen"
   ]
  },
  {
   "cell_type": "markdown",
   "metadata": {},
   "source": [
    "## Exercise 8.2 - sample mean and sample variance of a frequency table\n",
    "\n",
    "Bekijk de formules voor het steekproefgemiddelde $\\overline{x}$, de steekproefvariantie $s^2$ en de standaardafwijking $s$. Hoe moeten deze formules worden aangepast om deze waarden te berekenen wanneer we te maken hebben met een frequentietabel? Een frequentietabel geeft een overzicht van hoe vaak elke verschillende waarde (van een kwalitatieve variabele) in de steekproef voorkomt.\n",
    "\n",
    "Pas uw formule toe op de gegevens in de onderstaande tabel:\n",
    "\n",
    "| Pins $s$ | Frequency $f_x$ |\n",
    "| :------: | :-------------: |\n",
    "|    0     |        2        |\n",
    "|    1     |        1        |\n",
    "|    2     |        2        |\n",
    "|    3     |        0        |\n",
    "|    4     |        2        |\n",
    "|    5     |        4        |\n",
    "|    6     |        9        |\n",
    "|    7     |       11        |\n",
    "|    8     |       13        |\n",
    "|    9     |        8        |\n",
    "|    10    |        8        |\n",
    "\n",
    "*While playing a skittles game, the number of pins that were knocked over with each throw is recorded. For each possible score x, the number of times this score was obtained during a throw was recorded.*\n",
    "\n",
    "**Results (for your convenience):** $n = 60$, mean = 7, variance ≈ 5.83, standard deviation ≈ 2.41"
   ]
  },
  {
   "cell_type": "markdown",
   "metadata": {},
   "source": [
    "Kwalitatieve Variabelen\n",
    "1. Nominaal Meetniveau\n",
    "\n",
    "Beschrijving: Categorieën zonder logische volgorde (bv. geslacht, nationaliteit).\n",
    "\n",
    "Centrale Tendens: Modus (de meest voorkomende waarde).\n",
    "\n",
    "Spreiding: Niet van toepassing, de frequentieverdeling wordt bekeken.\n",
    "\n",
    "Grafiektypen: Staafdiagram (Bar Chart), Taartdiagram (Pie Chart, hoewel afgeraden).\n",
    "\n",
    "2. Ordinaal Meetniveau\n",
    "\n",
    "Beschrijving: Categorieën met een logische volgorde, maar geen uniforme afstand tussen de categorieën (bv. opleidingsniveau).\n",
    "\n",
    "Centrale Tendens: Mediaan (middelste waarde) en Modus.\n",
    "\n",
    "Spreiding: Interkwartielafstand (IQR) en Bereik (Range).\n",
    "\n",
    "Grafiektypen: Staafdiagram.\n",
    "\n",
    "Kwantitatieve Variabelen\n",
    "3. Interval Meetniveau\n",
    "\n",
    "Beschrijving: Numerieke waarden met een uniforme afstand, maar zonder absoluut nulpunt (bv. temperatuur in °C).\n",
    "\n",
    "Centrale Tendens: Rekenkundig gemiddelde, Mediaan en Modus.\n",
    "\n",
    "Spreiding: Standaardafwijking, Variantie, IQR en Bereik.\n",
    "\n",
    "Grafiektypen: Histogram, Boxplot, Dichtheidsplot (KDE), Violin Plot.\n",
    "\n",
    "4. Ratio Meetniveau\n",
    "\n",
    "Beschrijving: Numerieke waarden met een uniforme afstand en een absoluut nulpunt (bv. gewicht, salaris).\n",
    "\n",
    "Centrale Tendens: Rekenkundig gemiddelde, Mediaan en Modus.\n",
    "\n",
    "Spreiding: Standaardafwijking, Variantie, IQR en Bereik.\n",
    "\n",
    "Grafiektypen: Histogram, Boxplot, Dichtheidsplot (KDE), Violin Plot."
   ]
  },
  {
   "attachments": {},
   "cell_type": "markdown",
   "metadata": {},
   "source": [
    "## Exercise 8.3 - formula for sample variance\n",
    "\n",
    "In the formula for the sample variance, the difference between the measurement values and the mean is squared. Why? Couldn't we devise a simpler formula that is an equally good measure of the dispersion of a dataset? Here are three proposals (the third one is the \"real\" formula):\n",
    "\n",
    "1. $s_{1}^{2} = \\frac{1}{n-1} \\sum_{i=1}^{n} (\\overline{x} - x_i)$\n",
    "2. $s_{2}^{2} = \\frac{1}{n-1} \\sum_{i=1}^{n} \\left| \\overline{x} - x_i\\right|$\n",
    "3. $s_{3}^{2} = \\frac{1}{n-1} \\sum_{i=1}^{n} (\\overline{x} - x_i)^{2}$\n",
    "\n",
    "Apply each formula to the two data sets below. By comparing the results, you should be able to decide whether the formulas are suitable as a dispersion measure.\n",
    "\n",
    "- $X = \\left\\{ 4,4,-4,-4 \\right\\}$\n",
    "- $Y = \\left\\{ 7,1,-6,-2 \\right\\}$"
   ]
  },
  {
   "attachments": {},
   "cell_type": "markdown",
   "metadata": {},
   "source": [
    "## Exercise 8.4 - data visualisation hall of shame\n",
    "\n",
    "Look for examples of bad graphs in news reports, articles, interest group publications, etc.\n",
    "\n",
    "Why is the chosen graph \"bad\"? What mistakes are being made? What changes should be made to correct the graph? Who will find the most ridiculous example of a bad graph within the class group?"
   ]
  }
 ],
 "metadata": {
  "language_info": {
   "name": "python"
  },
  "orig_nbformat": 4
 },
 "nbformat": 4,
 "nbformat_minor": 2
}
