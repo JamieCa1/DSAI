{
  "cells": [
    {
      "cell_type": "markdown",
      "metadata": {
        "id": "RzEWLSEPt30W"
      },
      "source": [
        "# Lab 5.02 - Two-sample t-test"
      ]
    },
    {
      "cell_type": "code",
      "execution_count": 1,
      "metadata": {
        "id": "QnEzGI2its2h"
      },
      "outputs": [],
      "source": [
        "# Package imports\n",
        "import numpy as np                                  # \"Scientific computing\"\n",
        "import scipy.stats as stats                         # Statistical tests\n",
        "\n",
        "import pandas as pd                                 # Dataframe\n",
        "import matplotlib.pyplot as plt                     # Basic visualisation\n",
        "from statsmodels.graphics.mosaicplot import mosaic  # Mosaic plot\n",
        "import seaborn as sns                               # Advanced dataviz"
      ]
    },
    {
      "cell_type": "markdown",
      "metadata": {
        "id": "D0dReXgYy26o"
      },
      "source": [
        "## Exercise 2 - exercise facilities\n",
        "\n",
        "Many companies have installed exercise facilities at their plants. The goal is not only to provide a bonus (free use of exercise equipment) for their employees, but to make the employees more productive by getting them in better shape. One such (fictional) company, Informatrix Software Company, installed exercise equipment on site a year ago.   \n",
        "To check whether it has had a beneficial effect on employee productivity, the company gathered data on a sample of 80 randomly chosen employees, all between the ages of 30 and 40 and all with similar job titles and duties. The company observed which of these employees use the exercise facility regularly (at least three times per week on average). This group included 23 of the 80 employees in the sample. The other 57 employees were asked whether they exercise regularly elsewhere, and 6 of them replied that they do. The remaining 51, who admitted \n",
        "to being nonexercisers, were then compared to the combined group of 29 exercisers.  \n",
        "The comparison was based on the employees' productivity over the year, as rated by their supervisors. Each rating was on a scale of 1 to 25, 25 being the best. To increase the validity of the study, neither the employees nor the supervisors were told that a study was in progress. In particular, the supervisors did not know which employees were involved \n",
        "in the study or which were exercisers.\n",
        "\n",
        "1. Make Box Plot of Ratings by Exerciser\n",
        "2. Use a test to see whether \n",
        "regular exercise increases worker productivity.\n",
        "3. Calculate Cohen's d to know the effect size\n",
        "\n",
        "A few results\n",
        "\n",
        "2. pvalue=0.006299793 < 0.05 => the productivity of Exercisers is significantly higher than of no Exercisers\n",
        "3. Cohen's d is 0.55509: average effect size\n",
        "\n",
        "![image.png](data:image/png;base64,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)\n"
      ]
    },
    {
      "cell_type": "code",
      "execution_count": 2,
      "metadata": {
        "colab": {
          "base_uri": "https://localhost:8080/",
          "height": 206
        },
        "id": "qRkCnBMgzovv",
        "outputId": "cde420fa-1e43-4391-f1b5-a4a3c0efd173"
      },
      "outputs": [
        {
          "data": {
            "application/vnd.microsoft.datawrangler.viewer.v0+json": {
              "columns": [
                {
                  "name": "index",
                  "rawType": "int64",
                  "type": "integer"
                },
                {
                  "name": "Employee",
                  "rawType": "int64",
                  "type": "integer"
                },
                {
                  "name": "Exerciser",
                  "rawType": "object",
                  "type": "string"
                },
                {
                  "name": "Rating",
                  "rawType": "int64",
                  "type": "integer"
                }
              ],
              "ref": "7619487a-f56d-497e-bfd5-0989c5315058",
              "rows": [
                [
                  "0",
                  "1",
                  "Yes",
                  "14"
                ],
                [
                  "1",
                  "2",
                  "No",
                  "7"
                ],
                [
                  "2",
                  "3",
                  "No",
                  "15"
                ],
                [
                  "3",
                  "4",
                  "Yes",
                  "15"
                ],
                [
                  "4",
                  "5",
                  "No",
                  "13"
                ]
              ],
              "shape": {
                "columns": 3,
                "rows": 5
              }
            },
            "text/html": [
              "<div>\n",
              "<style scoped>\n",
              "    .dataframe tbody tr th:only-of-type {\n",
              "        vertical-align: middle;\n",
              "    }\n",
              "\n",
              "    .dataframe tbody tr th {\n",
              "        vertical-align: top;\n",
              "    }\n",
              "\n",
              "    .dataframe thead th {\n",
              "        text-align: right;\n",
              "    }\n",
              "</style>\n",
              "<table border=\"1\" class=\"dataframe\">\n",
              "  <thead>\n",
              "    <tr style=\"text-align: right;\">\n",
              "      <th></th>\n",
              "      <th>Employee</th>\n",
              "      <th>Exerciser</th>\n",
              "      <th>Rating</th>\n",
              "    </tr>\n",
              "  </thead>\n",
              "  <tbody>\n",
              "    <tr>\n",
              "      <th>0</th>\n",
              "      <td>1</td>\n",
              "      <td>Yes</td>\n",
              "      <td>14</td>\n",
              "    </tr>\n",
              "    <tr>\n",
              "      <th>1</th>\n",
              "      <td>2</td>\n",
              "      <td>No</td>\n",
              "      <td>7</td>\n",
              "    </tr>\n",
              "    <tr>\n",
              "      <th>2</th>\n",
              "      <td>3</td>\n",
              "      <td>No</td>\n",
              "      <td>15</td>\n",
              "    </tr>\n",
              "    <tr>\n",
              "      <th>3</th>\n",
              "      <td>4</td>\n",
              "      <td>Yes</td>\n",
              "      <td>15</td>\n",
              "    </tr>\n",
              "    <tr>\n",
              "      <th>4</th>\n",
              "      <td>5</td>\n",
              "      <td>No</td>\n",
              "      <td>13</td>\n",
              "    </tr>\n",
              "  </tbody>\n",
              "</table>\n",
              "</div>"
            ],
            "text/plain": [
              "   Employee Exerciser  Rating\n",
              "0         1       Yes      14\n",
              "1         2        No       7\n",
              "2         3        No      15\n",
              "3         4       Yes      15\n",
              "4         5        No      13"
            ]
          },
          "execution_count": 2,
          "metadata": {},
          "output_type": "execute_result"
        }
      ],
      "source": [
        "exercise_facilities = pd.read_csv('https://raw.githubusercontent.com/HoGentTIN/dsai-labs/main/data/Exercise%20%26%20Productivity.csv', delimiter=';')\n",
        "exercise_facilities.head()"
      ]
    },
    {
      "cell_type": "markdown",
      "metadata": {},
      "source": [
        "### Stap 1: Plot maken (Boxplot\n",
        "- We maken eerst een boxplot om visueel te bekijken of er een verschil in productiviteit is tussen de groepen."
      ]
    },
    {
      "cell_type": "code",
      "execution_count": 3,
      "metadata": {},
      "outputs": [
        {
          "data": {
            "image/png": "[encoded data removed]",
            "text/plain": [
              "<Figure size 640x480 with 1 Axes>"
            ]
          },
          "metadata": {},
          "output_type": "display_data"
        }
      ],
      "source": [
        "sns.boxplot(data=exercise_facilities, x='Rating', y='Exerciser')\n",
        "plt.title('Productiviteit: wel of geen lichaamsbeweging')\n",
        "plt.show()"
      ]
    },
    {
      "cell_type": "markdown",
      "metadata": {},
      "source": [
        "### Stap 2: t-test voor twee onafhankelijke groepen uitvoeren"
      ]
    },
    {
      "cell_type": "code",
      "execution_count": 4,
      "metadata": {},
      "outputs": [
        {
          "name": "stdout",
          "output_type": "stream",
          "text": [
            "p-value: 0.012599586168839763\n"
          ]
        }
      ],
      "source": [
        "# Ratings per groep\n",
        "ratings_exercise = exercise_facilities[exercise_facilities['Exerciser'] == 'Yes']['Rating']\n",
        "ratings_noexercise = exercise_facilities[exercise_facilities['Exerciser'] == 'No']['Rating']\n",
        "\n",
        "# Onafhankelijke t-test\n",
        "t_stat, p_value = stats.ttest_ind(ratings_exercise, ratings_noexercise, equal_var=False)\n",
        "print(\"p-value:\", p_value)"
      ]
    },
    {
      "cell_type": "markdown",
      "metadata": {},
      "source": [
        "- Waarom ttest_ind()?\n",
        "    - Omdat we twee aparte, onafhankelijke groepen vergelijken.\n",
        "    - De ene groep zijn mensen die regelmatig bewegen, de andere zijn mensen die dat niet doen.\n",
        "\n",
        "- Waarom equal_var=False?\n",
        "    - Omdat we niet zomaar mogen aannemen dat de spreiding in beide groepen gelijk is.\n",
        "    → Dit maakt de test veiliger en betrouwbaarder (Welch’s t-test)."
      ]
    },
    {
      "cell_type": "code",
      "execution_count": 6,
      "metadata": {},
      "outputs": [
        {
          "name": "stdout",
          "output_type": "stream",
          "text": [
            "→ Regelmatige lichaamsbeweging leidt tot significant hogere productiviteit.\n"
          ]
        }
      ],
      "source": [
        "# Stap 4: Interpretatie van p-value\n",
        "if p_value < 0.05:\n",
        "    print(\"→ Regelmatige lichaamsbeweging leidt tot significant hogere productiviteit.\")\n",
        "else:\n",
        "    print(\"→ Geen significant verschil in productiviteit tussen de groepen.\")\n"
      ]
    },
    {
      "cell_type": "markdown",
      "metadata": {},
      "source": [
        "### Stap 4: Bereken Cohen's d (effectgrootte)\n",
        "\n",
        "- Waarom Cohen's d?\n",
        "- De p-waarde zegt alleen of het verschil bestaat, maar Cohen’s d zegt hoe groot het verschil is.\n",
        "\n",
        "    - 0.2 = klein effect\n",
        "\n",
        "    - 0.5 = gemiddeld effect\n",
        "\n",
        "    - 0.8 = groot effect"
      ]
    },
    {
      "cell_type": "code",
      "execution_count": 7,
      "metadata": {},
      "outputs": [
        {
          "name": "stdout",
          "output_type": "stream",
          "text": [
            "Cohen's d: 0.5550913421564817\n"
          ]
        }
      ],
      "source": [
        "def cohens_d(x, y):\n",
        "    nx = len(x)\n",
        "    ny = len(y)\n",
        "    pooled_std = np.sqrt(((nx - 1)*x.std()**2 + (ny - 1)*y.std()**2) / (nx + ny - 2))\n",
        "    return (x.mean() - y.mean()) / pooled_std\n",
        "\n",
        "cohen_d = cohens_d(ratings_exercise, ratings_noexercise)\n",
        "print(\"Cohen's d:\", cohen_d)"
      ]
    }
  ],
  "metadata": {
    "colab": {
      "provenance": []
    },
    "kernelspec": {
      "display_name": "Python 3",
      "name": "python3"
    },
    "language_info": {
      "codemirror_mode": {
        "name": "ipython",
        "version": 3
      },
      "file_extension": ".py",
      "mimetype": "text/x-python",
      "name": "python",
      "nbconvert_exporter": "python",
      "pygments_lexer": "ipython3",
      "version": "3.12.1"
    }
  },
  "nbformat": 4,
  "nbformat_minor": 0
}
