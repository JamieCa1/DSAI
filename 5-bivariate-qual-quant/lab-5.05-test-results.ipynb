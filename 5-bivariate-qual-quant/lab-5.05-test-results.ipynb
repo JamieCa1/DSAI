{
  "cells": [
    {
      "cell_type": "markdown",
      "metadata": {
        "id": "RzEWLSEPt30W"
      },
      "source": [
        "# Lab 5.05 - Two-sample t-test"
      ]
    },
    {
      "cell_type": "code",
      "execution_count": 1,
      "metadata": {
        "id": "QnEzGI2its2h"
      },
      "outputs": [],
      "source": [
        "# Package imports\n",
        "import numpy as np                                  # \"Scientific computing\"\n",
        "import scipy.stats as stats                         # Statistical tests\n",
        "\n",
        "import pandas as pd                                 # Dataframe\n",
        "import matplotlib.pyplot as plt                     # Basic visualisation\n",
        "from statsmodels.graphics.mosaicplot import mosaic  # Mosaic plot\n",
        "import seaborn as sns                               # Advanced dataviz"
      ]
    },
    {
      "cell_type": "markdown",
      "metadata": {},
      "source": [
        "## Exercise 5 - Comparing test results between groups\n",
        "\n",
        "A large number of students participated in a test that was organized in several successive sessions. Because creating a separate test for each session was practically unfeasible, the same questions were used in each session. Consequently, there is a danger that students could pass on information about the test to the groups that still had to come after. Later groups then have an advantage over the first. However, this also evident from the test scores?\n",
        "\n",
        "The file `test-results.csv` contains all results of the test. The score is a floating point number with maximum 40. If the score field is empty, this indicates a student that was absent. Each session is identified by a letter, in the order of the consecutive sessions.\n",
        "\n",
        "- Day 1: sessions A, B\n",
        "- Day 2: sessions C, D, E\n",
        "- Day 3: sessions F, G, H\n",
        "\n",
        "Sessions A and B were conducted on a different campus, so it could be assumed that there is little to no communication with students from other sessions.\n",
        "\n",
        "If information was passed on successfully, we expect the scores of later groups to be significantly better than the first.\n",
        "\n",
        "**Note** that the reverse reasoning does not necessarily hold: if it turns out that the result of later sessions is indeed significantly better, this does not necessarily mean that the (only) cause is passing on of information. There may also be other causes (e.g. “weaker” class groups happen to be scheduled earlier).\n",
        "\n",
        "1. Explore the data. Calculate the appropriate measures for central tendency and dispersion for the full dataset and for each session individually.\n",
        "2. Plot a bar graph of the average score per session with error bars denoting one standard deviation.\n",
        "3. Make a box plot of the scores divided per group. Compare the sessions listed below. Do you think there is a significant difference between the results? Can we suspect that information has been passed on?\n",
        "    - A and B\n",
        "    - C, D and E\n",
        "    - F, G and H\n",
        "    - C and H\n",
        "    - A and H\n",
        "4. Use an appropriate statistical test to determine whether the differences between the groups listed above are also *significant*. Can we conclude that the later groups score better or not?"
      ]
    },
    {
      "cell_type": "markdown",
      "metadata": {},
      "source": [
        "### Answers\n",
        "\n",
        "The average score in each session was:\n",
        "\n",
        "| Session | Average score |\n",
        "| :-----: | :------------ |\n",
        "|    A    | 13.1          |\n",
        "|    B    | 17.2          |\n",
        "|    C    | 18.8          |\n",
        "|    D    | 22.5          |\n",
        "|    E    | 18.9          |\n",
        "|    F    | 17.8          |\n",
        "|    G    | 18.7          |\n",
        "|    H    | 20.9          |\n",
        "\n",
        "The table below shows the p-value of a one-sided t-test of two samples between the given sessions:\n",
        "\n",
        "| Alt. hypothesis                       | p-value   |\n",
        "| :------------------------------------ | :-------- |\n",
        "| $\\overline{x}_A - \\overline{x}_B < 0$ | 0.05356   |\n",
        "| $\\overline{x}_C - \\overline{x}_D < 0$ | 0.01343   |\n",
        "| $\\overline{x}_E - \\overline{x}_D < 0$ | 0.02356   |\n",
        "| $\\overline{x}_F - \\overline{x}_H < 0$ | 0.05767   |\n",
        "| $\\overline{x}_G - \\overline{x}_H < 0$ | 0.1156    |\n",
        "| $\\overline{x}_C - \\overline{x}_H < 0$ | 0.1463    |\n",
        "| $\\overline{x}_A - \\overline{x}_H < 0$ | 0.0003289 |\n",
        "\n",
        "Remarks:\n",
        "\n",
        "- The difference between **session A and B**, although it seems quite large, is insignificant for $\\alpha = 0.05$\n",
        "- **Sessions C, D and E**:\n",
        "  - Session D had the highest score. Sessions C and E had similar results, at least the average score was similar.\n",
        "  - Session D has a significantly higher score than either sessions C and E. However, session E came _after_ D, so the cause is definitely not the passing of information.\n",
        "- The differences between **sessions F, G and H** insignificant\n",
        "- **Sessions C and H** are respectively the first and the last session on the same campus. So, if there is an opportunity to pass on information about the test, there's definitely enough time between these two sessions. However, the difference is not significant!\n",
        "- The difference between **sessions A and H** are significant, but since they took place on different campuses, it is questionable that this difference is caused by passing on information."
      ]
    },
    {
      "cell_type": "markdown",
      "metadata": {},
      "source": [
        "### Stap 1: Data inladen en voorbereiden"
      ]
    },
    {
      "cell_type": "code",
      "execution_count": 2,
      "metadata": {},
      "outputs": [],
      "source": [
        "import pandas as pd\n",
        "\n",
        "# Data inladen\n",
        "df = pd.read_csv(\"https://raw.githubusercontent.com/HoGentTIN/dsai-labs/main/data/test-results.csv\")\n",
        "\n",
        "# Verwijder lege scores (studenten die afwezig waren)\n",
        "df = df.dropna(subset=['Score'])\n"
      ]
    },
    {
      "cell_type": "markdown",
      "metadata": {},
      "source": [
        " ### Stap 2: Centrale tendens + spreiding berekenen"
      ]
    },
    {
      "cell_type": "code",
      "execution_count": 3,
      "metadata": {},
      "outputs": [
        {
          "name": "stdout",
          "output_type": "stream",
          "text": [
            "Gemiddelde: 18.788974358974357\n",
            "Standaarddeviatie: 7.014017186104409\n",
            "          mean   std  count\n",
            "Session                    \n",
            "A        13.12  6.04     17\n",
            "B        17.21  9.15     21\n",
            "C        18.80  6.54     25\n",
            "D        22.45  4.64     26\n",
            "E        18.85  7.01     22\n",
            "F        17.81  6.27     27\n",
            "G        18.74  5.26     29\n",
            "H        20.95  8.13     28\n"
          ]
        }
      ],
      "source": [
        "# Voor hele dataset\n",
        "print(\"Gemiddelde:\", df['Score'].mean())\n",
        "print(\"Standaarddeviatie:\", df['Score'].std())\n",
        "\n",
        "# Per sessie\n",
        "summary = df.groupby('Session')['Score'].agg(['mean', 'std', 'count']).round(2)\n",
        "print(summary)\n"
      ]
    },
    {
      "cell_type": "markdown",
      "metadata": {},
      "source": [
        "### Stap 3: Barplot met foutbalken (error bars)"
      ]
    },
    {
      "cell_type": "code",
      "execution_count": 11,
      "metadata": {},
      "outputs": [
        {
          "data": {
            "image/png": "[encoded data removed]",
            "text/plain": [
              "<Figure size 640x480 with 1 Axes>"
            ]
          },
          "metadata": {},
          "output_type": "display_data"
        }
      ],
      "source": [
        "# Balkdiagram: gemiddelde score per sessie\n",
        "summary.plot(kind='bar', y='mean', yerr='std', capsize=4, legend=False)\n",
        "plt.ylabel('Gemiddelde score')\n",
        "plt.title('Gemiddelde score per sessie (met standaarddeviatie)')\n",
        "plt.show()"
      ]
    },
    {
      "cell_type": "markdown",
      "metadata": {},
      "source": [
        " ### Stap 4: Boxplot per sessie"
      ]
    },
    {
      "cell_type": "code",
      "execution_count": 6,
      "metadata": {},
      "outputs": [
        {
          "data": {
            "image/png": "[encoded data removed]",
            "text/plain": [
              "<Figure size 640x480 with 1 Axes>"
            ]
          },
          "metadata": {},
          "output_type": "display_data"
        }
      ],
      "source": [
        "sns.boxplot(data=df, x='Session', y='Score')\n",
        "plt.title('Boxplot scores per sessie')\n",
        "plt.ylabel('Score')\n",
        "plt.xlabel('Sessie')\n",
        "plt.show()"
      ]
    },
    {
      "cell_type": "markdown",
      "metadata": {},
      "source": [
        "### Stap 5: Hypothese testen tussen sessies (t-test éénzijdig)\n",
        "- Welke analyse is daarvoor geschikt?\n",
        "    - Twee onafhankelijke groepen → t-toets voor onafhankelijke steekproeven"
      ]
    },
    {
      "cell_type": "code",
      "execution_count": 12,
      "metadata": {},
      "outputs": [
        {
          "name": "stdout",
          "output_type": "stream",
          "text": [
            "A < B: p-value = 0.053557\n",
            "C < D: p-value = 0.013433\n",
            "E < D: p-value = 0.023558\n",
            "F < H: p-value = 0.057674\n",
            "G < H: p-value = 0.115559\n",
            "C < H: p-value = 0.146311\n",
            "A < H: p-value = 0.000329\n"
          ]
        },
        {
          "data": {
            "text/plain": [
              "np.float64(0.00032887095672805235)"
            ]
          },
          "execution_count": 12,
          "metadata": {},
          "output_type": "execute_result"
        }
      ],
      "source": [
        "from scipy.stats import ttest_ind\n",
        "def one_sided_ttest(df, sessie1, sessie2):\n",
        "    scores1 = df[df['Session'] == sessie1]['Score']\n",
        "    scores2 = df[df['Session'] == sessie2]['Score']\n",
        "    \n",
        "    # t-test uitvoeren\n",
        "    result = ttest_ind(scores1, scores2, alternative='less', equal_var=False)\n",
        "    p_value = result.pvalue\n",
        "    print(f\"{sessie1} < {sessie2}: p-value = {round(result.pvalue, 6)}\")\n",
        "    return p_value\n",
        "    \n",
        "one_sided_ttest(df, 'A', 'B')\n",
        "one_sided_ttest(df, 'C', 'D')\n",
        "one_sided_ttest(df, 'E', 'D')\n",
        "one_sided_ttest(df, 'F', 'H')\n",
        "one_sided_ttest(df, 'G', 'H')\n",
        "one_sided_ttest(df, 'C', 'H')\n",
        "one_sided_ttest(df, 'A', 'H')\n",
        "\n"
      ]
    },
    {
      "cell_type": "markdown",
      "metadata": {},
      "source": [
        "### Hoe interpreteer je p-waarden?"
      ]
    },
    {
      "cell_type": "code",
      "execution_count": 14,
      "metadata": {},
      "outputs": [
        {
          "name": "stdout",
          "output_type": "stream",
          "text": [
            "A < H: p-value = 0.000329\n",
            "Verschil is significant: latere groep scoort beter.\n"
          ]
        }
      ],
      "source": [
        "p_value = one_sided_ttest(df, 'A', 'H')\n",
        "\n",
        "if p_value < 0.05:\n",
        "    print(\"Verschil is significant: latere groep scoort beter.\")\n",
        "else:\n",
        "    print(\"Geen significant verschil.\")\n"
      ]
    }
  ],
  "metadata": {
    "colab": {
      "provenance": []
    },
    "kernelspec": {
      "display_name": "Python 3",
      "name": "python3"
    },
    "language_info": {
      "codemirror_mode": {
        "name": "ipython",
        "version": 3
      },
      "file_extension": ".py",
      "mimetype": "text/x-python",
      "name": "python",
      "nbconvert_exporter": "python",
      "pygments_lexer": "ipython3",
      "version": "3.13.2"
    }
  },
  "nbformat": 4,
  "nbformat_minor": 0
}
