{
  "cells": [
    {
      "cell_type": "markdown",
      "metadata": {
        "id": "RzEWLSEPt30W"
      },
      "source": [
        "# Lab 5.04 - Two-sample t-test"
      ]
    },
    {
      "cell_type": "code",
      "execution_count": 1,
      "metadata": {
        "id": "QnEzGI2its2h"
      },
      "outputs": [],
      "source": [
        "# Package imports\n",
        "import numpy as np                                  # \"Scientific computing\"\n",
        "import scipy.stats as stats                         # Statistical tests\n",
        "\n",
        "import pandas as pd                                 # Dataframe\n",
        "import matplotlib.pyplot as plt                     # Basic visualisation\n",
        "from statsmodels.graphics.mosaicplot import mosaic  # Mosaic plot\n",
        "import seaborn as sns                               # Advanced dataviz"
      ]
    },
    {
      "cell_type": "markdown",
      "metadata": {},
      "source": [
        "## Exercise 4 - Android Persistence libraries performance comparison\n",
        "\n",
        "We analyzed the results of performance measurements for Android persistence libraries (Akin, 2016). Experiments were performed for different combinations of *DataSize* (Small, Medium, Large) and *PersistenceType* (GreenDAO, Realm, SharedPreferences, SQLite). For each data size, we were able to determine which persistence type yielded the best results.\n",
        "\n",
        "Now we will verify if the best persistence type at first glance is also *significantly* better than the competition.\n",
        "\n",
        "Specifically: Using a two-sample test for each data size, verify that the mean of the best persistence type is significantly lower than the mean of the second best and the worst scoring type.\n",
        "\n",
        "Can we maintain the conclusion that for a given data size, one persistence type is best, i.e. is significantly better than any other persistence type?"
      ]
    },
    {
      "cell_type": "code",
      "execution_count": 2,
      "metadata": {},
      "outputs": [
        {
          "data": {
            "application/vnd.microsoft.datawrangler.viewer.v0+json": {
              "columns": [
                {
                  "name": "index",
                  "rawType": "int64",
                  "type": "integer"
                },
                {
                  "name": "Time",
                  "rawType": "float64",
                  "type": "float"
                },
                {
                  "name": "PersistenceType",
                  "rawType": "object",
                  "type": "string"
                },
                {
                  "name": "DataSize",
                  "rawType": "object",
                  "type": "string"
                }
              ],
              "conversionMethod": "pd.DataFrame",
              "ref": "b7a6cebc-2d30-4f0e-ba22-9b60479fce1f",
              "rows": [
                [
                  "0",
                  "1.81",
                  "Sharedpreferences",
                  "Small"
                ],
                [
                  "1",
                  "1.35",
                  "Sharedpreferences",
                  "Small"
                ],
                [
                  "2",
                  "1.84",
                  "Sharedpreferences",
                  "Small"
                ],
                [
                  "3",
                  "1.54",
                  "Sharedpreferences",
                  "Small"
                ],
                [
                  "4",
                  "1.81",
                  "Sharedpreferences",
                  "Small"
                ]
              ],
              "shape": {
                "columns": 3,
                "rows": 5
              }
            },
            "text/html": [
              "<div>\n",
              "<style scoped>\n",
              "    .dataframe tbody tr th:only-of-type {\n",
              "        vertical-align: middle;\n",
              "    }\n",
              "\n",
              "    .dataframe tbody tr th {\n",
              "        vertical-align: top;\n",
              "    }\n",
              "\n",
              "    .dataframe thead th {\n",
              "        text-align: right;\n",
              "    }\n",
              "</style>\n",
              "<table border=\"1\" class=\"dataframe\">\n",
              "  <thead>\n",
              "    <tr style=\"text-align: right;\">\n",
              "      <th></th>\n",
              "      <th>Time</th>\n",
              "      <th>PersistenceType</th>\n",
              "      <th>DataSize</th>\n",
              "    </tr>\n",
              "  </thead>\n",
              "  <tbody>\n",
              "    <tr>\n",
              "      <th>0</th>\n",
              "      <td>1.81</td>\n",
              "      <td>Sharedpreferences</td>\n",
              "      <td>Small</td>\n",
              "    </tr>\n",
              "    <tr>\n",
              "      <th>1</th>\n",
              "      <td>1.35</td>\n",
              "      <td>Sharedpreferences</td>\n",
              "      <td>Small</td>\n",
              "    </tr>\n",
              "    <tr>\n",
              "      <th>2</th>\n",
              "      <td>1.84</td>\n",
              "      <td>Sharedpreferences</td>\n",
              "      <td>Small</td>\n",
              "    </tr>\n",
              "    <tr>\n",
              "      <th>3</th>\n",
              "      <td>1.54</td>\n",
              "      <td>Sharedpreferences</td>\n",
              "      <td>Small</td>\n",
              "    </tr>\n",
              "    <tr>\n",
              "      <th>4</th>\n",
              "      <td>1.81</td>\n",
              "      <td>Sharedpreferences</td>\n",
              "      <td>Small</td>\n",
              "    </tr>\n",
              "  </tbody>\n",
              "</table>\n",
              "</div>"
            ],
            "text/plain": [
              "   Time    PersistenceType DataSize\n",
              "0  1.81  Sharedpreferences    Small\n",
              "1  1.35  Sharedpreferences    Small\n",
              "2  1.84  Sharedpreferences    Small\n",
              "3  1.54  Sharedpreferences    Small\n",
              "4  1.81  Sharedpreferences    Small"
            ]
          },
          "execution_count": 2,
          "metadata": {},
          "output_type": "execute_result"
        }
      ],
      "source": [
        "android = pd.read_csv(\n",
        "    \"https://raw.githubusercontent.com/HoGentTIN/dsai-labs/main/data/android_persistence_cpu.csv\", \n",
        "    delimiter=';'\n",
        ")\n",
        "android.head()"
      ]
    },
    {
      "cell_type": "code",
      "execution_count": 3,
      "metadata": {},
      "outputs": [
        {
          "name": "stdout",
          "output_type": "stream",
          "text": [
            "['Small' 'Medium' 'Large']\n",
            "['Sharedpreferences' 'GreenDAO' 'SQLLite' 'Realm']\n"
          ]
        }
      ],
      "source": [
        "print(android['DataSize'].unique())\n",
        "print(android['PersistenceType'].unique())\n"
      ]
    },
    {
      "cell_type": "code",
      "execution_count": null,
      "metadata": {},
      "outputs": [
        {
          "name": "stdout",
          "output_type": "stream",
          "text": [
            "  Data Size   Best           2nd Best   p-value\n",
            "0     Small  Realm  Sharedpreferences  0.339847\n",
            "1    Medium  Realm           GreenDAO  0.000501\n",
            "2     Large  Realm            SQLLite  0.003400\n"
          ]
        }
      ],
      "source": [
        "from scipy.stats import ttest_ind\n",
        "def compare_best_vs_second(data, size):\n",
        "    subset = data[data['DataSize'] == size]\n",
        "\n",
        "    # Gemiddelde tijden per persistence type\n",
        "    means = subset.groupby('PersistenceType')['Time'].mean().sort_values()\n",
        "    # De means bevat zowel de index (namen) als de Time,\n",
        "    # maar stel voor dat wij willen dat means enkel Time bevat dan doen wij het via het volgende: \n",
        "    # means_values = means.values\n",
        "\n",
        "    best = means.index[0]\n",
        "    second_best = means.index[1]\n",
        "    \n",
        "    # Selecteer Time-scores\n",
        "    best_times = subset[subset['PersistenceType'] == best]['Time']\n",
        "    second_times = subset[subset['PersistenceType'] == second_best]['Time']\n",
        "\n",
        "    # Onafhankelijke t-test\n",
        "    t_stat, p_value = ttest_ind(best_times, second_times, equal_var=False)\n",
        "    \n",
        "    return {\n",
        "        'Data Size': size,\n",
        "        'Best': best,\n",
        "        '2nd Best': second_best,\n",
        "        'p-value': round(p_value, 6)  # afronden voor mooiere tabel\n",
        "    }\n",
        "\n",
        "# Resultaten opslaan\n",
        "results = []\n",
        "for size in ['Small', 'Medium', 'Large']:\n",
        "    results.append(compare_best_vs_second(android, size))\n",
        "\n",
        "# Omzetten naar dataframe om overzichtelijk te tonen\n",
        "result_df = pd.DataFrame(results)\n",
        "print(result_df)"
      ]
    },
    {
      "cell_type": "markdown",
      "metadata": {},
      "source": [
        "### Answers\n",
        "\n",
        "The table below provides an overview of the best and second best persistence type for each data size (based on the sample mean).\n",
        "\n",
        "| Data Size | Best  | 2nd Best          | p-value   |\n",
        "| :-------- | :---- | :---------------- | :-------- |\n",
        "| Small     | Realm | SharedPreferences | 0.1699    |\n",
        "| Medium    | Realm | GreenDAO          | 0.0002506 |\n",
        "| Large     | Realm | SQLite            | 0.0017    |\n",
        "\n",
        "The conclusion of Akin (2016), which states that Realm is the most efficient persistence type, still holds, but for the small data sets the difference is not significant.\n",
        "\n",
        "Note that we have not explicitly selected a specific significance level in advance. However, for $\\alpha$ = 0.1, 0.05 or even 0.01, the same conclusion can be drawn."
      ]
    }
  ],
  "metadata": {
    "colab": {
      "provenance": []
    },
    "kernelspec": {
      "display_name": "Python 3",
      "name": "python3"
    },
    "language_info": {
      "codemirror_mode": {
        "name": "ipython",
        "version": 3
      },
      "file_extension": ".py",
      "mimetype": "text/x-python",
      "name": "python",
      "nbconvert_exporter": "python",
      "pygments_lexer": "ipython3",
      "version": "3.13.2"
    }
  },
  "nbformat": 4,
  "nbformat_minor": 0
}
