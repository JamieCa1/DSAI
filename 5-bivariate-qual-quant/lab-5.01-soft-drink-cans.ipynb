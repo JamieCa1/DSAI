{
 "cells": [
  {
   "cell_type": "markdown",
   "metadata": {},
   "source": [
    "# Lab 5.01 - Two-sample t-test"
   ]
  },
  {
   "cell_type": "code",
   "execution_count": 2,
   "metadata": {},
   "outputs": [],
   "source": [
    "# Package imports\n",
    "import numpy as np                                  # \"Scientific computing\" \n",
    "import scipy.stats as stats                         # Statistical tests\n",
    "\n",
    "import pandas as pd                                 # Dataframe\n",
    "import matplotlib.pyplot as plt                     # Basic visualisation\n",
    "from statsmodels.graphics.mosaicplot import mosaic  # Mosaic plot\n",
    "import seaborn as sns                               # Advanced dataviz"
   ]
  },
  {
   "cell_type": "markdown",
   "metadata": {},
   "source": [
    "## Exercise 1 - soft-drink cans\n",
    "\n",
    "Assume that a soft-drink company is considering a style change to its current can, which has been the company’s trademark for many years. To determine whether this new style is popular with consumers, the company runs a number of focus group sessions around the country. At each of these sessions, randomly selected consumers are allowed to examine the new and traditional styles, exchange ideas, and offer their opinions. \n",
    "Eventually, they fill out a form where, among other questions, they are asked to respond to \n",
    "the following items, each on a scale of 1 to 7, 7 being the best:\n",
    "- Rate the attractiveness of the traditional-style can (AO).\n",
    "- Rate the attractiveness of the new-style can (AN).\n",
    "- Rate the likelihood that you would buy the product with the traditional-style can (WBO).\n",
    "- Rate the likelihood that you would buy the product with the new-style can (WBN).\n",
    "\n",
    "(A and WB stand for \"attractiveness\" and \"would buy\", and O and N stand for \"old\" and \"new\".)\n",
    "\n",
    "Use a test to see whether \n",
    "consumers rate the attractiveness, and their likelihood to purchase, higher for a new-style can than for the traditional-style can. First make a boxplot.\n",
    "\n",
    "A few results\n",
    "- AO vs AN: pvalue=1.32316e-07 < 0.05 => the attractiveness of the new-style can is significantly higher than the attractiveness of the traditional-style can\n",
    "\n",
    "- WBO vs WBN: pvalue=2.00845995e-06 < 0.05 => the likelihood to buy the new-style can is significantly higher than the likelihood to buy the traditional-style can\n"
   ]
  },
  {
   "cell_type": "markdown",
   "metadata": {},
   "source": [
    "- Er zijn twee vergelijkingen:\n",
    "\n",
    "    1. AO vs AN (attractiviteit: oud vs nieuw)\n",
    "\n",
    "    2. WBO vs WBN (koopbereidheid: oud vs nieuw)\n",
    "\n",
    "- Aangezien dezelfde personen beide blikjes beoordelen, is dit een gepaarde t-test (paired t-test)."
   ]
  },
  {
   "cell_type": "code",
   "execution_count": 3,
   "metadata": {},
   "outputs": [
    {
     "data": {
      "application/vnd.microsoft.datawrangler.viewer.v0+json": {
       "columns": [
        {
         "name": "index",
         "rawType": "int64",
         "type": "integer"
        },
        {
         "name": "Consumer",
         "rawType": "int64",
         "type": "integer"
        },
        {
         "name": "AO",
         "rawType": "int64",
         "type": "integer"
        },
        {
         "name": "AN",
         "rawType": "int64",
         "type": "integer"
        },
        {
         "name": "WBO",
         "rawType": "int64",
         "type": "integer"
        },
        {
         "name": "WBN",
         "rawType": "int64",
         "type": "integer"
        }
       ],
       "ref": "6913f86b-29b8-4f30-a5eb-dc8acd71e11b",
       "rows": [
        [
         "0",
         "1",
         "5",
         "7",
         "4",
         "1"
        ],
        [
         "1",
         "2",
         "7",
         "7",
         "6",
         "6"
        ],
        [
         "2",
         "3",
         "6",
         "7",
         "7",
         "6"
        ],
        [
         "3",
         "4",
         "1",
         "3",
         "1",
         "1"
        ],
        [
         "4",
         "5",
         "3",
         "4",
         "1",
         "1"
        ]
       ],
       "shape": {
        "columns": 5,
        "rows": 5
       }
      },
      "text/html": [
       "<div>\n",
       "<style scoped>\n",
       "    .dataframe tbody tr th:only-of-type {\n",
       "        vertical-align: middle;\n",
       "    }\n",
       "\n",
       "    .dataframe tbody tr th {\n",
       "        vertical-align: top;\n",
       "    }\n",
       "\n",
       "    .dataframe thead th {\n",
       "        text-align: right;\n",
       "    }\n",
       "</style>\n",
       "<table border=\"1\" class=\"dataframe\">\n",
       "  <thead>\n",
       "    <tr style=\"text-align: right;\">\n",
       "      <th></th>\n",
       "      <th>Consumer</th>\n",
       "      <th>AO</th>\n",
       "      <th>AN</th>\n",
       "      <th>WBO</th>\n",
       "      <th>WBN</th>\n",
       "    </tr>\n",
       "  </thead>\n",
       "  <tbody>\n",
       "    <tr>\n",
       "      <th>0</th>\n",
       "      <td>1</td>\n",
       "      <td>5</td>\n",
       "      <td>7</td>\n",
       "      <td>4</td>\n",
       "      <td>1</td>\n",
       "    </tr>\n",
       "    <tr>\n",
       "      <th>1</th>\n",
       "      <td>2</td>\n",
       "      <td>7</td>\n",
       "      <td>7</td>\n",
       "      <td>6</td>\n",
       "      <td>6</td>\n",
       "    </tr>\n",
       "    <tr>\n",
       "      <th>2</th>\n",
       "      <td>3</td>\n",
       "      <td>6</td>\n",
       "      <td>7</td>\n",
       "      <td>7</td>\n",
       "      <td>6</td>\n",
       "    </tr>\n",
       "    <tr>\n",
       "      <th>3</th>\n",
       "      <td>4</td>\n",
       "      <td>1</td>\n",
       "      <td>3</td>\n",
       "      <td>1</td>\n",
       "      <td>1</td>\n",
       "    </tr>\n",
       "    <tr>\n",
       "      <th>4</th>\n",
       "      <td>5</td>\n",
       "      <td>3</td>\n",
       "      <td>4</td>\n",
       "      <td>1</td>\n",
       "      <td>1</td>\n",
       "    </tr>\n",
       "  </tbody>\n",
       "</table>\n",
       "</div>"
      ],
      "text/plain": [
       "   Consumer  AO  AN  WBO  WBN\n",
       "0         1   5   7    4    1\n",
       "1         2   7   7    6    6\n",
       "2         3   6   7    7    6\n",
       "3         4   1   3    1    1\n",
       "4         5   3   4    1    1"
      ]
     },
     "execution_count": 3,
     "metadata": {},
     "output_type": "execute_result"
    }
   ],
   "source": [
    "SoftDrink = pd.read_csv('https://raw.githubusercontent.com/HoGentTIN/dsai-labs/main/data/Soft-Drink%20Cans.csv', delimiter=';')\n",
    "SoftDrink.head()"
   ]
  },
  {
   "cell_type": "markdown",
   "metadata": {},
   "source": [
    "### 2. Visualisatie (boxplots maken om verschillen te zien)"
   ]
  },
  {
   "cell_type": "code",
   "execution_count": 4,
   "metadata": {},
   "outputs": [
    {
     "data": {
      "image/png": "[encoded data removed]",
      "text/plain": [
       "<Figure size 640x480 with 1 Axes>"
      ]
     },
     "metadata": {},
     "output_type": "display_data"
    },
    {
     "data": {
      "image/png": "[encoded data removed]",
      "text/plain": [
       "<Figure size 640x480 with 1 Axes>"
      ]
     },
     "metadata": {},
     "output_type": "display_data"
    }
   ],
   "source": [
    "# Aantrekkelijkheid boxplot (AO vs AN)\n",
    "sns.boxplot(data=SoftDrink[['AO', 'AN']])\n",
    "plt.title('Attractiveness: Traditional (AO) vs New (AN)')\n",
    "plt.ylabel('Score (1–7)')\n",
    "plt.show()\n",
    "\n",
    "# Koopbereidheid boxplot (WBO vs WBN)\n",
    "sns.boxplot(data=SoftDrink[['WBO', 'WBN']])\n",
    "plt.title('Likelihood to Buy: Traditional (WBO) vs New (WBN)')\n",
    "plt.ylabel('Score (1–7)')\n",
    "plt.show()\n"
   ]
  },
  {
   "cell_type": "markdown",
   "metadata": {},
   "source": [
    "###  3. Paired t-tests uitvoeren + interpretatie"
   ]
  },
  {
   "cell_type": "markdown",
   "metadata": {},
   "source": [
    "- Waarom gebruiken we ttest_rel() (gepaarde t-test) hier?\n",
    "    - Omdat dezelfde mensen beide blikjes hebben beoordeeld.\n",
    "\n",
    "- Elk persoon gaf een score voor oud én nieuw blikje.\n",
    "\n",
    "- Hun antwoorden zijn dus gepaard: ze horen bij elkaar.\n",
    "\n",
    "> 👉 Dus je mag niet doen alsof het 2 onafhankelijke groepen zijn!"
   ]
  },
  {
   "cell_type": "markdown",
   "metadata": {},
   "source": [
    " ### Ezelsbruggetje examen:\n",
    "\n",
    "| Situatie                                                              | Test                          |\n",
    "| --------------------------------------------------------------------- | ----------------------------- |\n",
    "| **Dezelfde personen** geven **twee beoordelingen** (bijv. voor en na) |  `ttest_rel()` (paired)      |\n",
    "| **Twee onafhankelijke groepen** (groep A vs groep B)                  |  `ttest_ind()` (independent) |\n"
   ]
  },
  {
   "cell_type": "code",
   "execution_count": 14,
   "metadata": {},
   "outputs": [
    {
     "name": "stdout",
     "output_type": "stream",
     "text": [
      "AO vs AN → p-value = 0.00000026\n",
      "De aantrekkelijkheid van de nieuwe stijl is significant hoger.\n",
      "WBO vs WBN → p-value = 0.00000402\n",
      "De koopintentie voor de nieuwe stijl is significant hoger.\n"
     ]
    }
   ],
   "source": [
    "from scipy.stats import ttest_rel\n",
    "\n",
    "# Aantrekkelijkheid: AO vs AN\n",
    "t_stat_A, p_value_A = ttest_rel(SoftDrink['AN'], SoftDrink['AO'])\n",
    "print(f\"AO vs AN → p-value = {p_value_A:.8f}\")\n",
    "if p_value_A < 0.05:\n",
    "    print(\"De aantrekkelijkheid van de nieuwe stijl is significant hoger.\")\n",
    "else:\n",
    "    print(\"Geen significant verschil in aantrekkelijkheid.\")\n",
    "\n",
    "# Koopbereidheid: WBO vs WBN\n",
    "t_stat_WB, p_value_WB = ttest_rel(SoftDrink['WBN'], SoftDrink['WBO'])\n",
    "print(f\"WBO vs WBN → p-value = {p_value_WB:.8f}\")\n",
    "if p_value_WB < 0.05:\n",
    "    print(\"De koopintentie voor de nieuwe stijl is significant hoger.\")\n",
    "else:\n",
    "    print(\"Geen significant verschil in koopintentie.\")\n"
   ]
  },
  {
   "cell_type": "markdown",
   "metadata": {},
   "source": [
    "| Begrip              | Betekenis                                                             |\n",
    "| ------------------- | --------------------------------------------------------------------- |\n",
    "| **Nulhypothese H₀** | Er is **geen verschil** → het verschil in gemiddelden = 0             |\n",
    "| **Alternatieve H₁** | Er **is wél een verschil** → het verschil in gemiddelden ≠ 0 (of > 0) |\n",
    "| **p < 0.05**        | We **verwerpen H₀** → het verschil is **significant**                 |\n",
    "| **p ≥ 0.05**        | We houden H₀ → het verschil kan op **toeval** berusten                |\n",
    "\n",
    "---"
   ]
  },
  {
   "cell_type": "markdown",
   "metadata": {},
   "source": [
    "### Belangrijk opmerking : \n",
    "- Bij de waarde van de t statistiek weten wij als het over de 1ste of 2de element gaat via: \n",
    "\n",
    "    - Positieve t-statistiek → eerste kolom (AN) scoort hoger dan tweede kolom (AO)\n",
    "\n",
    "    - Negatieve t-statistiek → eerste kolom (AN) scoort lager dan tweede kolom (AO)\n",
    "\n",
    "---"
   ]
  },
  {
   "cell_type": "code",
   "execution_count": 12,
   "metadata": {},
   "outputs": [
    {
     "name": "stdout",
     "output_type": "stream",
     "text": [
      "→ De nieuwe stijl wordt als significant aantrekkelijker beoordeeld.\n",
      "→ Consumenten zijn significant meer geneigd het nieuwe blikje te kopen.\n"
     ]
    }
   ],
   "source": [
    "# Interpretatie\n",
    "if p_value_A < 0.05:\n",
    "    print(\"→ De nieuwe stijl wordt als significant aantrekkelijker beoordeeld.\")\n",
    "else:\n",
    "    print(\"→ Er is geen significant verschil in aantrekkelijkheid.\")\n",
    "\n",
    "if p_value_WB < 0.05:\n",
    "    print(\"→ Consumenten zijn significant meer geneigd het nieuwe blikje te kopen.\")\n",
    "else:\n",
    "    print(\"→ Er is geen significant verschil in koopbereidheid.\")\n"
   ]
  }
 ],
 "metadata": {
  "kernelspec": {
   "display_name": "Python 3",
   "language": "python",
   "name": "python3"
  },
  "language_info": {
   "codemirror_mode": {
    "name": "ipython",
    "version": 3
   },
   "file_extension": ".py",
   "mimetype": "text/x-python",
   "name": "python",
   "nbconvert_exporter": "python",
   "pygments_lexer": "ipython3",
   "version": "3.12.1"
  },
  "orig_nbformat": 4
 },
 "nbformat": 4,
 "nbformat_minor": 2
}
