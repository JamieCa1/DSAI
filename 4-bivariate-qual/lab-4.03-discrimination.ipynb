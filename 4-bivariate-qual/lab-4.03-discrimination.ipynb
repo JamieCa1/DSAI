{
  "cells": [
    {
      "cell_type": "markdown",
      "metadata": {
        "id": "xDBTRYzLSeM_"
      },
      "source": [
        "# Lab 4.03 - Bivariate Analysis of Qualitative Data\n"
      ]
    },
    {
      "cell_type": "code",
      "execution_count": 1,
      "metadata": {
        "id": "j8I-eUfMSeNF"
      },
      "outputs": [],
      "source": [
        "# Importing the necessary packages\n",
        "import numpy as np                                  # \"Scientific computing\"\n",
        "import scipy.stats as stats                         # Statistical tests\n",
        "\n",
        "import pandas as pd                                 # Data Frame\n",
        "from pandas.api.types import CategoricalDtype\n",
        "\n",
        "import matplotlib.pyplot as plt                     # Basic visualisation\n",
        "from statsmodels.graphics.mosaicplot import mosaic  # Mosaic diagram\n",
        "import seaborn as sns                               # Advanced data visualisation"
      ]
    },
    {
      "cell_type": "markdown",
      "metadata": {
        "id": "YBt7tOyqovNc"
      },
      "source": [
        "## Exercise 3 - Discrimination in schoolteacher hiring\n",
        "\n",
        "African Americans in a St. Louis suburb sued the city \n",
        "claiming they were discriminated against in schoolteacher hiring. Of the city's population, 5.7% were \n",
        "African American; of 405 teachers in the school system, 15 were African American. Set up appropriate \n",
        "hypotheses and determine whether African Americans \n",
        "are underrepresented.  \n",
        "Calculate the standardized residuals. \n",
        "\n",
        "Results of the main calculations:\n",
        "- Chi-squared        χ² = 3.0027\n",
        "- Critical value      g = 3.8415\n",
        "- p-value             p = 0.0831\n",
        "- standardized residuals for african american = -1.7328 > - 2"
      ]
    },
    {
      "cell_type": "markdown",
      "metadata": {},
      "source": [
        "## ✅ STAP 1 – Hypothesen opstellen\n",
        "- **$( H_0 $)**: Het percentage Afrikaanse Amerikanen onder de leraren is representatief voor de populatie (geen discriminatie).\n",
        "- **$( H_1 $)**: Afrikaanse Amerikanen zijn **ondervertegenwoordigd** (discriminatie → verschil met populatie).\n"
      ]
    },
    {
      "cell_type": "markdown",
      "metadata": {},
      "source": [
        "## ✅ STAP 2 – Gegeven data omzetten naar tabelvorm"
      ]
    },
    {
      "cell_type": "code",
      "execution_count": null,
      "metadata": {
        "id": "VxX_Gzrustbn"
      },
      "outputs": [
        {
          "name": "stdout",
          "output_type": "stream",
          "text": [
            "405\n"
          ]
        }
      ],
      "source": [
        "import numpy as np\n",
        "\n",
        "# Aantal Afro-Amerikaanse leerkrachten (geobserveerd)\n",
        "observed = np.array([15, 390])  # [African American, Not African American]\n",
        "n = observed.sum()\n",
        "\n",
        "# Populatieverhouding\n",
        "expected_p = np.array([0.057, 0.943])\n",
        "expected = expected_p * n\n",
        "\n",
        "# Observed: 15 Afr.American van 405\n",
        "# Expected: volgens 5.7% van de populatie"
      ]
    },
    {
      "cell_type": "markdown",
      "metadata": {},
      "source": [
        "## ✅ STAP 3 – Voer chi-squared test uit"
      ]
    },
    {
      "cell_type": "markdown",
      "metadata": {},
      "source": [
        "###  Verschil tussen `chisquare()` en `chi2_contingency()`\n",
        "\n",
        "| Functie                    | Wanneer gebruik je het?                                                                 | Wat analyseert het?                          |\n",
        "|----------------------------|------------------------------------------------------------------------------------------|-----------------------------------------------|\n",
        "| `stats.chisquare()`        |  Als je **één variabele** hebt en je vergelijkt de **geobserveerde vs verwachte verdeling** | Goodness-of-Fit test                          |\n",
        "| `stats.chi2_contingency()` |  Als je **twee categorische variabelen** hebt en je wil weten of ze **(on)afhankelijk** zijn | Test voor onafhankelijkheid (contingency table) |\n",
        "\n",
        "---\n",
        "\n",
        "### Voorbeelden\n",
        "\n",
        "**Gebruik `chisquare()` bij:**\n",
        "```python\n",
        "# Goodness-of-Fit test (1 variabele)\n",
        "observed = [15, 390]\n",
        "expected = [23.085, 381.915]\n",
        "stats.chisquare(f_obs=observed, f_exp=expected)\n",
        "```\n",
        "\n",
        "**Gebruik `chi2_contingency()` bij:**\n",
        "```python\n",
        "# Verband tussen 2 categorische variabelen\n",
        "observed = pd.crosstab(df[\"Gender\"], df[\"Preference\"])\n",
        "stats.chi2_contingency(observed)\n",
        "```\n",
        "\n",
        "---\n",
        "\n",
        "### 🎯 Kort samengevat:\n",
        "\n",
        "| Type analyse                          | Te gebruiken functie          |\n",
        "|---------------------------------------|-------------------------------|\n",
        "| 1 variabele vs theoretische verwachting | `stats.chisquare()`           |\n",
        "| 2 variabelen in kruistabel             | `stats.chi2_contingency()`    |"
      ]
    },
    {
      "cell_type": "code",
      "execution_count": 3,
      "metadata": {
        "id": "V20Cup7Istbo"
      },
      "outputs": [
        {
          "name": "stdout",
          "output_type": "stream",
          "text": [
            "Chi-squared: 3.0027451685653417\n",
            "p-value: 0.0831235620095611\n"
          ]
        }
      ],
      "source": [
        "\n",
        "\n",
        "chi2, p = stats.chisquare(f_obs=observed, f_exp=expected)\n",
        "print(\"Chi-squared:\", chi2)\n",
        "print(\"p-value:\", p)"
      ]
    },
    {
      "cell_type": "markdown",
      "metadata": {},
      "source": [
        "✅ STAP 4 – Bereken kritieke waarde bij α = 0.05"
      ]
    },
    {
      "cell_type": "markdown",
      "metadata": {},
      "source": [
        "##  Vrijheidsgraden (`df`) bij een Chi-squared test\n",
        "\n",
        "---\n",
        "\n",
        "### ❓ Is `df = 1` altijd zo?\n",
        "➡️ **Nee**, het hangt af van het aantal categorieën in je analyse.\n",
        "\n",
        "---\n",
        "\n",
        "###  Algemene formule voor `df` (degrees of freedom)\n",
        "\n",
        "---\n",
        "\n",
        "### 1️⃣ Goodness-of-Fit test (1 variabele):\n",
        "\n",
        "$$\n",
        "df = k - 1\n",
        "$$\n",
        "\n",
        "waarbij:  \n",
        "- $( k $) = aantal categorieën (in je `observed` vector)\n",
        "\n",
        "---\n",
        "\n",
        "### 2️⃣ Chi-squared test voor onafhankelijkheid (2 variabelen):\n",
        "\n",
        "$$\n",
        "df = (r - 1) \\times (c - 1)\n",
        "$$\n",
        "\n",
        "waarbij:  \n",
        "- $( r $) = aantal rijen in de kruistabel  \n",
        "- $( c $) = aantal kolommen in de kruistabel\n",
        "\n",
        "---\n",
        "\n",
        "###  Voorbeelden:\n",
        "\n",
        "| Situatie                                | Aantal categorieën   | Vrijheidsgraden (`df`)     |\n",
        "|-----------------------------------------|-----------------------|------------------------------|\n",
        "| Goodness-of-Fit: `[15, 390]`            | 2                     | $( 2 - 1 = 1 $)              |\n",
        "| Goodness-of-Fit: `[10, 20, 30]`         | 3                     | $( 3 - 1 = 2 $)              |\n",
        "| Onafhankelijkheid: 3 rijen × 4 kolommen | —                     | $( (3 - 1) \\times (4 - 1) = 6 $) |\n",
        "\n",
        "---\n",
        "\n",
        "###  Samengevat:\n",
        "\n",
        "- `df = 1` ➤ Alleen bij **Goodness-of-Fit** met **2 categorieën**\n",
        "- Meer categorieën of een kruistabel? ➤ `df` wordt automatisch hoger\n",
        "\n",
        "---\n"
      ]
    },
    {
      "cell_type": "code",
      "execution_count": 4,
      "metadata": {
        "id": "2iuZ0kBHZKJt"
      },
      "outputs": [
        {
          "name": "stdout",
          "output_type": "stream",
          "text": [
            "Critical value: 3.8414588206941285\n"
          ]
        }
      ],
      "source": [
        "alpha = 0.05\n",
        "df = 1\n",
        "critical = stats.chi2.isf(alpha, df)\n",
        "\n",
        "print(\"Critical value:\", critical)"
      ]
    },
    {
      "cell_type": "markdown",
      "metadata": {},
      "source": [
        "## ✅ STAP 5 – Trek een besluit"
      ]
    },
    {
      "cell_type": "code",
      "execution_count": 5,
      "metadata": {},
      "outputs": [
        {
          "name": "stdout",
          "output_type": "stream",
          "text": [
            "Verwerp H0 niet: Er is geen significant bewijs van ondervertegenwoordiging.\n"
          ]
        }
      ],
      "source": [
        "if chi2 > critical:\n",
        "    print(\"Verwerp H0: Afrikaanse Amerikanen zijn ondervertegenwoordigd.\")\n",
        "else:\n",
        "    print(\"Verwerp H0 niet: Er is geen significant bewijs van ondervertegenwoordiging.\")"
      ]
    },
    {
      "cell_type": "markdown",
      "metadata": {},
      "source": [
        "## ✅ STAP 6 – Bereken gestandaardiseerde residuen\n",
        "- Gestandaardiseerde residuen vertellen hoe ver het geobserveerde aantal afwijkt van het verwachte, gemeten in standaardafwijkingen.\n",
        "\n",
        "$$\n",
        "r_i = \\frac{o_i - e_i}{\\sqrt{e_i}}\n",
        "$$"
      ]
    },
    {
      "cell_type": "code",
      "execution_count": 11,
      "metadata": {},
      "outputs": [
        {
          "name": "stdout",
          "output_type": "stream",
          "text": [
            "Gestandaardiseerde residuen: [-1.68273251  0.41371062]\n"
          ]
        }
      ],
      "source": [
        "standardized_residuals = (observed - expected) / np.sqrt(expected)\n",
        "print(\"Gestandaardiseerde residuen:\", standardized_residuals)"
      ]
    }
  ],
  "metadata": {
    "colab": {
      "provenance": []
    },
    "kernelspec": {
      "display_name": "Python 3",
      "language": "python",
      "name": "python3"
    },
    "language_info": {
      "codemirror_mode": {
        "name": "ipython",
        "version": 3
      },
      "file_extension": ".py",
      "mimetype": "text/x-python",
      "name": "python",
      "nbconvert_exporter": "python",
      "pygments_lexer": "ipython3",
      "version": "3.12.1"
    },
    "orig_nbformat": 4
  },
  "nbformat": 4,
  "nbformat_minor": 0
}
