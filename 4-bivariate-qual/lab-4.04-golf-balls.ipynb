{
  "cells": [
    {
      "cell_type": "markdown",
      "metadata": {
        "id": "xDBTRYzLSeM_"
      },
      "source": [
        "# Lab 4.04 - Bivariate Analysis of Qualitative Data"
      ]
    },
    {
      "cell_type": "code",
      "execution_count": 1,
      "metadata": {
        "id": "j8I-eUfMSeNF"
      },
      "outputs": [],
      "source": [
        "# Importing the necessary packages\n",
        "import numpy as np                                  # \"Scientific computing\"\n",
        "import scipy.stats as stats                         # Statistical tests\n",
        "\n",
        "import pandas as pd                                 # Data Frame\n",
        "from pandas.api.types import CategoricalDtype\n",
        "\n",
        "import matplotlib.pyplot as plt                     # Basic visualisation\n",
        "from statsmodels.graphics.mosaicplot import mosaic  # Mosaic diagram\n",
        "import seaborn as sns                               # Advanced data visualisation"
      ]
    },
    {
      "cell_type": "markdown",
      "metadata": {},
      "source": [
        "- Dit is opnieuw een Goodness-of-Fit test met maar één categorie die je wil toetsen tegen een drempelwaarde (20%)."
      ]
    },
    {
      "cell_type": "markdown",
      "metadata": {
        "id": "vN3yNSGKq2c5"
      },
      "source": [
        "## Exercise 4 - Golf balls\n",
        "\n",
        "Callaway is thinking about entering the golf ball market. The company will make a profit if its market share is more than 20%. A market survey indicates that 140\n",
        "of 624 golf ball purchasers will buy a Callaway golf ball.\n",
        "\n",
        "Is this enough evidence to persuade Callaway to enter the golf ball market?\n",
        "\n",
        "Results of the main calculations\n",
        "\n",
        "- χ² = 2.3141\n",
        "- p-value  p = 0.1282"
      ]
    },
    {
      "cell_type": "markdown",
      "metadata": {},
      "source": [
        "### ❓ Vraag:\n",
        "> Is er voldoende bewijs dat **meer dan 20%** van de markt bereid is om Callaway golfballen te kopen?\n"
      ]
    },
    {
      "cell_type": "markdown",
      "metadata": {},
      "source": [
        "## ✅ STAP 1 – Hypothesen opstellen\n",
        "- $( H_0 $): Het marktaandeel van Callaway is **maximaal 20%** (≤ 20%)  \n",
        "- $( H_1 $): Het marktaandeel is **groter dan 20%**"
      ]
    },
    {
      "cell_type": "markdown",
      "metadata": {},
      "source": [
        "## ✅ STAP 2 – Geobserveerde en verwachte waarden"
      ]
    },
    {
      "cell_type": "code",
      "execution_count": 2,
      "metadata": {
        "id": "wfNU9VTyLYAy"
      },
      "outputs": [
        {
          "name": "stdout",
          "output_type": "stream",
          "text": [
            "[124.8 499.2]\n"
          ]
        }
      ],
      "source": [
        "# Gegevens uit marktonderzoek\n",
        "n = 624                       # totaal aantal kopers\n",
        "observed = np.array([140, 484])  # [Koopt Callaway, Koopt niet]\n",
        "\n",
        "# Verwachte verdeling als H0 waar is (20%)\n",
        "expected_p = np.array([0.20, 0.80])\n",
        "expected = expected_p * n\n",
        "print(expected)"
      ]
    },
    {
      "cell_type": "markdown",
      "metadata": {},
      "source": [
        "## ✅ STAP 3 – Chi-squared test uitvoeren"
      ]
    },
    {
      "cell_type": "code",
      "execution_count": 3,
      "metadata": {
        "id": "mM3npU4_MDFK"
      },
      "outputs": [
        {
          "name": "stdout",
          "output_type": "stream",
          "text": [
            "Chi-squared: 2.3141\n",
            "p-value    : 0.1282\n"
          ]
        }
      ],
      "source": [
        "chi2, p = stats.chisquare(f_obs=observed, f_exp=expected)\n",
        "print(\"Chi-squared: %.4f\" % chi2)\n",
        "print(\"p-value    : %.4f\" % p)"
      ]
    },
    {
      "cell_type": "markdown",
      "metadata": {},
      "source": [
        "## ✅ STAP 4 – Kritieke waarde berekenen en beslissen"
      ]
    },
    {
      "cell_type": "code",
      "execution_count": 5,
      "metadata": {},
      "outputs": [
        {
          "name": "stdout",
          "output_type": "stream",
          "text": [
            "Critical value: 3.8415\n",
            " Verwerp H0 niet: Geen voldoende bewijs voor > 20%\n"
          ]
        }
      ],
      "source": [
        "alpha = 0.05\n",
        "df = 1\n",
        "critical = stats.chi2.isf(alpha, df)\n",
        "\n",
        "print(\"Critical value: %.4f\" % critical)\n",
        "\n",
        "if chi2 > critical:\n",
        "    print(\" Verwerp H0: Marktaandeel is > 20%\")\n",
        "else:\n",
        "    print(\" Verwerp H0 niet: Geen voldoende bewijs voor > 20%\")"
      ]
    },
    {
      "cell_type": "markdown",
      "metadata": {},
      "source": [
        "- $( \\chi^2 = 2.3141 $)\n",
        "- $( p = 0.1282 $)\n",
        "- $( \\alpha = 0.05 $)\n",
        "- Kritieke waarde: $( g = 3.8415 $)"
      ]
    },
    {
      "cell_type": "markdown",
      "metadata": {},
      "source": [
        "##  Interpretatie\n",
        "\n",
        "- Omdat $( \\chi^2 = 2.3141 < 3.8415 $) en $ p = 0.1282 > 0.05 $),  \n",
        "➤ **Verwerpen we $( H_0 $) niet**\n",
        "\n",
        " Er is **geen voldoende statistisch bewijs** dat Callaway **meer dan 20%** van het marktaandeel heeft.\n",
        "\n",
        "---\n",
        "\n",
        "## ✅ Conclusie\n",
        "\n",
        ">  De gegevens zijn **niet overtuigend genoeg** voor Callaway om de markt binnen te stappen.\n",
        "\n",
        "---"
      ]
    },
    {
      "cell_type": "markdown",
      "metadata": {},
      "source": [
        "|  Element                     |  Wat moet je weten/doen?                                                                 |\n",
        "|-------------------------------|--------------------------------------------------------------------------------------------|\n",
        "| **Formule van χ²**            |  Niet van buiten leren<br> Gebruik `stats.chisquare()` in Python                       |\n",
        "| **Wanneer je H₀ verwerpt**    |  Begrijp de beslissingsregels:<br>– Als $( p < 0.05 $) → **Verwerp $( H_0 $)**<br>– Als $( \\chi^2 > g $) → **Verwerp $( H_0 $)** |\n",
        "| **Kritieke waarde $( g $)**   |  Weten dat die afhangt van α en df<br> Bereken via: `stats.chi2.isf(alpha, df)`       |\n",
        "| **Conclusie formuleren**      |  Zeg duidelijk of je \\( H_0 \\) verwerpt of niet<br> Benoem of er **voldoende bewijs** is |\n",
        "\n",
        "---\n",
        "\n",
        "###  Extra geheugensteun\n",
        "\n",
        ">  Als $( p < \\alpha $) → **Verwerp $( H_0 $)**  \n",
        ">  Als $( p > \\alpha $) → **Verwerp $( H_0 $) niet**\n",
        "\n",
        "---"
      ]
    }
  ],
  "metadata": {
    "colab": {
      "provenance": []
    },
    "kernelspec": {
      "display_name": "Python 3",
      "language": "python",
      "name": "python3"
    },
    "language_info": {
      "codemirror_mode": {
        "name": "ipython",
        "version": 3
      },
      "file_extension": ".py",
      "mimetype": "text/x-python",
      "name": "python",
      "nbconvert_exporter": "python",
      "pygments_lexer": "ipython3",
      "version": "3.13.2"
    },
    "orig_nbformat": 4
  },
  "nbformat": 4,
  "nbformat_minor": 0
}
