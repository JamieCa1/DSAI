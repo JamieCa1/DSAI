{
 "cells": [
  {
   "cell_type": "markdown",
   "metadata": {},
   "source": [
    "# Module 4: Bivariate analysis - 2 qualitative variables\n",
    "\n",
    "To demonstrate the concepts in this module, we import dataset `rlanders.csv`. It contains synthetic data that was generated randomly (see [the description](../data/rlanders.md))."
   ]
  },
  {
   "cell_type": "code",
   "execution_count": 1,
   "metadata": {},
   "outputs": [],
   "source": [
    "# Importing the necessary packages\n",
    "import numpy as np                                  # \"Scientific computing\"\n",
    "import scipy.stats as stats                         # Statistical tests\n",
    "\n",
    "import pandas as pd                                 # Data Frame\n",
    "from pandas.api.types import CategoricalDtype\n",
    "\n",
    "import matplotlib.pyplot as plt                     # Basic visualisation\n",
    "from statsmodels.graphics.mosaicplot import mosaic  # Mosaic diagram\n",
    "import seaborn as sns                               # Advanced data visualisation"
   ]
  },
  {
   "cell_type": "code",
   "execution_count": 2,
   "metadata": {},
   "outputs": [],
   "source": [
    "# Read dataset + data preparation\n",
    "rlanders = pd.read_csv('https://raw.githubusercontent.com/HoGentTIN/dsai-en-labs/main/data/rlanders.csv').set_index(['ID'])\n",
    "rlanders.Gender = rlanders.Gender.astype('category')\n",
    "likert_scale = CategoricalDtype(categories=[1,2,3,4,5], ordered=True)\n",
    "rlanders.Survey = rlanders.Survey.astype(likert_scale)\n",
    "# rlanders.info()\n",
    "# rlanders.Survey.dtype"
   ]
  },
  {
   "cell_type": "markdown",
   "metadata": {},
   "source": [
    "## Contingentietabellen en visualisatietechnieken\n",
    "\n",
    "Stel dat we willen weten of vrouwen en mannen (variabele `Geslacht`) binnen de steekproef verschillend hebben gereageerd op een enquêtevraag met een Likert-schaal (variabele `Enquête`). \n",
    "\n",
    "Als de verhoudingen van de antwoorden (1 tot 5) voor vrouwen en mannen ongeveer gelijk zijn, zeggen we dat er geen verband is tussen de twee variabelen. Als er een significant verschil is, is er wel een verband. De vraag is nu natuurlijk wanneer het verschil groot genoeg is om als *significant* te worden beschouwd...\n",
    "\n",
    "Een eerste stap is het berekenen van een contingentieschema. We voegen onmiddellijk de marginale totalen toe:"
   ]
  },
  {
   "cell_type": "code",
   "execution_count": 3,
   "metadata": {},
   "outputs": [
    {
     "data": {
      "application/vnd.microsoft.datawrangler.viewer.v0+json": {
       "columns": [
        {
         "name": "Survey",
         "rawType": "object",
         "type": "unknown"
        },
        {
         "name": "Female",
         "rawType": "int64",
         "type": "integer"
        },
        {
         "name": "Male",
         "rawType": "int64",
         "type": "integer"
        },
        {
         "name": "All",
         "rawType": "int64",
         "type": "integer"
        }
       ],
       "ref": "28a391be-a712-4b39-aead-8140d97b3c5c",
       "rows": [
        [
         "1",
         "0",
         "4",
         "4"
        ],
        [
         "2",
         "17",
         "45",
         "62"
        ],
        [
         "3",
         "23",
         "91",
         "114"
        ],
        [
         "4",
         "12",
         "53",
         "65"
        ],
        [
         "5",
         "0",
         "5",
         "5"
        ],
        [
         "All",
         "52",
         "198",
         "250"
        ]
       ],
       "shape": {
        "columns": 3,
        "rows": 6
       }
      },
      "text/html": [
       "<div>\n",
       "<style scoped>\n",
       "    .dataframe tbody tr th:only-of-type {\n",
       "        vertical-align: middle;\n",
       "    }\n",
       "\n",
       "    .dataframe tbody tr th {\n",
       "        vertical-align: top;\n",
       "    }\n",
       "\n",
       "    .dataframe thead th {\n",
       "        text-align: right;\n",
       "    }\n",
       "</style>\n",
       "<table border=\"1\" class=\"dataframe\">\n",
       "  <thead>\n",
       "    <tr style=\"text-align: right;\">\n",
       "      <th>Gender</th>\n",
       "      <th>Female</th>\n",
       "      <th>Male</th>\n",
       "      <th>All</th>\n",
       "    </tr>\n",
       "    <tr>\n",
       "      <th>Survey</th>\n",
       "      <th></th>\n",
       "      <th></th>\n",
       "      <th></th>\n",
       "    </tr>\n",
       "  </thead>\n",
       "  <tbody>\n",
       "    <tr>\n",
       "      <th>1</th>\n",
       "      <td>0</td>\n",
       "      <td>4</td>\n",
       "      <td>4</td>\n",
       "    </tr>\n",
       "    <tr>\n",
       "      <th>2</th>\n",
       "      <td>17</td>\n",
       "      <td>45</td>\n",
       "      <td>62</td>\n",
       "    </tr>\n",
       "    <tr>\n",
       "      <th>3</th>\n",
       "      <td>23</td>\n",
       "      <td>91</td>\n",
       "      <td>114</td>\n",
       "    </tr>\n",
       "    <tr>\n",
       "      <th>4</th>\n",
       "      <td>12</td>\n",
       "      <td>53</td>\n",
       "      <td>65</td>\n",
       "    </tr>\n",
       "    <tr>\n",
       "      <th>5</th>\n",
       "      <td>0</td>\n",
       "      <td>5</td>\n",
       "      <td>5</td>\n",
       "    </tr>\n",
       "    <tr>\n",
       "      <th>All</th>\n",
       "      <td>52</td>\n",
       "      <td>198</td>\n",
       "      <td>250</td>\n",
       "    </tr>\n",
       "  </tbody>\n",
       "</table>\n",
       "</div>"
      ],
      "text/plain": [
       "Gender  Female  Male  All\n",
       "Survey                   \n",
       "1            0     4    4\n",
       "2           17    45   62\n",
       "3           23    91  114\n",
       "4           12    53   65\n",
       "5            0     5    5\n",
       "All         52   198  250"
      ]
     },
     "execution_count": 3,
     "metadata": {},
     "output_type": "execute_result"
    }
   ],
   "source": [
    "pd.crosstab(rlanders.Survey, rlanders.Gender, margins=True)"
   ]
  },
  {
   "attachments": {},
   "cell_type": "markdown",
   "metadata": {},
   "source": [
    "### Geclusterd staafdiagram\n",
    "\n",
    "Natuurlijk zegt zo'n tabel niet veel. Misschien moeten we de gegevens visualiseren."
   ]
  },
  {
   "cell_type": "code",
   "execution_count": 4,
   "metadata": {},
   "outputs": [
    {
     "data": {
      "image/png": "[encoded data removed]",
      "text/plain": [
       "<Figure size 600.25x500 with 1 Axes>"
      ]
     },
     "metadata": {},
     "output_type": "display_data"
    }
   ],
   "source": [
    "sns.catplot(data=rlanders, x='Survey', hue='Gender', kind='count');"
   ]
  },
  {
   "cell_type": "markdown",
   "metadata": {},
   "source": [
    "Als de ‘vorm’ van de balken voor beide categorieën vergelijkbaar is, kunnen we concluderen dat beide categorieën een vergelijkbare verdeling hebben, of dat er geen verband bestaat tussen de twee variabelen. Als de vorm verschillend zou zijn (bijvoorbeeld de hoogste piek voor mannen bij 2 en voor vrouwen bij 4), zou dat erop wijzen dat er wel degelijk een verband bestaat, of dat mannen en vrouwen significant verschillende antwoorden geven op de enquêtevraag.\n",
    "\n",
    "Opvallend is in dit geval dat de vrouwen geen extreme antwoorden (1 of 5) hebben gegeven. Er zijn echter aanzienlijk minder vrouwen in de steekproef, dus dat kan gewoon toeval zijn en hoeft niet per se een significant patroon te zijn.\n",
    "\n",
    "### Gestapeld staafdiagram\n",
    "\n",
    "Een andere manier om de gegevens te visualiseren is door de balken te stapelen in plaats van ze te clusteren. Helaas biedt Seaborn ons geen handige methode om dit te doen. Een crosstab-object (eigenlijk een Pandas DataFrame) heeft echter een plotmethode die we kunnen gebruiken. Merk op dat we de variabelen hebben omgewisseld bij het aanroepen van de crosstab-functie."
   ]
  },
  {
   "cell_type": "code",
   "execution_count": 9,
   "metadata": {},
   "outputs": [
    {
     "data": {
      "image/png": "[encoded data removed]",
      "text/plain": [
       "<Figure size 640x480 with 1 Axes>"
      ]
     },
     "metadata": {},
     "output_type": "display_data"
    }
   ],
   "source": [
    "# Contingency table without the margins\n",
    "observed = pd.crosstab(rlanders.Gender, rlanders.Survey)\n",
    "\n",
    "# Horizontally oriented stacked bar chart\n",
    "observed.plot(kind='barh', stacked=True);"
   ]
  },
  {
   "attachments": {},
   "cell_type": "markdown",
   "metadata": {},
   "source": [
    "We willen de verhoudingen binnen elke categorie (mannen, vrouwen) die de enquêtevraag hebben beantwoord, vergelijken. In datasets met grote verschillen in het aantal waarnemingen voor elke categorie is deze weergave nog steeds moeilijk te interpreteren. Door te kijken naar de *relatieve* frequenties (d.w.z. percentages), kunnen we een beter resultaat krijgen:"
   ]
  },
  {
   "cell_type": "code",
   "execution_count": 10,
   "metadata": {},
   "outputs": [
    {
     "data": {
      "image/png": "[encoded data removed]",
      "text/plain": [
       "<Figure size 640x480 with 1 Axes>"
      ]
     },
     "metadata": {},
     "output_type": "display_data"
    }
   ],
   "source": [
    "# Contingency table without the margins\n",
    "observed_p = pd.crosstab(rlanders.Gender, rlanders.Survey, normalize='index')\n",
    "\n",
    "# Horizontally oriented stacked bar chart\n",
    "observed_p.plot(kind='barh', stacked=True);"
   ]
  },
  {
   "attachments": {},
   "cell_type": "markdown",
   "metadata": {},
   "source": [
    "We zien dat er enkele verschillen zijn tussen de verhoudingen, bijvoorbeeld het percentage vrouwen dat “2” (oranje) antwoordt lijkt groter dan dat van de mannen. Of dit een significant verschil is, valt nog te bezien (zie hieronder voor een verdere analyse van dit geval).\n",
    "\n",
    "In deze weergave verliezen we de informatie over het aantal mannen en vrouwen in de steekproef. We zien namelijk niet dat er veel minder vrouwen zijn. Een mozaïekdiagram lost dit probleem op.\n",
    "\n",
    "### Mozaïekdiagram\n",
    "Een mozaïekdiagram is een grafische weergave van de kruistabel waarbij elke cel wordt weergegeven door een tegel waarvan de oppervlakte evenredig is aan de frequentie van die cel ten opzichte van het totale aantal waarnemingen.\n",
    "\n",
    "Je kunt dit een beetje vergelijken met hoe [WinDirStat](https://windirstat.net/) de grootte van bestanden op je harde schijf visualiseert.\n",
    "\n",
    "Voor dit geval:"
   ]
  },
  {
   "cell_type": "code",
   "execution_count": 25,
   "metadata": {},
   "outputs": [
    {
     "data": {
      "image/png": "[encoded data removed]",
      "text/plain": [
       "<Figure size 640x480 with 3 Axes>"
      ]
     },
     "metadata": {},
     "output_type": "display_data"
    }
   ],
   "source": [
    "import matplotlib as mpl\n",
    "\n",
    "# By default, mosaic() will color all columns the same. Here,\n",
    "# we're going to give a separate color to each response (1-5).\n",
    "# The response is kept in the label of each cell, a tuple of\n",
    "# the two values that are represented in that cell (e.g. \n",
    "# ('Female', '2')). We will be using the \"plasma\" color map\n",
    "# in this example.\n",
    "plasma_colors = mpl.colormaps['plasma']\n",
    "# Create a function that maps the cell key to the color we\n",
    "# want to give it. We use the colormap function created above\n",
    "# and give it a number between 0 and 1. We convert the second\n",
    "# part of the key (values '1' to '5') to a number and divide\n",
    "# by 5.\n",
    "props = lambda key: {'color': plasma_colors(int(key[1])/5)}\n",
    "\n",
    "mos_gender_survey = mosaic(\n",
    "       data=rlanders.sort_values(by=['Survey']),\n",
    "       index=['Gender', 'Survey'],\n",
    "       gap=0.05, properties=props);"
   ]
  },
  {
   "cell_type": "markdown",
   "metadata": {},
   "source": [
    "We kunnen hier duidelijk zien dat er meer mannen in de steekproef zitten (bredere tegels).\n",
    "\n",
    "Je kunt ook de verdelingen van de antwoorden op de enquêtevraag vergelijken. Behalve dat de vrouwen geen extreme antwoorden (1 en 5) hebben gegeven, lijken de verdelingen op het eerste gezicht nog steeds vrij goed overeen te komen."
   ]
  },
  {
   "cell_type": "markdown",
   "metadata": {},
   "source": [
    "## Chi-kwadraat en Cramér's V\n",
    "\n",
    "Chi-kwadraat ($\\chi^2$) en Cramér's V zijn statistieken die ons kunnen helpen bepalen of er een verband bestaat tussen twee kwalitatieve (categorische) variabelen.\n",
    "\n",
    "De redenering is als volgt: als er geen verband bestaat tussen `Geslacht` en `Enquête`, dan verwachten we dat de verhoudingen van de waarden van `Enquête` voor alle waarden van `Geslacht` gelijk zijn. Met andere woorden, zowel voor vrouwen als voor mannen zal hetzelfde percentage respondenten hetzelfde antwoord geven op de vraag."
   ]
  },
  {
   "cell_type": "code",
   "execution_count": 5,
   "metadata": {},
   "outputs": [
    {
     "name": "stdout",
     "output_type": "stream",
     "text": [
      "Survey\n",
      "1      4\n",
      "2     62\n",
      "3    114\n",
      "4     65\n",
      "5      5\n",
      "dtype: int64\n",
      "Gender\n",
      "Female     52\n",
      "Male      198\n",
      "dtype: int64\n",
      "Number of observations: 250\n"
     ]
    }
   ],
   "source": [
    "observed = pd.crosstab(rlanders.Survey, rlanders.Gender)\n",
    "row_sums = observed.sum(axis=1)\n",
    "col_sums = observed.sum()\n",
    "n = row_sums.sum()\n",
    "\n",
    "print(row_sums)\n",
    "print(col_sums)\n",
    "print(f'Number of observations: {n}')"
   ]
  },
  {
   "cell_type": "markdown",
   "metadata": {},
   "source": [
    "Nu kunnen we berekenen hoe vaak we elke combinatie van `Geslacht` en `Enquête` in de steekproef kunnen verwachten. Bijvoorbeeld, 114 van de 250 respondenten antwoordden “3”, d.w.z. 114/250 = 0,456 (of 46,6%). Dan weten we dat zowel 46,6% van de vrouwen als 46,6% van de mannen “3” moet hebben geantwoord. Aangezien er 52 vrouwelijke respondenten waren, verwachten we dat 52 x 0,456 = 23,712 “3” hebben geantwoord. In werkelijkheid waren dat er 23. Voor de mannen verwachten we 198 x 0,456 = 90,288 (vergeleken met 91 in werkelijkheid).\n",
    "\n",
    "We kunnen dit principe generaliseren naar elke cel in de tabel: $\\frac{rij totaal \\times kolom totaal}{n}$ (waarbij $n$ het totale aantal waarnemingen is).\n",
    "\n",
    "De verwachte waarden kunnen worden berekend met behulp van de functie `outer()`:"
   ]
  },
  {
   "cell_type": "code",
   "execution_count": 27,
   "metadata": {},
   "outputs": [
    {
     "data": {
      "text/plain": [
       "array([[ 0.832,  3.168],\n",
       "       [12.896, 49.104],\n",
       "       [23.712, 90.288],\n",
       "       [13.52 , 51.48 ],\n",
       "       [ 1.04 ,  3.96 ]])"
      ]
     },
     "execution_count": 27,
     "metadata": {},
     "output_type": "execute_result"
    }
   ],
   "source": [
    "expected = np.outer(row_sums, col_sums) / n\n",
    "expected"
   ]
  },
  {
   "cell_type": "markdown",
   "metadata": {},
   "source": [
    "Let's check if the marginal totals are still correct:"
   ]
  },
  {
   "cell_type": "code",
   "execution_count": 28,
   "metadata": {},
   "outputs": [
    {
     "name": "stdout",
     "output_type": "stream",
     "text": [
      "Row totals   : [  4.  62. 114.  65.   5.]\n",
      "Column totals: [ 52. 198.]\n",
      "Observations : 250.0\n"
     ]
    }
   ],
   "source": [
    "exp_row_sums = np.sum(expected, axis=1)\n",
    "exp_col_sums = np.sum(expected, axis=0)\n",
    "\n",
    "print(f'Row totals   : {exp_row_sums}')\n",
    "print(f'Column totals: {exp_col_sums}')\n",
    "print(f'Observations : {exp_col_sums.sum()}')"
   ]
  },
  {
   "cell_type": "markdown",
   "metadata": {},
   "source": [
    "Indeed, they do. Now, what's the difference between the expected and observed values?"
   ]
  },
  {
   "cell_type": "code",
   "execution_count": 8,
   "metadata": {},
   "outputs": [
    {
     "data": {
      "text/html": [
       "<div>\n",
       "<style scoped>\n",
       "    .dataframe tbody tr th:only-of-type {\n",
       "        vertical-align: middle;\n",
       "    }\n",
       "\n",
       "    .dataframe tbody tr th {\n",
       "        vertical-align: top;\n",
       "    }\n",
       "\n",
       "    .dataframe thead th {\n",
       "        text-align: right;\n",
       "    }\n",
       "</style>\n",
       "<table border=\"1\" class=\"dataframe\">\n",
       "  <thead>\n",
       "    <tr style=\"text-align: right;\">\n",
       "      <th>Gender</th>\n",
       "      <th>Female</th>\n",
       "      <th>Male</th>\n",
       "    </tr>\n",
       "    <tr>\n",
       "      <th>Survey</th>\n",
       "      <th></th>\n",
       "      <th></th>\n",
       "    </tr>\n",
       "  </thead>\n",
       "  <tbody>\n",
       "    <tr>\n",
       "      <th>1</th>\n",
       "      <td>0.832</td>\n",
       "      <td>-0.832</td>\n",
       "    </tr>\n",
       "    <tr>\n",
       "      <th>2</th>\n",
       "      <td>-4.104</td>\n",
       "      <td>4.104</td>\n",
       "    </tr>\n",
       "    <tr>\n",
       "      <th>3</th>\n",
       "      <td>0.712</td>\n",
       "      <td>-0.712</td>\n",
       "    </tr>\n",
       "    <tr>\n",
       "      <th>4</th>\n",
       "      <td>1.520</td>\n",
       "      <td>-1.520</td>\n",
       "    </tr>\n",
       "    <tr>\n",
       "      <th>5</th>\n",
       "      <td>1.040</td>\n",
       "      <td>-1.040</td>\n",
       "    </tr>\n",
       "  </tbody>\n",
       "</table>\n",
       "</div>"
      ],
      "text/plain": [
       "Gender  Female   Male\n",
       "Survey               \n",
       "1        0.832 -0.832\n",
       "2       -4.104  4.104\n",
       "3        0.712 -0.712\n",
       "4        1.520 -1.520\n",
       "5        1.040 -1.040"
      ]
     },
     "execution_count": 8,
     "metadata": {},
     "output_type": "execute_result"
    }
   ],
   "source": [
    "expected - observed"
   ]
  },
  {
   "cell_type": "markdown",
   "metadata": {},
   "source": [
    "Sommige waargenomen waarden lijken dicht bij de verwachte waarden te liggen (bijvoorbeeld voor “3”), andere liggen verder af (bijvoorbeeld “2”). We moeten echter ook kijken naar de verschillen in verhouding.\n",
    "\n",
    "Een maatstaf voor het bepalen van de totale afwijking in een frequentietabel is het kwadrateren van de verschillen tussen de verwachte en waargenomen waarden (net zoals men doet bij variantie/standaardafwijking) en deze te delen door de verwachte waarde:"
   ]
  },
  {
   "cell_type": "code",
   "execution_count": 29,
   "metadata": {},
   "outputs": [
    {
     "name": "stdout",
     "output_type": "stream",
     "text": [
      "Gender    Female      Male\n",
      "Survey                    \n",
      "1       0.832000  0.218505\n",
      "2       1.306050  0.343003\n",
      "3       0.021379  0.005615\n",
      "4       0.170888  0.044880\n",
      "5       1.040000  0.273131\n"
     ]
    }
   ],
   "source": [
    "diffs = (expected - observed)**2 / expected\n",
    "print(diffs)"
   ]
  },
  {
   "cell_type": "markdown",
   "metadata": {},
   "source": [
    "De som van al deze waarden wordt $\\chi^2$ (“chi-kwadraat”) genoemd:\n",
    "\n",
    "$\\chi^2 = \\sum_i \\frac{(o_i - e_i)^2}{e_i}$\n",
    "\n",
    "waarbij $o_i$ het aantal waarnemingen in de $i$'de cel van de contingentiesabel is en $e_i$ de verwachte frequentie. Vergelijk de formule met de bovenstaande code om overeenkomsten te vinden!"
   ]
  },
  {
   "cell_type": "code",
   "execution_count": 30,
   "metadata": {},
   "outputs": [
    {
     "name": "stdout",
     "output_type": "stream",
     "text": [
      "χ² ≈ 4.255\n"
     ]
    }
   ],
   "source": [
    "chi_squared = diffs.values.sum()\n",
    "print('χ² ≈ %.3f' %chi_squared)"
   ]
  },
  {
   "cell_type": "markdown",
   "metadata": {},
   "source": [
    "Nu zegt deze waarde op zich nog niet veel. Onder welke omstandigheden zeggen we dat er wel of geen verband bestaat tussen de twee variabelen? Dat hangt ook af van de grootte van de tabel en het totale aantal waarnemingen. In een contingentieschema met meer rijen/kolommen heb je een grotere $\\chi^2$ nodig voordat je kunt concluderen dat er een verband bestaat.\n",
    "\n",
    "[Cramér's V](https://en.wikipedia.org/wiki/Cram%C3%A9r%27s_V) is een formule die $\\chi^2$ normaliseert tot een waarde tussen 0 en 1 die onafhankelijk is van de tabelgrootte.\n",
    "\n",
    "$V = \\sqrt{\\frac{\\chi^2}{n(k-1)}}$"
   ]
  },
  {
   "cell_type": "code",
   "execution_count": 31,
   "metadata": {},
   "outputs": [
    {
     "name": "stdout",
     "output_type": "stream",
     "text": [
      "0.13046762087242633\n"
     ]
    }
   ],
   "source": [
    "dof = min(observed.shape) - 1\n",
    "cramers_v = np.sqrt(chi_squared / (dof * n))\n",
    "print(cramers_v)"
   ]
  },
  {
   "cell_type": "markdown",
   "metadata": {},
   "source": [
    "The value of Cramér's $V$ can also be calculated with the following Python function (from the `scipy.stats` module):"
   ]
  },
  {
   "cell_type": "code",
   "execution_count": 34,
   "metadata": {},
   "outputs": [
    {
     "data": {
      "text/plain": [
       "0.13046762087242636"
      ]
     },
     "execution_count": 34,
     "metadata": {},
     "output_type": "execute_result"
    }
   ],
   "source": [
    "stats.contingency.association(observed, method='cramer')"
   ]
  },
  {
   "cell_type": "markdown",
   "metadata": {},
   "source": [
    "Om een conclusie te trekken uit deze figuur, vergelijk deze met de waarden in de onderstaande tabel:\n",
    "\n",
    "| Cramér's V | Interpretatie          |\n",
    "| :---:      | :---                    |\n",
    "| 0          | Geen verband          |\n",
    "| 0,1        | Zwak verband        |\n",
    "| 0,25       | Matig verband    |\n",
    "| 0,50       | Sterk verband      |\n",
    "| 0,75       | Zeer sterk verband |\n",
    "| 1          | Volledig verband    |\n",
    "\n",
    "Ons resultaat voor Cramér's V wijst dus op een vrij zwak verband. Merk op dat Cramér's V in bepaalde gevallen te optimistisch is over het verband tussen twee variabelen. Er bestaat een aangepaste formule om deze vertekening te elimineren, maar die valt buiten het bestek van deze cursus.\n",
    "\n",
    "Er is echter een andere manier om te bepalen of de chi-kwadraat groot genoeg is om te concluderen dat er een verband bestaat, namelijk door middel van een statistische test.\n",
    "\n",
    "## De chi-kwadraattoets voor onafhankelijkheid\n",
    "\n",
    "Om de vraag te beantwoorden wanneer de waarde van chi-kwadraat voldoende is om een verband tussen twee variabelen aan te nemen, kunnen we de *chi-kwadraattoets voor onafhankelijkheid* gebruiken.\n",
    "\n",
    "### De chi-kwadraatverdeling \n",
    "\n",
    "De waarde van $\\chi^2$ volgt een specifieke stochastische verdeling die de $\\chi^2$-verdeling wordt genoemd. Net als bij de Student-t-verdeling hangt de vorm van de kansdichtheidsfunctie af van de vrijheidsgraden, die in deze context $df = (r-1)\\times(k-1)$ zijn (waarbij $r$ het aantal rijen in de contingentiesabel is en $k$ het aantal kolommen).\n",
    "\n",
    "De onderstaande code plot de kansdichtheidsfunctie van de $\\chi^2$-verdeling voor een aantal vrijheidsgraden:"
   ]
  },
  {
   "cell_type": "code",
   "execution_count": 36,
   "metadata": {},
   "outputs": [
    {
     "data": {
      "image/png": "[encoded data removed]",
      "text/plain": [
       "<Figure size 640x480 with 1 Axes>"
      ]
     },
     "metadata": {},
     "output_type": "display_data"
    }
   ],
   "source": [
    "# Plot of the chi-squared distribution for different degrees of freedom\n",
    "x = np.linspace(0, 10, num=100)\n",
    "fig, tplot = plt.subplots(1, 1);\n",
    "tplot.set_ylim([0, 0.8]);\n",
    "tplot.plot(x, stats.chi2.pdf(x, 1), label=\"df=1\");\n",
    "tplot.plot(x, stats.chi2.pdf(x, 2), label=\"df=2\");\n",
    "tplot.plot(x, stats.chi2.pdf(x, 3), label=\"df=3\");\n",
    "tplot.plot(x, stats.chi2.pdf(x, 5), label=\"df=5\");\n",
    "tplot.plot(x, stats.chi2.pdf(x, 10), label=\"df=10\");\n",
    "tplot.legend(loc='best');"
   ]
  },
  {
   "cell_type": "markdown",
   "metadata": {},
   "source": [
    "Aan de hand van deze figuur kunt u een redenering volgen die vergelijkbaar is met een z-toets aan de rechterkant. U kunt een kritische waarde $g$ berekenen waarvoor het gebied onder de curve rechts van $g$ gelijk is aan het door ons gekozen significantieniveau $\\alpha$. Als de teststatistiek $\\chi^2$ groter is dan $g$, zeggen we dat de afwijkingen van de verwachte waarden in de contingentiesabel te groot zijn om toeval te zijn en dat we reden hebben om aan te nemen dat er een verband bestaat tussen de twee variabelen.\n",
    "\n",
    "U kunt ook de overtollige waarschijnlijkheid $p$ berekenen, d.w.z. de waarschijnlijkheid dat de afwijkingen die u in de steekproef ziet, het gevolg zijn van willekeurige steekproeffouten. Hiervoor berekent u het gebied onder de dichtheidscurve rechts van $p$. Als dit gebied kleiner is dan $\\alpha$, zeggen we ook dat de afwijkingen te groot zijn om te worden veroorzaakt door willekeurige steekproeffouten en dat er dus een verband bestaat tussen de variabelen.\n",
    "\n",
    "In Python gebruiken we hiervoor de volgende Scipy-functies:\n",
    "\n",
    "- `stats.chi2.sf(x)` - de rechterstaartkans van `x` (of overlevingsfunctie)\n",
    "- `stats.chi2.isf(q)` - de inverse functie van `sf(x)`, d.w.z. bereken een getal `x` waarvoor de rechterstaartkans precies `q` is.\n",
    "\n",
    "Een grafiek voor het geval waarin $\\alpha = 0,05$ (een vaak gekozen waarde voor het significantieniveau) en 4 vrijheidsgraden:"
   ]
  },
  {
   "cell_type": "code",
   "execution_count": 6,
   "metadata": {},
   "outputs": [
    {
     "data": {
      "image/png": "[encoded data removed]",
      "text/plain": [
       "<Figure size 640x480 with 1 Axes>"
      ]
     },
     "metadata": {},
     "output_type": "display_data"
    }
   ],
   "source": [
    "# Right tail probability in the chi-squared distribution\n",
    "\n",
    "# x-values:\n",
    "x = np.linspace(0, 15, num=100)\n",
    "# probability density of the chi-squared distribution with 4 degrees of freedom\n",
    "y = stats.chi2.pdf(x, df=4)\n",
    "# the number q for which the right tail probability is exactly 5%:\n",
    "q = stats.chi2.isf(.05, df=4)\n",
    "\n",
    "fig, tplot = plt.subplots(1, 1)\n",
    "tplot.plot(x, y)                      # probability density\n",
    "tplot.fill_between(x, y, where=x>=q,  # critical area\n",
    "    color='lightblue')\n",
    "tplot.axvline(q);                     # critical value"
   ]
  },
  {
   "cell_type": "markdown",
   "metadata": {},
   "source": [
    "### Testprocedure\n",
    "\n",
    "Formeel verloopt de procedure van de $\\chi^2$-test voor onafhankelijkheid als volgt:\n",
    "\n",
    "1. Formuleer de hypothesen:\n",
    "   - $H_0$: Er is geen verband tussen de variabelen (de verschillen tussen waargenomen en verwachte waarden zijn klein)\n",
    "   - $H_1$: Er is een verband tussen de variabelen (de verschillen zijn groot)\n",
    "2. Kies het significantieniveau $\\alpha$\n",
    "3. Bereken de waarde van de teststatistiek in de steekproef (hier: $\\chi^2$).\n",
    "4. Gebruik een van de volgende methoden (gebaseerd op de vrijheidsgraden $df = (r-1) \\times (k-1)$):\n",
    "   1. Bepaal de kritische waarde $g$ zodat $P(\\chi^2 > g) = \\alpha$\n",
    "   2. Bereken de $p$-waarde\n",
    "5. Trek een conclusie op basis van het resultaat:\n",
    "   1. $\\chi^2 < g$: verwerp $H_0$ niet; $\\chi^2 > g$: verwerp $H_0$\n",
    "   2. $p > \\alpha$: verwerp $H_0$ niet; $p < \\alpha$: verwerp $H_0$\n",
    "\n",
    "In Python kunnen we dit als volgt berekenen:"
   ]
  },
  {
   "cell_type": "code",
   "execution_count": 7,
   "metadata": {},
   "outputs": [
    {
     "ename": "NameError",
     "evalue": "name 'chi_squared' is not defined",
     "output_type": "error",
     "traceback": [
      "\u001b[1;31m---------------------------------------------------------------------------\u001b[0m",
      "\u001b[1;31mNameError\u001b[0m                                 Traceback (most recent call last)",
      "Cell \u001b[1;32mIn[7], line 5\u001b[0m\n\u001b[0;32m      2\u001b[0m dimensions \u001b[38;5;241m=\u001b[39m observed\u001b[38;5;241m.\u001b[39mshape\n\u001b[0;32m      3\u001b[0m dof \u001b[38;5;241m=\u001b[39m (dimensions[\u001b[38;5;241m0\u001b[39m]\u001b[38;5;241m-\u001b[39m\u001b[38;5;241m1\u001b[39m) \u001b[38;5;241m*\u001b[39m (dimensions[\u001b[38;5;241m1\u001b[39m]\u001b[38;5;241m-\u001b[39m\u001b[38;5;241m1\u001b[39m)\n\u001b[1;32m----> 5\u001b[0m \u001b[38;5;28mprint\u001b[39m(\u001b[38;5;124m\"\u001b[39m\u001b[38;5;124mChi-squared        : \u001b[39m\u001b[38;5;132;01m%.4f\u001b[39;00m\u001b[38;5;124m\"\u001b[39m \u001b[38;5;241m%\u001b[39m \u001b[43mchi_squared\u001b[49m)\n\u001b[0;32m      6\u001b[0m \u001b[38;5;28mprint\u001b[39m(\u001b[38;5;124m\"\u001b[39m\u001b[38;5;124mDegrees of freedom : \u001b[39m\u001b[38;5;132;01m%d\u001b[39;00m\u001b[38;5;124m\"\u001b[39m \u001b[38;5;241m%\u001b[39m dof)\n\u001b[0;32m      8\u001b[0m \u001b[38;5;66;03m# Calculate critical value\u001b[39;00m\n",
      "\u001b[1;31mNameError\u001b[0m: name 'chi_squared' is not defined"
     ]
    }
   ],
   "source": [
    "alpha = .05\n",
    "dimensions = observed.shape\n",
    "dof = (dimensions[0]-1) * (dimensions[1]-1)\n",
    "\n",
    "print(\"Chi-squared        : %.4f\" % chi_squared)\n",
    "print(\"Degrees of freedom : %d\" % dof)\n",
    "\n",
    "# Calculate critical value\n",
    "g = stats.chi2.isf(alpha, df = dof)\n",
    "print(\"Critical value     : %.4f\" % g)\n",
    "\n",
    "# Calculate p-value\n",
    "p = stats.chi2.sf(chi_squared, df=dof)\n",
    "print(\"p-value            : %.4f\" % p)"
   ]
  },
  {
   "cell_type": "markdown",
   "metadata": {},
   "source": [
    "Eigenlijk hoeven we deze formules niet uit het hoofd te leren om chi-kwadraat, de kritische waarde en de p-waarde te bepalen. SciPy heeft al een functie waarmee we chi-kwadraat en p-waarde rechtstreeks uit een contingentieschema kunnen berekenen:"
   ]
  },
  {
   "cell_type": "code",
   "execution_count": 14,
   "metadata": {},
   "outputs": [
    {
     "name": "stdout",
     "output_type": "stream",
     "text": [
      "Chi-squared       : 4.2555\n",
      "Degrees of freedom: 4\n",
      "P-value           : 0.3725\n"
     ]
    }
   ],
   "source": [
    "# Chi-squared test for independence based on a contingency table\n",
    "observed = pd.crosstab(rlanders.Survey, rlanders.Gender)\n",
    "chi2, p, df, expected = stats.chi2_contingency(observed)\n",
    "\n",
    "print(\"Chi-squared       : %.4f\" % chi2)\n",
    "print(\"Degrees of freedom: %d\" % df)\n",
    "print(\"P-value           : %.4f\" % p)"
   ]
  },
  {
   "cell_type": "markdown",
   "metadata": {},
   "source": [
    "Zoals u kunt zien, is het resultaat voor de $p$-waarde hetzelfde als in onze uitgewerkte berekeningen!\n",
    "\n",
    "Een grafische weergave van ons geval:"
   ]
  },
  {
   "cell_type": "code",
   "execution_count": 15,
   "metadata": {},
   "outputs": [
    {
     "data": {
      "text/plain": [
       "<matplotlib.lines.Line2D at 0x7fdd2d4b04c0>"
      ]
     },
     "execution_count": 15,
     "metadata": {},
     "output_type": "execute_result"
    },
    {
     "data": {
      "image/png": "[encoded data removed]",
      "text/plain": [
       "<Figure size 432x288 with 1 Axes>"
      ]
     },
     "metadata": {
      "needs_background": "light"
     },
     "output_type": "display_data"
    }
   ],
   "source": [
    "# Is there an association between Gender and Survey?\n",
    "\n",
    "# x-values:\n",
    "x = np.linspace(0, 15, num=100)\n",
    "# probability density of the chi-squared distribution with 4 degrees of freedom\n",
    "y = stats.chi2.pdf(x, df=dof)\n",
    "# the number q for which the right tail probability is exactly 5%:\n",
    "q = stats.chi2.isf(alpha, df=4)  # TODO: CHECK this!\n",
    "\n",
    "fig, tplot = plt.subplots(1, 1)\n",
    "tplot.plot(x, y)                     # probability density\n",
    "tplot.fill_between(x, y, where=x>=q, # critical area\n",
    "    color='lightblue')\n",
    "tplot.axvline(q)                     # critical value\n",
    "tplot.axvline(chi2, color='orange')  # chi-squared"
   ]
  },
  {
   "cell_type": "markdown",
   "metadata": {},
   "source": [
    "We zien dat $\\chi^2$ ruim binnen het acceptatiegebied ligt. De $p$-waarde is ook groter dan $\\alpha$. Bijgevolg kunnen we de nulhypothese niet verwerpen en concluderen we dat er op basis van deze steekproef geen reden is om aan te nemen dat er een significant verschil bestaat tussen de antwoorden van vrouwen en mannen op de enquêtevraag.\n",
    "\n",
    "## Goodness-of-fit-test\n",
    "\n",
    "Stel dat we in een steekproef van superhelden bijhouden welk type ze zijn en dat we ook weten hoe vaak elk type voorkomt in de gehele populatie (als percentage). Hieronder staan de absolute frequenties in de steekproef $o_i$ en de verwachte relatieve frequenties $\\pi_i$ in de populatie:"
   ]
  },
  {
   "cell_type": "code",
   "execution_count": 9,
   "metadata": {},
   "outputs": [],
   "source": [
    "types =               ['mutant', 'human', 'alien', 'god', 'demon']\n",
    "observed =   np.array([   127,      75,      98,     27,     73])\n",
    "expected_p = np.array([   .35,     .17,     .23,    .08,    .17])"
   ]
  },
  {
   "cell_type": "markdown",
   "metadata": {},
   "source": [
    "De vraag is nu: is deze steekproef representatief voor de populatie? Komt elk type in de steekproef voor in verhouding tot het verwachte percentage in de populatie als geheel?\n",
    "\n",
    "### Testprocedure\n",
    "\n",
    "Om dit soort vragen te beantwoorden, is een goodness-of-fit-test geschikt. De procedure is als volgt:\n",
    "\n",
    "1. Formuleer de hypothesen:\n",
    "- $H_0$: De steekproef is representatief voor de populatie, d.w.z. de frequentie van elke klasse binnen de steekproef komt goed overeen met die in de populatie.\n",
    "   - $H_1$: De steekproef is *niet* representatief voor de populatie, d.w.z. de verschillen met de verwachte frequenties zijn te groot.\n",
    "2. Kies het significantieniveau $\\alpha$\n",
    "3. Bereken de waarde van de teststatistiek in de steekproef (hier: $\\chi^2$).\n",
    "4. Gebruik een van de volgende methoden (gebaseerd op de vrijheidsgraden $df = (k-1)$ met $k$ het aantal categorieën in de steekproef):\n",
    "   1. Bepaal de kritische waarde $g$ zodat $P(\\chi^2 > g) = \\alpha$\n",
    "   2. Bereken de $p$-waarde\n",
    "5. Trek een conclusie op basis van het resultaat:\n",
    "   1. $\\chi^2 < g$: verwerp $H_0$ niet; $\\chi^2 > g$: verwerp $H_0$\n",
    "   2. $p > \\alpha$: verwerp $H_0$ niet; $p < \\alpha$: verwerp $H_0$\n",
    "\n",
    "Een grafiek van dit geval, inclusief de berekening van $p$ en $g$:"
   ]
  },
  {
   "cell_type": "code",
   "execution_count": 8,
   "metadata": {},
   "outputs": [
    {
     "ename": "TypeError",
     "evalue": "unsupported operand type(s) for +: 'int' and 'str'",
     "output_type": "error",
     "traceback": [
      "\u001b[1;31m---------------------------------------------------------------------------\u001b[0m",
      "\u001b[1;31mTypeError\u001b[0m                                 Traceback (most recent call last)",
      "Cell \u001b[1;32mIn[8], line 2\u001b[0m\n\u001b[0;32m      1\u001b[0m alpha \u001b[38;5;241m=\u001b[39m \u001b[38;5;241m0.05\u001b[39m               \u001b[38;5;66;03m# Significance level\u001b[39;00m\n\u001b[1;32m----> 2\u001b[0m n \u001b[38;5;241m=\u001b[39m \u001b[38;5;28;43msum\u001b[39;49m\u001b[43m(\u001b[49m\u001b[43mobserved\u001b[49m\u001b[43m)\u001b[49m          \u001b[38;5;66;03m# Sample size\u001b[39;00m\n\u001b[0;32m      3\u001b[0m k \u001b[38;5;241m=\u001b[39m \u001b[38;5;28mlen\u001b[39m(observed)          \u001b[38;5;66;03m# Number of categories\u001b[39;00m\n\u001b[0;32m      4\u001b[0m dof \u001b[38;5;241m=\u001b[39m k \u001b[38;5;241m-\u001b[39m \u001b[38;5;241m1\u001b[39m                \u001b[38;5;66;03m# Degrees of freedom\u001b[39;00m\n",
      "\u001b[1;31mTypeError\u001b[0m: unsupported operand type(s) for +: 'int' and 'str'"
     ]
    }
   ],
   "source": [
    "alpha = 0.05               # Significance level\n",
    "n = sum(observed)          # Sample size\n",
    "k = len(observed)          # Number of categories\n",
    "dof = k - 1                # Degrees of freedom\n",
    "expected = expected_p * n  # Expected absolute frequencies in the sample\n",
    "g = stats.chi2.isf(alpha, df=dof)  # Critical value\n",
    "\n",
    "# Goodness-of-fit-test in Python:\n",
    "chi2, p = stats.chisquare(f_obs=observed, f_exp=expected)\n",
    "\n",
    "print(\"Significance level  ⍺ = %.2f\" % alpha)\n",
    "print(\"Sample size         n = %d\" % n)\n",
    "print(\"k = %d; df = %d\" % (k, dof))\n",
    "print(\"Chi-squared        χ² = %.4f\" % chi2)\n",
    "print(\"Critical value      g = %.4f\" % g)\n",
    "print(\"p-value             p = %.4f\" % p)"
   ]
  },
  {
   "cell_type": "code",
   "execution_count": 41,
   "metadata": {},
   "outputs": [
    {
     "data": {
      "image/png": "[encoded data removed]",
      "text/plain": [
       "<Figure size 640x480 with 1 Axes>"
      ]
     },
     "metadata": {},
     "output_type": "display_data"
    }
   ],
   "source": [
    "# Plot of the case:\n",
    "# x-values:\n",
    "x = np.linspace(0, 15, num=100)\n",
    "# probability density of the chi-squared distribution with 4 degrees of freedom\n",
    "y = stats.chi2.pdf(x, df=dof)\n",
    "# the number q for which the right tail probability is exactly 5%:\n",
    "q = stats.chi2.isf(alpha, df=dof)\n",
    "\n",
    "fig, tplot = plt.subplots(1, 1)\n",
    "tplot.plot(x, y)                     # probability density\n",
    "tplot.fill_between(x, y, where=x>=q, # critical area\n",
    "    color='lightblue')\n",
    "tplot.axvline(q)                     # critical value\n",
    "tplot.axvline(chi2, color='orange'); # chi-squared"
   ]
  },
  {
   "cell_type": "markdown",
   "metadata": {},
   "source": [
    "We zien dat $\\chi^2$ in de steekproef links van de kritische waarde ligt, dus binnen het acceptatiegebied. Daarom kunnen we de nulhypothese niet verwerpen en concluderen dat de steekproef representatief is voor de populatie, althans wat betreft de soorten superhelden.\n",
    "\n",
    "## Gestandaardiseerde residuen\n",
    "\n",
    "Na het uitvoeren van een chi-kwadraattoets is het vaak ook interessant om te weten in welke categorieën de grootste afwijkingen voorkomen. Je zou kunnen kijken naar de waarde $\\frac{(o-e)^2}{e}$ voor elke cel in de contingentieschema (of vector), die wordt gebruikt bij de berekening van $\\chi^2$. Hieruit kun je echter niet opmaken in hoeverre de afwijkingen echt als “extreem” kunnen worden beschouwd. Hiervoor gebruiken we zogenaamde *gestandaardiseerde residuen*.\n",
    "\n",
    "We introduceren dit concept aan de hand van een voorbeeld:\n",
    "\n",
    "Stel dat een bepaald onderzoek kijkt naar gezinnen met 5 kinderen. Er wordt een steekproef genomen van 1022 gezinnen, die worden ingedeeld in categorieën op basis van het aantal jongens in het gezin. De frequenties worden hieronder weergegeven in een Pandas DataFrame dat we handmatig zullen aanmaken en systematisch zullen uitbreiden."
   ]
  },
  {
   "cell_type": "code",
   "execution_count": 42,
   "metadata": {},
   "outputs": [],
   "source": [
    "# Data frame with 2 columns:\n",
    "#  - number of boys in the family (index)\n",
    "#  - number of families in the sample with that number of boys\n",
    "families = pd.DataFrame(\n",
    "    np.array(\n",
    "        [[0,  58],\n",
    "         [1, 149],\n",
    "         [2, 305],\n",
    "         [3, 303],\n",
    "         [4, 162],\n",
    "         [5,  45]]),\n",
    "    columns=['num_boys', \"observed\"])\n",
    "families.set_index(['num_boys'])\n",
    "n = families.observed.sum() # sample size"
   ]
  },
  {
   "cell_type": "markdown",
   "metadata": {},
   "source": [
    "Wat is nu het verwachte aantal gezinnen met het gegeven aantal jongens? Laten we aannemen dat de kans op het krijgen van jongens of meisjes even groot is, namelijk 0,5. In dat geval kunnen we de verwachte relatieve frequenties berekenen met deze formule:\n",
    "\n",
    "$\\pi_i = (0,5)^i (1-0,5)^{5-i} \\binom{5}{i}$\n",
    "\n",
    "Waarom dat zo is, is niet relevant voor het onderwerp dat we hier behandelen en valt buiten het bestek van deze cursus.\n",
    "\n",
    "De verwachte absolute frequenties in de steekproef kunnen dan worden berekend als $e_i = n \\pi_i$.\n",
    "\n",
    "We passen dit toe op ons geval:"
   ]
  },
  {
   "cell_type": "code",
   "execution_count": 43,
   "metadata": {},
   "outputs": [
    {
     "data": {
      "text/html": [
       "<div>\n",
       "<style scoped>\n",
       "    .dataframe tbody tr th:only-of-type {\n",
       "        vertical-align: middle;\n",
       "    }\n",
       "\n",
       "    .dataframe tbody tr th {\n",
       "        vertical-align: top;\n",
       "    }\n",
       "\n",
       "    .dataframe thead th {\n",
       "        text-align: right;\n",
       "    }\n",
       "</style>\n",
       "<table border=\"1\" class=\"dataframe\">\n",
       "  <thead>\n",
       "    <tr style=\"text-align: right;\">\n",
       "      <th></th>\n",
       "      <th>num_boys</th>\n",
       "      <th>observed</th>\n",
       "      <th>expected_p</th>\n",
       "      <th>expected</th>\n",
       "    </tr>\n",
       "  </thead>\n",
       "  <tbody>\n",
       "    <tr>\n",
       "      <th>0</th>\n",
       "      <td>0</td>\n",
       "      <td>58</td>\n",
       "      <td>0.03125</td>\n",
       "      <td>31.9375</td>\n",
       "    </tr>\n",
       "    <tr>\n",
       "      <th>1</th>\n",
       "      <td>1</td>\n",
       "      <td>149</td>\n",
       "      <td>0.15625</td>\n",
       "      <td>159.6875</td>\n",
       "    </tr>\n",
       "    <tr>\n",
       "      <th>2</th>\n",
       "      <td>2</td>\n",
       "      <td>305</td>\n",
       "      <td>0.31250</td>\n",
       "      <td>319.3750</td>\n",
       "    </tr>\n",
       "    <tr>\n",
       "      <th>3</th>\n",
       "      <td>3</td>\n",
       "      <td>303</td>\n",
       "      <td>0.31250</td>\n",
       "      <td>319.3750</td>\n",
       "    </tr>\n",
       "    <tr>\n",
       "      <th>4</th>\n",
       "      <td>4</td>\n",
       "      <td>162</td>\n",
       "      <td>0.15625</td>\n",
       "      <td>159.6875</td>\n",
       "    </tr>\n",
       "    <tr>\n",
       "      <th>5</th>\n",
       "      <td>5</td>\n",
       "      <td>45</td>\n",
       "      <td>0.03125</td>\n",
       "      <td>31.9375</td>\n",
       "    </tr>\n",
       "  </tbody>\n",
       "</table>\n",
       "</div>"
      ],
      "text/plain": [
       "   num_boys  observed  expected_p  expected\n",
       "0         0        58     0.03125   31.9375\n",
       "1         1       149     0.15625  159.6875\n",
       "2         2       305     0.31250  319.3750\n",
       "3         3       303     0.31250  319.3750\n",
       "4         4       162     0.15625  159.6875\n",
       "5         5        45     0.03125   31.9375"
      ]
     },
     "execution_count": 43,
     "metadata": {},
     "output_type": "execute_result"
    }
   ],
   "source": [
    "from scipy.special import binom # binomial-function\n",
    "\n",
    "# probability for a boy\n",
    "prob_boy = .5\n",
    "# Add new colum to the data frame for the expected percentages\n",
    "families['expected_p'] = binom(5, families.num_boys) * prob_boy**families.num_boys * prob_boy**(5-families.num_boys)\n",
    "# Expected absolute frequencies in the sample:\n",
    "families['expected'] = families['expected_p'] * n\n",
    "families"
   ]
  },
  {
   "cell_type": "markdown",
   "metadata": {},
   "source": [
    "We perform the chi-squared goodness-of-fit test with significance level $\\alpha = 0.01$."
   ]
  },
  {
   "cell_type": "code",
   "execution_count": 44,
   "metadata": {},
   "outputs": [
    {
     "name": "stdout",
     "output_type": "stream",
     "text": [
      "Chi-squared   χ² = 28.8462\n",
      "Critical value g = 15.0863\n",
      "p-value        p = 0.000025\n"
     ]
    }
   ],
   "source": [
    "alpha=0.01                         # significance level\n",
    "dof=len(families)-1                # degrees of freedom\n",
    "g = stats.chi2.isf(alpha, df=dof)  # Critical value\n",
    "# Perform Chi-squared test, calculate χ² and p\n",
    "chi2, p = stats.chisquare(f_obs=families.observed, f_exp=families.expected)\n",
    "\n",
    "print(\"Chi-squared   χ² = %.4f\" % chi2)\n",
    "print(\"Critical value g = %.4f\" % g)\n",
    "print(\"p-value        p = %f\"   % p)"
   ]
  },
  {
   "cell_type": "markdown",
   "metadata": {},
   "source": [
    "Dit is een zeer kleine p-waarde. De chi-kwadraat ligt ook rechts van de kritische waarde. Dit betekent dat we de nulhypothese kunnen verwerpen. Een grafiek:"
   ]
  },
  {
   "cell_type": "code",
   "execution_count": 10,
   "metadata": {},
   "outputs": [
    {
     "ename": "NameError",
     "evalue": "name 'chi2' is not defined",
     "output_type": "error",
     "traceback": [
      "\u001b[1;31m---------------------------------------------------------------------------\u001b[0m",
      "\u001b[1;31mNameError\u001b[0m                                 Traceback (most recent call last)",
      "Cell \u001b[1;32mIn[10], line 13\u001b[0m\n\u001b[0;32m     10\u001b[0m tplot\u001b[38;5;241m.\u001b[39mfill_between(x, y, where\u001b[38;5;241m=\u001b[39mx\u001b[38;5;241m>\u001b[39m\u001b[38;5;241m=\u001b[39mq, \u001b[38;5;66;03m# critical area\u001b[39;00m\n\u001b[0;32m     11\u001b[0m     color\u001b[38;5;241m=\u001b[39m\u001b[38;5;124m'\u001b[39m\u001b[38;5;124mlightblue\u001b[39m\u001b[38;5;124m'\u001b[39m)\n\u001b[0;32m     12\u001b[0m tplot\u001b[38;5;241m.\u001b[39maxvline(q)                     \u001b[38;5;66;03m# critical value\u001b[39;00m\n\u001b[1;32m---> 13\u001b[0m tplot\u001b[38;5;241m.\u001b[39maxvline(\u001b[43mchi2\u001b[49m, color\u001b[38;5;241m=\u001b[39m\u001b[38;5;124m'\u001b[39m\u001b[38;5;124morange\u001b[39m\u001b[38;5;124m'\u001b[39m); \u001b[38;5;66;03m# chi-squared\u001b[39;00m\n",
      "\u001b[1;31mNameError\u001b[0m: name 'chi2' is not defined"
     ]
    },
    {
     "data": {
      "image/png": "[encoded data removed]",
      "text/plain": [
       "<Figure size 640x480 with 1 Axes>"
      ]
     },
     "metadata": {},
     "output_type": "display_data"
    }
   ],
   "source": [
    "# x-values:\n",
    "x = np.linspace(0, 30, num=200)\n",
    "# probability density of the chi-squared distribution\n",
    "y = stats.chi2.pdf(x, df=dof)\n",
    "# the number q for which the right tail probability is exactly 1%:\n",
    "q = stats.chi2.isf(alpha, df=4)  # TODO: CHECK this!\n",
    "\n",
    "fig, tplot = plt.subplots(1, 1)\n",
    "tplot.plot(x, y)                     # probability density\n",
    "tplot.fill_between(x, y, where=x>=q, # critical area\n",
    "    color='lightblue')\n",
    "tplot.axvline(q)                     # critical value\n",
    "tplot.axvline(chi2, color='orange'); # chi-squared"
   ]
  },
  {
   "cell_type": "markdown",
   "metadata": {},
   "source": [
    "We concluderen dat deze steekproef NIET representatief is voor de populatie!\n",
    "\n",
    "De formule voor het berekenen van gestandaardiseerde residuen is:\n",
    "\n",
    "$r_i = \\frac{o_i-e_i}{\\sqrt{e_i (1-\\pi_i)}}$\n",
    "\n",
    "We voegen deze toe aan ons gegevensframe in een nieuwe kolom:"
   ]
  },
  {
   "cell_type": "code",
   "execution_count": 47,
   "metadata": {},
   "outputs": [
    {
     "data": {
      "text/html": [
       "<div>\n",
       "<style scoped>\n",
       "    .dataframe tbody tr th:only-of-type {\n",
       "        vertical-align: middle;\n",
       "    }\n",
       "\n",
       "    .dataframe tbody tr th {\n",
       "        vertical-align: top;\n",
       "    }\n",
       "\n",
       "    .dataframe thead th {\n",
       "        text-align: right;\n",
       "    }\n",
       "</style>\n",
       "<table border=\"1\" class=\"dataframe\">\n",
       "  <thead>\n",
       "    <tr style=\"text-align: right;\">\n",
       "      <th></th>\n",
       "      <th>num_boys</th>\n",
       "      <th>observed</th>\n",
       "      <th>expected_p</th>\n",
       "      <th>expected</th>\n",
       "      <th>stdres</th>\n",
       "    </tr>\n",
       "  </thead>\n",
       "  <tbody>\n",
       "    <tr>\n",
       "      <th>0</th>\n",
       "      <td>0</td>\n",
       "      <td>58</td>\n",
       "      <td>0.03125</td>\n",
       "      <td>31.9375</td>\n",
       "      <td>4.685541</td>\n",
       "    </tr>\n",
       "    <tr>\n",
       "      <th>1</th>\n",
       "      <td>1</td>\n",
       "      <td>149</td>\n",
       "      <td>0.15625</td>\n",
       "      <td>159.6875</td>\n",
       "      <td>-0.920733</td>\n",
       "    </tr>\n",
       "    <tr>\n",
       "      <th>2</th>\n",
       "      <td>2</td>\n",
       "      <td>305</td>\n",
       "      <td>0.31250</td>\n",
       "      <td>319.3750</td>\n",
       "      <td>-0.970110</td>\n",
       "    </tr>\n",
       "    <tr>\n",
       "      <th>3</th>\n",
       "      <td>3</td>\n",
       "      <td>303</td>\n",
       "      <td>0.31250</td>\n",
       "      <td>319.3750</td>\n",
       "      <td>-1.105082</td>\n",
       "    </tr>\n",
       "    <tr>\n",
       "      <th>4</th>\n",
       "      <td>4</td>\n",
       "      <td>162</td>\n",
       "      <td>0.15625</td>\n",
       "      <td>159.6875</td>\n",
       "      <td>0.199223</td>\n",
       "    </tr>\n",
       "    <tr>\n",
       "      <th>5</th>\n",
       "      <td>5</td>\n",
       "      <td>45</td>\n",
       "      <td>0.03125</td>\n",
       "      <td>31.9375</td>\n",
       "      <td>2.348389</td>\n",
       "    </tr>\n",
       "  </tbody>\n",
       "</table>\n",
       "</div>"
      ],
      "text/plain": [
       "   num_boys  observed  expected_p  expected    stdres\n",
       "0         0        58     0.03125   31.9375  4.685541\n",
       "1         1       149     0.15625  159.6875 -0.920733\n",
       "2         2       305     0.31250  319.3750 -0.970110\n",
       "3         3       303     0.31250  319.3750 -1.105082\n",
       "4         4       162     0.15625  159.6875  0.199223\n",
       "5         5        45     0.03125   31.9375  2.348389"
      ]
     },
     "execution_count": 47,
     "metadata": {},
     "output_type": "execute_result"
    }
   ],
   "source": [
    "families['stdres'] = (families.observed - families.expected) / np.sqrt(families.expected * (1 - families.expected_p))\n",
    "families"
   ]
  },
  {
   "cell_type": "markdown",
   "metadata": {},
   "source": [
    "Gestandaardiseerde residuen zijn een maatstaf voor de mate waarin een bepaalde categorie over- of ondervertegenwoordigd is in de steekproef. Een waarde van 0 wordt gegeven wanneer de waargenomen frequentie gelijk is aan de verwachte frequentie. Een negatieve waarde wordt gegeven wanneer er minder waarnemingen zijn dan verwacht en een positieve waarde wanneer er meer zijn. Zolang $r_i \\in [-2, 2]$, beschouwen we de verschillen als willekeurige steekproeffouten. Een waarde $r_i < -2$ duidt op ondervertegenwoordiging van deze categorie, $r_i > 2$ duidt op oververtegenwoordiging.\n",
    "\n",
    "Gezinnen met alleen meisjes en alleen jongens zijn dus oververtegenwoordigd in de steekproef. In de praktijk kunnen onderzoekers ervoor kiezen om willekeurig een aantal waarnemingen in deze categorieën uit het onderzoek te verwijderen, zodat de steekproef representatief wordt voor de populatie.\n",
    "\n",
    "Merk op dat er een manier is om gestandaardiseerde residuen te berekenen met behulp van [`statsmodels.stats.contingency_tables.Table`](https://www.statsmodels.org/stable/generated/statsmodels.stats.contingency_tables.Table.html#statsmodels.stats.contingency_tables.Table). However, that only works with [contingency tables for two variables](https://www.statsmodels.org/stable/contingency_tables.html?highlight=residuals), not for this case with one variable.\n",
    "\n",
    "## De regel van Cochran\n",
    "\n",
    "Een chi-kwadraattoets kan alleen goede resultaten opleveren als u voldoende waarnemingen in elke categorie hebt. De statisticus Cochran (1954) formuleerde een vuistregel om te bepalen wat precies *voldoende* is voor contingentieschema's groter dan 2x2:\n",
    "\n",
    "- Alle verwachte waarden moeten minimaal 1 zijn\n",
    "- Maximaal 20% van de verwachte waarden mag kleiner zijn dan 5"
   ]
  }
 ],
 "metadata": {
  "kernelspec": {
   "display_name": "Python 3",
   "language": "python",
   "name": "python3"
  },
  "language_info": {
   "codemirror_mode": {
    "name": "ipython",
    "version": 3
   },
   "file_extension": ".py",
   "mimetype": "text/x-python",
   "name": "python",
   "nbconvert_exporter": "python",
   "pygments_lexer": "ipython3",
   "version": "3.12.1"
  },
  "orig_nbformat": 4
 },
 "nbformat": 4,
 "nbformat_minor": 2
}
