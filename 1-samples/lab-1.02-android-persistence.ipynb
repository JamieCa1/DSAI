{
 "cells": [
  {
   "cell_type": "markdown",
   "metadata": {},
   "source": [
    "# Lab 1.02 - Android Persistence\n",
    "\n",
    "Import all necessary Python libraries and create a variable `android_persistence` to load the dataset [android_persistence_cpu.csv](https://github.com/HoGentTIN/dsai-en-labs/blob/main/data/android_persistence_cpu.csv). See the [code book](https://github.com/HoGentTIN/dsai-en-labs/blob/main/data/android_persistence_cpu.md) for more info on the contents. Note this file is not stored as a regular CSV file! You may need to tweak the parameters of the import function to load the file correctly."
   ]
  },
  {
   "cell_type": "code",
   "execution_count": 1,
   "metadata": {},
   "outputs": [],
   "source": [
    "# Package imports for data science\n",
    "import numpy as np\n",
    "import pandas as pd\n",
    "import scipy.stats as stats\n",
    "from pandas.api.types import CategoricalDtype\n",
    "import matplotlib.pyplot as plt\n",
    "import seaborn as sns\n",
    "from statsmodels.graphics.mosaicplot import mosaic"
   ]
  },
  {
   "cell_type": "code",
   "execution_count": 2,
   "metadata": {},
   "outputs": [
    {
     "name": "stderr",
     "output_type": "stream",
     "text": [
      "C:\\Users\\Jamie\\AppData\\Local\\Temp\\ipykernel_21528\\3856569550.py:1: ParserWarning: Falling back to the 'python' engine because the 'c' engine does not support sep=None with delim_whitespace=False; you can avoid this warning by specifying engine='python'.\n",
      "  android_persistence=pd.read_csv('../data/android_persistence_cpu.csv', sep=None)\n"
     ]
    }
   ],
   "source": [
    "android_persistence=pd.read_csv('../data/android_persistence_cpu.csv', sep=None)"
   ]
  },
  {
   "cell_type": "markdown",
   "metadata": {},
   "source": [
    "Verken de dataset:\n",
    "\n",
    "- Hoeveel variabelen en waarnemingen zijn er in de dataset aanwezig?\n",
    "- Wat is het meetniveau van elke variabele?\n",
    "- Voer de conversie van de kwalitatieve variabelen naar het juiste type uit (en specificeer de volgorde van ordinale variabelen).\n",
    "- Maak een lijst van de gegevenstypen in de dataset."
   ]
  },
  {
   "cell_type": "code",
   "execution_count": 3,
   "metadata": {},
   "outputs": [
    {
     "name": "stdout",
     "output_type": "stream",
     "text": [
      "Aantal observaties: 300\n",
      "Aantal variabelen: 3\n"
     ]
    }
   ],
   "source": [
    "# Observaties zijn aantal rijen\n",
    "# Variabels zijn aantal kolommen\n",
    "aantal_rijen, aantal_kolommen = android_persistence.shape\n",
    "print(f\"Aantal observaties: {aantal_rijen}\")\n",
    "print(f\"Aantal variabelen: {aantal_kolommen}\")\n"
   ]
  },
  {
   "cell_type": "code",
   "execution_count": 4,
   "metadata": {},
   "outputs": [
    {
     "name": "stdout",
     "output_type": "stream",
     "text": [
      "<class 'pandas.core.frame.DataFrame'>\n",
      "RangeIndex: 300 entries, 0 to 299\n",
      "Data columns (total 3 columns):\n",
      " #   Column           Non-Null Count  Dtype   \n",
      "---  ------           --------------  -----   \n",
      " 0   Time             300 non-null    float64 \n",
      " 1   PersistenceType  300 non-null    category\n",
      " 2   DataSize         300 non-null    category\n",
      "dtypes: category(2), float64(1)\n",
      "memory usage: 3.4 KB\n"
     ]
    }
   ],
   "source": [
    "android_persistence.PersistenceType = android_persistence.PersistenceType.astype('category')\n",
    "DataSize_Type = CategoricalDtype(categories=[\"Small\", \"Medium\", \"Large\"], ordered=True)\n",
    "android_persistence.DataSize = android_persistence.DataSize.astype(DataSize_Type)\n",
    "android_persistence.info()"
   ]
  },
  {
   "cell_type": "markdown",
   "metadata": {},
   "source": [
    "Describe each variable."
   ]
  },
  {
   "cell_type": "markdown",
   "metadata": {},
   "source": [
    "Welke unieke waarden zijn er voor de variabelen `PersistenceType` en `DataSize`? Hoe vaak komt elke waarde voor?"
   ]
  },
  {
   "cell_type": "code",
   "execution_count": 5,
   "metadata": {},
   "outputs": [
    {
     "name": "stdout",
     "output_type": "stream",
     "text": [
      "PersistenceType\n",
      "GreenDAO             90\n",
      "Realm                90\n",
      "SQLLite              90\n",
      "Sharedpreferences    30\n",
      "Name: count, dtype: int64\n",
      "**************************************************\n",
      "DataSize\n",
      "Small     120\n",
      "Medium     90\n",
      "Large      90\n",
      "Name: count, dtype: int64\n"
     ]
    }
   ],
   "source": [
    "android_persistence[\"PersistenceType\"].unique()\n",
    "print(android_persistence[\"PersistenceType\"].value_counts())\n",
    "\n",
    "print('*'*50)\n",
    "\n",
    "android_persistence[\"DataSize\"].unique()\n",
    "print(android_persistence[\"DataSize\"].value_counts())"
   ]
  },
  {
   "cell_type": "markdown",
   "metadata": {},
   "source": [
    "In deze dataset is het vooral interessant om te weten hoe vaak elke unieke combinatie van `PersistenceType` en `DataSize` voorkomt. Zoek uit hoe je de Pandas-functie `crosstab()` kunt gebruiken om een zogenaamde contingentieschema voor deze variabelen te maken. Dit concept komt trouwens terug in module 4 (waar de relatie tussen twee kwalitatieve variabelen wordt onderzocht)."
   ]
  },
  {
   "cell_type": "code",
   "execution_count": 6,
   "metadata": {},
   "outputs": [
    {
     "name": "stdout",
     "output_type": "stream",
     "text": [
      "DataSize           Small  Medium  Large\n",
      "PersistenceType                        \n",
      "GreenDAO              30      30     30\n",
      "Realm                 30      30     30\n",
      "SQLLite               30      30     30\n",
      "Sharedpreferences     30       0      0\n"
     ]
    }
   ],
   "source": [
    "print(pd.crosstab(android_persistence[\"PersistenceType\"], android_persistence[\"DataSize\"]))"
   ]
  }
 ],
 "metadata": {
  "kernelspec": {
   "display_name": "Python 3",
   "language": "python",
   "name": "python3"
  },
  "language_info": {
   "codemirror_mode": {
    "name": "ipython",
    "version": 3
   },
   "file_extension": ".py",
   "mimetype": "text/x-python",
   "name": "python",
   "nbconvert_exporter": "python",
   "pygments_lexer": "ipython3",
   "version": "3.12.1"
  },
  "orig_nbformat": 4
 },
 "nbformat": 4,
 "nbformat_minor": 2
}
