{
  "cells": [
    {
      "cell_type": "markdown",
      "metadata": {
        "id": "xDBTRYzLSeM_"
      },
      "source": [
        "# Lab 4.03 - Bivariate Analysis of Qualitative Data\n"
      ]
    },
    {
      "cell_type": "code",
      "execution_count": 1,
      "metadata": {
        "id": "j8I-eUfMSeNF"
      },
      "outputs": [],
      "source": [
        "# Importing the necessary packages\n",
        "import numpy as np                                  # \"Scientific computing\"\n",
        "import scipy.stats as stats                         # Statistical tests\n",
        "\n",
        "import pandas as pd                                 # Data Frame\n",
        "from pandas.api.types import CategoricalDtype\n",
        "\n",
        "import matplotlib.pyplot as plt                     # Basic visualisation\n",
        "from statsmodels.graphics.mosaicplot import mosaic  # Mosaic diagram\n",
        "import seaborn as sns                               # Advanced data visualisation"
      ]
    },
    {
      "cell_type": "markdown",
      "metadata": {
        "id": "YBt7tOyqovNc"
      },
      "source": [
        "## Exercise 3 - Discrimination in schoolteacher hiring\n",
        "\n",
        "African Americans in a St. Louis suburb sued the city \n",
        "claiming they were discriminated against in schoolteacher hiring. Of the city's population, 5.7% were \n",
        "African American; of 405 teachers in the school system, 15 were African American. Set up appropriate \n",
        "hypotheses and determine whether African Americans \n",
        "are underrepresented.  \n",
        "Calculate the standardized residuals. \n",
        "\n",
        "Results of the main calculations:\n",
        "- Chi-squared        χ² = 3.0027\n",
        "- Critical value      g = 3.8415\n",
        "- p-value             p = 0.0831\n",
        "- standardized residuals for african american = -1.7328 > - 2"
      ]
    },
    {
      "cell_type": "code",
      "execution_count": 2,
      "metadata": {
        "id": "VxX_Gzrustbn"
      },
      "outputs": [
        {
          "name": "stdout",
          "output_type": "stream",
          "text": [
            "Chi-kwadraattoets:\n",
            "Chi² = 3.0027\n",
            "p-waarde = 0.0831\n"
          ]
        }
      ],
      "source": [
        "\n",
        "total_teachers = 405\n",
        "african_american_percentage = 0.057\n",
        "observed_african_american = 15\n",
        "\n",
        "expected_african_american = total_teachers * african_american_percentage\n",
        "expected_non_african_american = total_teachers - expected_african_american\n",
        "\n",
        "\n",
        "observed_non_african_american = total_teachers - observed_african_american\n",
        "\n",
        "\n",
        "observed = [observed_african_american, observed_non_african_american]\n",
        "expected = [expected_african_american, expected_non_african_american]\n",
        "\n",
        "chi2, p = stats.chisquare(f_obs=observed, f_exp=expected)\n",
        "\n",
        "print(\"Chi-kwadraattoets:\")\n",
        "print(f\"Chi² = {chi2:.4f}\")\n",
        "print(f\"p-waarde = {p:.4f}\")"
      ]
    },
    {
      "cell_type": "code",
      "execution_count": 3,
      "metadata": {
        "id": "V20Cup7Istbo"
      },
      "outputs": [
        {
          "name": "stdout",
          "output_type": "stream",
          "text": [
            "Gestandaardiseerde residuen:\n",
            "Afrikaanse Amerikanen: -1.6827\n",
            "Niet-Afrikaanse Amerikanen: 0.4137\n"
          ]
        }
      ],
      "source": [
        "\n",
        "\n",
        "# Gestandaardiseerde residuen\n",
        "residual_african_american = (observed_african_american - expected_african_american) / np.sqrt(expected_african_american)\n",
        "residual_non_african_american = (observed_non_african_american - expected_non_african_american) / np.sqrt(expected_non_african_american)\n",
        "\n",
        "print(\"Gestandaardiseerde residuen:\")\n",
        "print(f\"Afrikaanse Amerikanen: {residual_african_american:.4f}\")\n",
        "print(f\"Niet-Afrikaanse Amerikanen: {residual_non_african_american:.4f}\")"
      ]
    },
    {
      "cell_type": "code",
      "execution_count": null,
      "metadata": {
        "id": "2iuZ0kBHZKJt"
      },
      "outputs": [],
      "source": []
    }
  ],
  "metadata": {
    "colab": {
      "provenance": []
    },
    "kernelspec": {
      "display_name": "Python 3",
      "language": "python",
      "name": "python3"
    },
    "language_info": {
      "codemirror_mode": {
        "name": "ipython",
        "version": 3
      },
      "file_extension": ".py",
      "mimetype": "text/x-python",
      "name": "python",
      "nbconvert_exporter": "python",
      "pygments_lexer": "ipython3",
      "version": "3.12.1"
    },
    "orig_nbformat": 4
  },
  "nbformat": 4,
  "nbformat_minor": 0
}
