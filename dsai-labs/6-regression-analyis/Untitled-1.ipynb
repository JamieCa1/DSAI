{
 "cells": [
  {
   "cell_type": "markdown",
   "id": "fca430b9",
   "metadata": {},
   "source": [
    "# Lab 6.01 - Regression Analysis"
   ]
  },
  {
   "cell_type": "code",
   "execution_count": null,
   "id": "5fa88ff4",
   "metadata": {},
   "outputs": [],
   "source": [
    "# Package imports\n",
    "import numpy as np                                  # \"Scientific computing\"\n",
    "import scipy.stats as stats                         # Statistical tests\n",
    "\n",
    "import pandas as pd                                 # Dataframe\n",
    "import matplotlib.pyplot as plt                     # Basic visualisation\n",
    "from statsmodels.graphics.mosaicplot import mosaic  # Mosaic plot\n",
    "import seaborn as sns                               # Advanced dataviz\n",
    "from sklearn.linear_model import LinearRegression"
   ]
  },
  {
   "cell_type": "markdown",
   "id": "4e67673d",
   "metadata": {},
   "source": [
    "## Exercise 1: Relation between heart weight and body weight in Cats\n",
    "\n",
    "### Part 1\n",
    "\n",
    "Perform a linear regression analysis on the variables body weight (`Bwt`, dependent variable) and heart weight (`Hwt`, independent variable).\n",
    "\n",
    "1. Import the dataset `Cats.csv`."
   ]
  },
  {
   "cell_type": "code",
   "execution_count": null,
   "id": "16318bf9",
   "metadata": {},
   "outputs": [],
   "source": [
    "cats = pd.read_csv('https://raw.githubusercontent.com/HoGentTIN/dsai-labs/main/data/Cats.csv')\n",
    "# Show the first few records of the Data Frame\n",
    "cats.head()"
   ]
  },
  {
   "cell_type": "markdown",
   "id": "985f24c1",
   "metadata": {},
   "source": [
    "2. Draw a scatter plot of both variables."
   ]
  }
 ],
 "metadata": {
  "language_info": {
   "name": "python"
  }
 },
 "nbformat": 4,
 "nbformat_minor": 5
}
