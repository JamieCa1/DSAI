{
  "cells": [
    {
      "cell_type": "markdown",
      "metadata": {
        "id": "L-c2gtVm6Sgp"
      },
      "source": [
        "#📦Imports"
      ]
    },
    {
      "cell_type": "code",
      "execution_count": 5,
      "metadata": {
        "colab": {
          "base_uri": "https://localhost:8080/"
        },
        "id": "0Vxu9Brj6jTg",
        "outputId": "28918976-a7a8-4d30-ce50-63b38c465569"
      },
      "outputs": [
        {
          "name": "stdout",
          "output_type": "stream",
          "text": [
            "Drive already mounted at /content/drive; to attempt to forcibly remount, call drive.mount(\"/content/drive\", force_remount=True).\n"
          ]
        }
      ],
      "source": [
        "from google.colab import drive\n",
        "drive.mount('/content/drive')\n",
        "pad_naar_csv = '/content/drive/MyDrive/data/bestand.csv'\n",
        "\n",
        "df = pd.read_csv(pad_naar_csv)\n",
        "\n",
        "from pandas.api.types import CategoricalDtype\n",
        "import numpy as np                      # Numerieke berekeningen\n",
        "import pandas as pd                     # Dataframes\n",
        "import seaborn as sns                   # Geavanceerde visualisaties\n",
        "import matplotlib.pyplot as plt         # Basisvisualisaties\n",
        "import scipy.stats as stats             # Statistische functies\n",
        "from statsmodels.graphics.mosaicplot import mosaic  # Mozaïekdiagram\n",
        "import numpy as np\n",
        "from scipy import stats\n",
        "import scipy.stats as stats\n",
        "import math\n",
        "import numpy as np                                  # \"Scientific computing\"\n",
        "import scipy.stats as stats                         # Statistical tests\n",
        "\n",
        "import random\n",
        "import math\n",
        "\n",
        "import pandas as pd                                 # Data Frame\n",
        "from pandas.api.types import CategoricalDtype\n",
        "\n",
        "import matplotlib.pyplot as plt                     # Basic visualisation\n",
        "from statsmodels.graphics.mosaicplot import mosaic  # Mosaic diagram\n",
        "import seaborn as sns\n",
        "from scipy.stats import norm\n",
        "from scipy.stats import norm, t\n",
        "from scipy import stats\n",
        "import numpy as np\n",
        "import numpy as np\n",
        "from scipy.stats import chi2_contingency\n",
        "from scipy.stats import chisquare\n",
        "from scipy.stats import pearsonr\n",
        "import numpy as np\n",
        "from sklearn.linear_model import LinearRegression\n",
        "import numpy as np\n",
        "import pandas as pd\n",
        "from statsmodels.tsa.holtwinters import SimpleExpSmoothing\n",
        "import pandas as pd\n",
        "import matplotlib.pyplot as plt\n",
        "from statsmodels.tsa.holtwinters import SimpleExpSmoothing, Holt, ExponentialSmoothing\n",
        "import matplotlib.pyplot as plt"
      ]
    },
    {
      "cell_type": "markdown",
      "metadata": {
        "id": "SzHBClPSQzAZ"
      },
      "source": [
        "# 🧠Module 1 Cheatsheet: Samples & Jupyter Notebooks"
      ]
    },
    {
      "cell_type": "markdown",
      "metadata": {
        "id": "tx1kLJQSSAVV"
      },
      "source": [
        "Dataset openen & verkennen"
      ]
    },
    {
      "cell_type": "code",
      "execution_count": null,
      "metadata": {
        "id": "Sra68yu-SE3I"
      },
      "outputs": [],
      "source": [
        "df = pd.read_csv('url_of_path.csv')\n",
        "df.head()"
      ]
    },
    {
      "cell_type": "code",
      "execution_count": null,
      "metadata": {
        "id": "25q_zHfbSFcq"
      },
      "outputs": [],
      "source": [
        "from google.colab import drive\n",
        "drive.mount('/content/drive')\n",
        "df = pd.read_csv('/content/drive/MyDrive/path/file.csv')\n"
      ]
    },
    {
      "cell_type": "code",
      "execution_count": null,
      "metadata": {
        "id": "8JAvYdX-SJI5"
      },
      "outputs": [],
      "source": [
        "print(len(df))              # aantal rijen\n",
        "print(len(df.columns))      # aantal kolommen\n",
        "print(df.shape)             # (rijen, kolommen)\n",
        "df.info()                  # details data types, non-null\n",
        "print(df.dtypes)\n",
        "print(df.dtypes.value_counts())\n"
      ]
    },
    {
      "cell_type": "markdown",
      "metadata": {
        "id": "K_O-LHG4SNgM"
      },
      "source": [
        "index instellen"
      ]
    },
    {
      "cell_type": "code",
      "execution_count": null,
      "metadata": {
        "id": "S2DMcNHCSL54"
      },
      "outputs": [],
      "source": [
        "df.set_index('PassengerId', inplace=True)\n"
      ]
    },
    {
      "cell_type": "markdown",
      "metadata": {
        "id": "KldYgWhzShxZ"
      },
      "source": [
        "categorien & ordinaal maken (volgorde is van belang)"
      ]
    },
    {
      "cell_type": "code",
      "execution_count": null,
      "metadata": {
        "id": "udV1bwuBSMzf"
      },
      "outputs": [],
      "source": [
        "df['Survived'] = df['Survived'].astype('category')\n",
        "\n",
        "from pandas.api.types import CategoricalDtype\n",
        "order = CategoricalDtype(categories=['S','C','Q'], ordered=True)\n",
        "df['Embarked'] = df['Embarked'].astype(order)\n"
      ]
    },
    {
      "cell_type": "markdown",
      "metadata": {
        "id": "IxcUb4-DSsHG"
      },
      "source": [
        "tekst selecteren"
      ]
    },
    {
      "cell_type": "code",
      "execution_count": null,
      "metadata": {
        "id": "f5QGAw6ySvQK"
      },
      "outputs": [],
      "source": [
        "df['Age']\n",
        "df.Age\n",
        "\n",
        "df[['Name', 'Age']]\n",
        "\n",
        "df.iloc[5]\n",
        "df.iloc[0:4]  # eerste 4 rijen\n",
        "\n",
        "df[df.Age < 18]\n",
        "df2 =df.query(\"(Sex=='male') and (Age < 18)\")\n",
        "df2.head()"
      ]
    },
    {
      "cell_type": "markdown",
      "metadata": {
        "id": "BMtG8B_4S8SB"
      },
      "source": [
        "Omgaan met ontbrekende waarden (missing data)"
      ]
    },
    {
      "cell_type": "code",
      "execution_count": null,
      "metadata": {
        "id": "DDVaD9U8S9TC"
      },
      "outputs": [],
      "source": [
        "df.drop('PassengerId', axis=1, inplace=True)\n",
        "\n",
        "df.dropna(inplace=True)              # rijen met minimaal 1 missing value\n",
        "df.dropna(how='all', inplace=True)   # alleen rijen met alleen missing values\n",
        "\n",
        "df.count()  #telt aantal rijen\n",
        "df.notnull().sum() # som van alle niet null data\n",
        "\n",
        "\n",
        "avg_age = df['Age'].mean()  #invullen van de data\n",
        "df['Age'] = df['Age'].fillna(avg_age)"
      ]
    },
    {
      "cell_type": "markdown",
      "metadata": {
        "id": "LLkGp9CyUSZ7"
      },
      "source": [
        "\n",
        "# 📊 Reflectie & Theorie Module 1\n",
        "\n",
        "\n",
        "\n",
        "\n",
        "\n",
        "\n",
        "\n"
      ]
    },
    {
      "cell_type": "markdown",
      "metadata": {
        "id": "TWKnE0CtjLSj"
      },
      "source": [
        "## Meetniveaus"
      ]
    },
    {
      "cell_type": "markdown",
      "metadata": {
        "id": "PiZPFKQYjQa3"
      },
      "source": [
        "| Meetniveau | Kenmerken                         | Voorbeeld                 |\n",
        "|------------|----------------------------------|---------------------------|\n",
        "| Nominaal   | Categorisch, geen volgorde        | Geslacht, kleuren          |\n",
        "| Ordinaal   | Categorisch met volgorde          | Opleidingsniveau, klanttevredenheid |\n",
        "| Interval   | Numeriek, gelijke intervallen, geen absoluut nulpunt | Temperatuur in °C         |\n",
        "| Ratio      | Numeriek, absoluut nulpunt        | Gewicht, leeftijd          |\n"
      ]
    },
    {
      "cell_type": "markdown",
      "metadata": {
        "id": "m_NXNe18jUhA"
      },
      "source": [
        "## Sampling Methods"
      ]
    },
    {
      "cell_type": "markdown",
      "metadata": {
        "id": "EEl0an6OjaBI"
      },
      "source": [
        "| Methode           | Kenmerken                                | Voor- en nadelen                         | Mogelijke fouten              |\n",
        "|-------------------|-----------------------------------------|-----------------------------------------|------------------------------|\n",
        "| Quota sampling    | Niet-random, op basis van proporties     | Snel, makkelijk, maar mogelijk niet representatief | Selectiebias, vertekening    |\n",
        "| Random sampling   | Elke eenheid gelijke kans                 | Objectief, eenvoudig                    | Kan bij kleine steekproef variëren |\n",
        "| Stratified sampling | Populatie verdeeld in strata, random per strata | Representatief voor subgroepen         | Vereist kennis van strata     |"
      ]
    },
    {
      "cell_type": "markdown",
      "metadata": {
        "id": "FuDbk40XbLIr"
      },
      "source": [
        "# 🧠Module 2  Univariate Analysis"
      ]
    },
    {
      "cell_type": "code",
      "execution_count": null,
      "metadata": {
        "id": "81fCLEsXU3-K"
      },
      "outputs": [],
      "source": [
        "import numpy as np                      # Numerieke berekeningen\n",
        "import pandas as pd                     # Dataframes\n",
        "import seaborn as sns                   # Geavanceerde visualisaties\n",
        "import matplotlib.pyplot as plt         # Basisvisualisaties\n",
        "import scipy.stats as stats             # Statistische functies\n",
        "from statsmodels.graphics.mosaicplot import mosaic  # Mozaïekdiagram\n"
      ]
    },
    {
      "cell_type": "markdown",
      "metadata": {
        "id": "84zJmnsabVPB"
      },
      "source": [
        "## 📊 Datasetvoorbeeld\n"
      ]
    },
    {
      "cell_type": "code",
      "execution_count": null,
      "metadata": {
        "colab": {
          "base_uri": "https://localhost:8080/",
          "height": 206
        },
        "id": "Q6OWlReqbZy-",
        "outputId": "834399ec-c692-4457-d54d-4a86d374b91a"
      },
      "outputs": [
        {
          "data": {
            "application/vnd.google.colaboratory.intrinsic+json": {
              "summary": "{\n  \"name\": \"tips\",\n  \"rows\": 244,\n  \"fields\": [\n    {\n      \"column\": \"total_bill\",\n      \"properties\": {\n        \"dtype\": \"number\",\n        \"std\": 8.902411954856856,\n        \"min\": 3.07,\n        \"max\": 50.81,\n        \"num_unique_values\": 229,\n        \"samples\": [\n          22.12,\n          20.23,\n          14.78\n        ],\n        \"semantic_type\": \"\",\n        \"description\": \"\"\n      }\n    },\n    {\n      \"column\": \"tip\",\n      \"properties\": {\n        \"dtype\": \"number\",\n        \"std\": 1.3836381890011826,\n        \"min\": 1.0,\n        \"max\": 10.0,\n        \"num_unique_values\": 123,\n        \"samples\": [\n          3.35,\n          1.5,\n          6.73\n        ],\n        \"semantic_type\": \"\",\n        \"description\": \"\"\n      }\n    },\n    {\n      \"column\": \"sex\",\n      \"properties\": {\n        \"dtype\": \"category\",\n        \"num_unique_values\": 2,\n        \"samples\": [\n          \"Male\",\n          \"Female\"\n        ],\n        \"semantic_type\": \"\",\n        \"description\": \"\"\n      }\n    },\n    {\n      \"column\": \"smoker\",\n      \"properties\": {\n        \"dtype\": \"category\",\n        \"num_unique_values\": 2,\n        \"samples\": [\n          \"Yes\",\n          \"No\"\n        ],\n        \"semantic_type\": \"\",\n        \"description\": \"\"\n      }\n    },\n    {\n      \"column\": \"day\",\n      \"properties\": {\n        \"dtype\": \"category\",\n        \"num_unique_values\": 4,\n        \"samples\": [\n          \"Sat\",\n          \"Fri\"\n        ],\n        \"semantic_type\": \"\",\n        \"description\": \"\"\n      }\n    },\n    {\n      \"column\": \"time\",\n      \"properties\": {\n        \"dtype\": \"category\",\n        \"num_unique_values\": 2,\n        \"samples\": [\n          \"Lunch\",\n          \"Dinner\"\n        ],\n        \"semantic_type\": \"\",\n        \"description\": \"\"\n      }\n    },\n    {\n      \"column\": \"size\",\n      \"properties\": {\n        \"dtype\": \"number\",\n        \"std\": 0,\n        \"min\": 1,\n        \"max\": 6,\n        \"num_unique_values\": 6,\n        \"samples\": [\n          2,\n          3\n        ],\n        \"semantic_type\": \"\",\n        \"description\": \"\"\n      }\n    }\n  ]\n}",
              "type": "dataframe",
              "variable_name": "tips"
            },
            "text/html": [
              "\n",
              "  <div id=\"df-aecf63a7-888e-4280-abe9-0240d303d8ee\" class=\"colab-df-container\">\n",
              "    <div>\n",
              "<style scoped>\n",
              "    .dataframe tbody tr th:only-of-type {\n",
              "        vertical-align: middle;\n",
              "    }\n",
              "\n",
              "    .dataframe tbody tr th {\n",
              "        vertical-align: top;\n",
              "    }\n",
              "\n",
              "    .dataframe thead th {\n",
              "        text-align: right;\n",
              "    }\n",
              "</style>\n",
              "<table border=\"1\" class=\"dataframe\">\n",
              "  <thead>\n",
              "    <tr style=\"text-align: right;\">\n",
              "      <th></th>\n",
              "      <th>total_bill</th>\n",
              "      <th>tip</th>\n",
              "      <th>sex</th>\n",
              "      <th>smoker</th>\n",
              "      <th>day</th>\n",
              "      <th>time</th>\n",
              "      <th>size</th>\n",
              "    </tr>\n",
              "  </thead>\n",
              "  <tbody>\n",
              "    <tr>\n",
              "      <th>0</th>\n",
              "      <td>16.99</td>\n",
              "      <td>1.01</td>\n",
              "      <td>Female</td>\n",
              "      <td>No</td>\n",
              "      <td>Sun</td>\n",
              "      <td>Dinner</td>\n",
              "      <td>2</td>\n",
              "    </tr>\n",
              "    <tr>\n",
              "      <th>1</th>\n",
              "      <td>10.34</td>\n",
              "      <td>1.66</td>\n",
              "      <td>Male</td>\n",
              "      <td>No</td>\n",
              "      <td>Sun</td>\n",
              "      <td>Dinner</td>\n",
              "      <td>3</td>\n",
              "    </tr>\n",
              "    <tr>\n",
              "      <th>2</th>\n",
              "      <td>21.01</td>\n",
              "      <td>3.50</td>\n",
              "      <td>Male</td>\n",
              "      <td>No</td>\n",
              "      <td>Sun</td>\n",
              "      <td>Dinner</td>\n",
              "      <td>3</td>\n",
              "    </tr>\n",
              "    <tr>\n",
              "      <th>3</th>\n",
              "      <td>23.68</td>\n",
              "      <td>3.31</td>\n",
              "      <td>Male</td>\n",
              "      <td>No</td>\n",
              "      <td>Sun</td>\n",
              "      <td>Dinner</td>\n",
              "      <td>2</td>\n",
              "    </tr>\n",
              "    <tr>\n",
              "      <th>4</th>\n",
              "      <td>24.59</td>\n",
              "      <td>3.61</td>\n",
              "      <td>Female</td>\n",
              "      <td>No</td>\n",
              "      <td>Sun</td>\n",
              "      <td>Dinner</td>\n",
              "      <td>4</td>\n",
              "    </tr>\n",
              "  </tbody>\n",
              "</table>\n",
              "</div>\n",
              "    <div class=\"colab-df-buttons\">\n",
              "\n",
              "  <div class=\"colab-df-container\">\n",
              "    <button class=\"colab-df-convert\" onclick=\"convertToInteractive('df-aecf63a7-888e-4280-abe9-0240d303d8ee')\"\n",
              "            title=\"Convert this dataframe to an interactive table.\"\n",
              "            style=\"display:none;\">\n",
              "\n",
              "  <svg xmlns=\"http://www.w3.org/2000/svg\" height=\"24px\" viewBox=\"0 -960 960 960\">\n",
              "    <path d=\"M120-120v-720h720v720H120Zm60-500h600v-160H180v160Zm220 220h160v-160H400v160Zm0 220h160v-160H400v160ZM180-400h160v-160H180v160Zm440 0h160v-160H620v160ZM180-180h160v-160H180v160Zm440 0h160v-160H620v160Z\"/>\n",
              "  </svg>\n",
              "    </button>\n",
              "\n",
              "  <style>\n",
              "    .colab-df-container {\n",
              "      display:flex;\n",
              "      gap: 12px;\n",
              "    }\n",
              "\n",
              "    .colab-df-convert {\n",
              "      background-color: #E8F0FE;\n",
              "      border: none;\n",
              "      border-radius: 50%;\n",
              "      cursor: pointer;\n",
              "      display: none;\n",
              "      fill: #1967D2;\n",
              "      height: 32px;\n",
              "      padding: 0 0 0 0;\n",
              "      width: 32px;\n",
              "    }\n",
              "\n",
              "    .colab-df-convert:hover {\n",
              "      background-color: #E2EBFA;\n",
              "      box-shadow: 0px 1px 2px rgba(60, 64, 67, 0.3), 0px 1px 3px 1px rgba(60, 64, 67, 0.15);\n",
              "      fill: #174EA6;\n",
              "    }\n",
              "\n",
              "    .colab-df-buttons div {\n",
              "      margin-bottom: 4px;\n",
              "    }\n",
              "\n",
              "    [theme=dark] .colab-df-convert {\n",
              "      background-color: #3B4455;\n",
              "      fill: #D2E3FC;\n",
              "    }\n",
              "\n",
              "    [theme=dark] .colab-df-convert:hover {\n",
              "      background-color: #434B5C;\n",
              "      box-shadow: 0px 1px 3px 1px rgba(0, 0, 0, 0.15);\n",
              "      filter: drop-shadow(0px 1px 2px rgba(0, 0, 0, 0.3));\n",
              "      fill: #FFFFFF;\n",
              "    }\n",
              "  </style>\n",
              "\n",
              "    <script>\n",
              "      const buttonEl =\n",
              "        document.querySelector('#df-aecf63a7-888e-4280-abe9-0240d303d8ee button.colab-df-convert');\n",
              "      buttonEl.style.display =\n",
              "        google.colab.kernel.accessAllowed ? 'block' : 'none';\n",
              "\n",
              "      async function convertToInteractive(key) {\n",
              "        const element = document.querySelector('#df-aecf63a7-888e-4280-abe9-0240d303d8ee');\n",
              "        const dataTable =\n",
              "          await google.colab.kernel.invokeFunction('convertToInteractive',\n",
              "                                                    [key], {});\n",
              "        if (!dataTable) return;\n",
              "\n",
              "        const docLinkHtml = 'Like what you see? Visit the ' +\n",
              "          '<a target=\"_blank\" href=https://colab.research.google.com/notebooks/data_table.ipynb>data table notebook</a>'\n",
              "          + ' to learn more about interactive tables.';\n",
              "        element.innerHTML = '';\n",
              "        dataTable['output_type'] = 'display_data';\n",
              "        await google.colab.output.renderOutput(dataTable, element);\n",
              "        const docLink = document.createElement('div');\n",
              "        docLink.innerHTML = docLinkHtml;\n",
              "        element.appendChild(docLink);\n",
              "      }\n",
              "    </script>\n",
              "  </div>\n",
              "\n",
              "\n",
              "    <div id=\"df-5b2b76c9-3094-4a0f-bbc7-d6eaeb6f150d\">\n",
              "      <button class=\"colab-df-quickchart\" onclick=\"quickchart('df-5b2b76c9-3094-4a0f-bbc7-d6eaeb6f150d')\"\n",
              "                title=\"Suggest charts\"\n",
              "                style=\"display:none;\">\n",
              "\n",
              "<svg xmlns=\"http://www.w3.org/2000/svg\" height=\"24px\"viewBox=\"0 0 24 24\"\n",
              "     width=\"24px\">\n",
              "    <g>\n",
              "        <path d=\"M19 3H5c-1.1 0-2 .9-2 2v14c0 1.1.9 2 2 2h14c1.1 0 2-.9 2-2V5c0-1.1-.9-2-2-2zM9 17H7v-7h2v7zm4 0h-2V7h2v10zm4 0h-2v-4h2v4z\"/>\n",
              "    </g>\n",
              "</svg>\n",
              "      </button>\n",
              "\n",
              "<style>\n",
              "  .colab-df-quickchart {\n",
              "      --bg-color: #E8F0FE;\n",
              "      --fill-color: #1967D2;\n",
              "      --hover-bg-color: #E2EBFA;\n",
              "      --hover-fill-color: #174EA6;\n",
              "      --disabled-fill-color: #AAA;\n",
              "      --disabled-bg-color: #DDD;\n",
              "  }\n",
              "\n",
              "  [theme=dark] .colab-df-quickchart {\n",
              "      --bg-color: #3B4455;\n",
              "      --fill-color: #D2E3FC;\n",
              "      --hover-bg-color: #434B5C;\n",
              "      --hover-fill-color: #FFFFFF;\n",
              "      --disabled-bg-color: #3B4455;\n",
              "      --disabled-fill-color: #666;\n",
              "  }\n",
              "\n",
              "  .colab-df-quickchart {\n",
              "    background-color: var(--bg-color);\n",
              "    border: none;\n",
              "    border-radius: 50%;\n",
              "    cursor: pointer;\n",
              "    display: none;\n",
              "    fill: var(--fill-color);\n",
              "    height: 32px;\n",
              "    padding: 0;\n",
              "    width: 32px;\n",
              "  }\n",
              "\n",
              "  .colab-df-quickchart:hover {\n",
              "    background-color: var(--hover-bg-color);\n",
              "    box-shadow: 0 1px 2px rgba(60, 64, 67, 0.3), 0 1px 3px 1px rgba(60, 64, 67, 0.15);\n",
              "    fill: var(--button-hover-fill-color);\n",
              "  }\n",
              "\n",
              "  .colab-df-quickchart-complete:disabled,\n",
              "  .colab-df-quickchart-complete:disabled:hover {\n",
              "    background-color: var(--disabled-bg-color);\n",
              "    fill: var(--disabled-fill-color);\n",
              "    box-shadow: none;\n",
              "  }\n",
              "\n",
              "  .colab-df-spinner {\n",
              "    border: 2px solid var(--fill-color);\n",
              "    border-color: transparent;\n",
              "    border-bottom-color: var(--fill-color);\n",
              "    animation:\n",
              "      spin 1s steps(1) infinite;\n",
              "  }\n",
              "\n",
              "  @keyframes spin {\n",
              "    0% {\n",
              "      border-color: transparent;\n",
              "      border-bottom-color: var(--fill-color);\n",
              "      border-left-color: var(--fill-color);\n",
              "    }\n",
              "    20% {\n",
              "      border-color: transparent;\n",
              "      border-left-color: var(--fill-color);\n",
              "      border-top-color: var(--fill-color);\n",
              "    }\n",
              "    30% {\n",
              "      border-color: transparent;\n",
              "      border-left-color: var(--fill-color);\n",
              "      border-top-color: var(--fill-color);\n",
              "      border-right-color: var(--fill-color);\n",
              "    }\n",
              "    40% {\n",
              "      border-color: transparent;\n",
              "      border-right-color: var(--fill-color);\n",
              "      border-top-color: var(--fill-color);\n",
              "    }\n",
              "    60% {\n",
              "      border-color: transparent;\n",
              "      border-right-color: var(--fill-color);\n",
              "    }\n",
              "    80% {\n",
              "      border-color: transparent;\n",
              "      border-right-color: var(--fill-color);\n",
              "      border-bottom-color: var(--fill-color);\n",
              "    }\n",
              "    90% {\n",
              "      border-color: transparent;\n",
              "      border-bottom-color: var(--fill-color);\n",
              "    }\n",
              "  }\n",
              "</style>\n",
              "\n",
              "      <script>\n",
              "        async function quickchart(key) {\n",
              "          const quickchartButtonEl =\n",
              "            document.querySelector('#' + key + ' button');\n",
              "          quickchartButtonEl.disabled = true;  // To prevent multiple clicks.\n",
              "          quickchartButtonEl.classList.add('colab-df-spinner');\n",
              "          try {\n",
              "            const charts = await google.colab.kernel.invokeFunction(\n",
              "                'suggestCharts', [key], {});\n",
              "          } catch (error) {\n",
              "            console.error('Error during call to suggestCharts:', error);\n",
              "          }\n",
              "          quickchartButtonEl.classList.remove('colab-df-spinner');\n",
              "          quickchartButtonEl.classList.add('colab-df-quickchart-complete');\n",
              "        }\n",
              "        (() => {\n",
              "          let quickchartButtonEl =\n",
              "            document.querySelector('#df-5b2b76c9-3094-4a0f-bbc7-d6eaeb6f150d button');\n",
              "          quickchartButtonEl.style.display =\n",
              "            google.colab.kernel.accessAllowed ? 'block' : 'none';\n",
              "        })();\n",
              "      </script>\n",
              "    </div>\n",
              "\n",
              "    </div>\n",
              "  </div>\n"
            ],
            "text/plain": [
              "   total_bill   tip     sex smoker  day    time  size\n",
              "0       16.99  1.01  Female     No  Sun  Dinner     2\n",
              "1       10.34  1.66    Male     No  Sun  Dinner     3\n",
              "2       21.01  3.50    Male     No  Sun  Dinner     3\n",
              "3       23.68  3.31    Male     No  Sun  Dinner     2\n",
              "4       24.59  3.61  Female     No  Sun  Dinner     4"
            ]
          },
          "execution_count": 3,
          "metadata": {},
          "output_type": "execute_result"
        }
      ],
      "source": [
        "tips = sns.load_dataset(\"tips\")\n",
        "tips.head()  # bekijk eerste rijen"
      ]
    },
    {
      "cell_type": "markdown",
      "metadata": {
        "id": "I2QoMobFbnRT"
      },
      "source": [
        "## 🎨 Visualisaties"
      ]
    },
    {
      "cell_type": "code",
      "execution_count": null,
      "metadata": {
        "colab": {
          "base_uri": "https://localhost:8080/",
          "height": 523
        },
        "id": "eAGLKuUqbmtb",
        "outputId": "9bf7676c-c2e7-4586-b7cd-82a95c6a0aa3"
      },
      "outputs": [
        {
          "data": {
            "text/plain": [
              "<seaborn.axisgrid.FacetGrid at 0x78edf6512650>"
            ]
          },
          "execution_count": 4,
          "metadata": {},
          "output_type": "execute_result"
        },
        {
          "data": {
            "image/png": "[encoded data removed]",
            "text/plain": [
              "<Figure size 511.111x500 with 1 Axes>"
            ]
          },
          "metadata": {},
          "output_type": "display_data"
        }
      ],
      "source": [
        "#Categorische variabelen (kwalitatief)\n",
        "sns.catplot(data=tips, kind='count', y='day')"
      ]
    },
    {
      "cell_type": "code",
      "execution_count": null,
      "metadata": {
        "colab": {
          "base_uri": "https://localhost:8080/",
          "height": 1000
        },
        "id": "cqViSULMby87",
        "outputId": "f9c5138b-d720-40b5-8f69-6d7a131b3630"
      },
      "outputs": [
        {
          "data": {
            "text/plain": [
              "<seaborn.axisgrid.FacetGrid at 0x78edf1db1450>"
            ]
          },
          "execution_count": 6,
          "metadata": {},
          "output_type": "execute_result"
        },
        {
          "data": {
            "image/png": "[encoded data removed]",
            "text/plain": [
              "<Figure size 640x480 with 1 Axes>"
            ]
          },
          "metadata": {},
          "output_type": "display_data"
        },
        {
          "data": {
            "image/png": "[encoded data removed]",
            "text/plain": [
              "<Figure size 500x500 with 1 Axes>"
            ]
          },
          "metadata": {},
          "output_type": "display_data"
        },
        {
          "data": {
            "image/png": "[encoded data removed]",
            "text/plain": [
              "<Figure size 500x500 with 1 Axes>"
            ]
          },
          "metadata": {},
          "output_type": "display_data"
        },
        {
          "data": {
            "image/png": "[encoded data removed]",
            "text/plain": [
              "<Figure size 500x500 with 1 Axes>"
            ]
          },
          "metadata": {},
          "output_type": "display_data"
        }
      ],
      "source": [
        "# Numerieke variabelen (kwantitatief)\n",
        "\n",
        "sns.boxplot(data=tips, x='tip')               # Boxplot\n",
        "sns.displot(data=tips, x='tip')               # Histogram\n",
        "sns.displot(data=tips, x='tip', bins=30)      # Histogram met 30 bins\n",
        "sns.kdeplot(data=tips, x='tip')               # Density plot\n",
        "sns.violinplot(data=tips, x='tip')            # Violin plot\n",
        "sns.displot(data=tips, x='tip', kde=True)     # Histogram + density\n"
      ]
    },
    {
      "cell_type": "code",
      "execution_count": null,
      "metadata": {
        "colab": {
          "base_uri": "https://localhost:8080/"
        },
        "id": "n0iX8HStcWWL",
        "outputId": "0f6bc9e4-b817-4cf4-ec4a-5ee80e2a725d"
      },
      "outputs": [
        {
          "name": "stdout",
          "output_type": "stream",
          "text": [
            "Descriptive Statistics:\n",
            "count    244.000000\n",
            "mean       2.998279\n",
            "std        1.383638\n",
            "min        1.000000\n",
            "25%        2.000000\n",
            "50%        2.900000\n",
            "75%        3.562500\n",
            "max       10.000000\n",
            "Name: tip, dtype: float64\n",
            "\n",
            "Mean: 2.99827868852459\n",
            "Median: 2.9\n",
            "Standard Deviation: 1.3836381890011826\n",
            "Variance: 1.9144546380624725\n",
            "Min, Max: 1.0 10.0\n",
            "\n",
            "Percentiles:\n",
            "0.00     1.0000\n",
            "0.25     2.0000\n",
            "0.50     2.9000\n",
            "0.75     3.5625\n",
            "1.00    10.0000\n",
            "Name: tip, dtype: float64\n",
            "\n",
            "IQR: 1.5625\n"
          ]
        }
      ],
      "source": [
        "\n",
        "print(\"Descriptive Statistics:\")\n",
        "print(tips.tip.describe())\n",
        "print(\"\\nMean:\", tips.tip.mean())\n",
        "print(\"Median:\", tips.tip.median())\n",
        "print(\"Standard Deviation:\", tips.tip.std())\n",
        "print(\"Variance:\", tips.tip.var())\n",
        "print(\"Min, Max:\", tips.tip.min(), tips.tip.max())\n",
        "print(\"\\nPercentiles:\")\n",
        "print(tips.tip.quantile([0.0, 0.25, 0.5, 0.75, 1.0,]))\n",
        "print(\"\\nIQR:\", stats.iqr(tips.tip))"
      ]
    },
    {
      "cell_type": "markdown",
      "metadata": {
        "id": "8yMZh8pUd2hW"
      },
      "source": [
        "### Vorm van de verdeling"
      ]
    },
    {
      "cell_type": "code",
      "execution_count": null,
      "metadata": {
        "colab": {
          "base_uri": "https://localhost:8080/"
        },
        "id": "sxz6d7Xyd60Q",
        "outputId": "8945faef-17c5-44fa-80a3-1d5d3cf2c8b4"
      },
      "outputs": [
        {
          "name": "stdout",
          "output_type": "stream",
          "text": [
            "1.4654510370979401\n",
            "3.648375873352852\n"
          ]
        }
      ],
      "source": [
        "print(tips.tip.skew()  )    # Scheefheid (skewness)\n",
        "print(tips.tip.kurtosis())  # Kurtosis (spitsheid)\n"
      ]
    },
    {
      "cell_type": "markdown",
      "metadata": {
        "id": "V0KgmzzofM9u"
      },
      "source": [
        "### 📏Populatie vs steekproef (standaardafwijking)"
      ]
    },
    {
      "cell_type": "code",
      "execution_count": null,
      "metadata": {
        "id": "abnLTeylfRLR"
      },
      "outputs": [],
      "source": [
        "def pop_var(x): return np.var(x, ddof=0)\n",
        "def sample_var(x): return np.var(x, ddof=1)\n",
        "\n",
        "def pop_sd(x): return np.std(x, ddof=0)\n",
        "def sample_sd(x): return np.std(x, ddof=1)\n"
      ]
    },
    {
      "cell_type": "markdown",
      "metadata": {
        "id": "7PsQq01cfXSd"
      },
      "source": [
        "### 🧪 Voorbeelddata & oefeningen"
      ]
    },
    {
      "cell_type": "markdown",
      "metadata": {
        "id": "3hSVhrs4fcDy"
      },
      "source": [
        "####  📌 Oefening 1 - Wachtijden metro (in seconden)"
      ]
    },
    {
      "cell_type": "code",
      "execution_count": null,
      "metadata": {
        "colab": {
          "base_uri": "https://localhost:8080/"
        },
        "id": "bplDaMJ-fYtp",
        "outputId": "26095842-c981-44b5-c005-1914d848d96e"
      },
      "outputs": [
        {
          "name": "stdout",
          "output_type": "stream",
          "text": [
            "49.5\n",
            "54.5\n"
          ]
        }
      ],
      "source": [
        "a = np.array([87, 42, 0, 62, 124, 0, 58, 37, 74, 94, 182, 23, 17, 62, 29, 17, 82, 54, 0, 45])\n",
        "print(np.median(a) )              # 49.5\n",
        "print(stats.iqr(a))               # 54.5\n"
      ]
    },
    {
      "cell_type": "markdown",
      "metadata": {
        "id": "jqZubUAkfrGA"
      },
      "source": [
        "#### 📌 Oefening 2 - Tijd in koffiebar (in minuten)"
      ]
    },
    {
      "cell_type": "code",
      "execution_count": null,
      "metadata": {
        "colab": {
          "base_uri": "https://localhost:8080/"
        },
        "id": "O0QLyKWXfsR6",
        "outputId": "113133e9-e20b-442c-9317-56c3572881b6"
      },
      "outputs": [
        {
          "name": "stdout",
          "output_type": "stream",
          "text": [
            "19.5\n",
            "35\n",
            "[14.   31.75]\n",
            "17.75\n"
          ]
        }
      ],
      "source": [
        "times = np.array([17, 15, 9, 31, 33, 41, 8, 14, 13, 22, 27, 43, 32, 14])\n",
        "print(np.median(times))           # Mediaan\n",
        "print(np.ptp(times)  )            # Range (max - min)\n",
        "print(np.percentile(times, [25, 75]))  # Q1 en Q3\n",
        "print(stats.iqr(times) )          # IQR\n"
      ]
    },
    {
      "cell_type": "markdown",
      "metadata": {
        "id": "C6nNVvV4gBJB"
      },
      "source": [
        "#### 📌 Oefening 3 - Kattennesten (frequentietabel → lijst)"
      ]
    },
    {
      "cell_type": "code",
      "execution_count": null,
      "metadata": {
        "colab": {
          "base_uri": "https://localhost:8080/"
        },
        "id": "aGEvqG_vgCU9",
        "outputId": "8f390cac-b003-4b80-9a61-48bed28a0022"
      },
      "outputs": [
        {
          "name": "stdout",
          "output_type": "stream",
          "text": [
            "4.0\n",
            "4.128205128205129\n",
            "[3. 5.]\n"
          ]
        }
      ],
      "source": [
        "kittens = pd.DataFrame({'litter': [1,2,3,4,5,6,7,8], 'freq': [2,4,7,11,8,4,2,1]})\n",
        "obs = np.repeat(kittens['litter'], kittens['freq'])\n",
        "\n",
        "print(np.median(obs) )          # 4.0\n",
        "print(np.mean(obs) )           # 4.13\n",
        "print(np.percentile(obs, [25, 75]))  # [3.0, 5.0]\n"
      ]
    },
    {
      "cell_type": "markdown",
      "metadata": {
        "id": "AFNf1u9kiBuq"
      },
      "source": [
        "# 📊 Univariate Analyse Cheat Sheet"
      ]
    },
    {
      "cell_type": "markdown",
      "metadata": {
        "id": "nDsUNm2xiErO"
      },
      "source": [
        "## 🎨 Visualisaties\n",
        "\n",
        "### Categorievariabelen"
      ]
    },
    {
      "cell_type": "markdown",
      "metadata": {
        "id": "dyn9xDa3iH1P"
      },
      "source": [
        "| Plot        | Code                                 |\n",
        "|-------------|--------------------------------------|\n",
        "| Count plot  | `sns.catplot(kind='count', y='day')` |\n"
      ]
    },
    {
      "cell_type": "markdown",
      "metadata": {
        "id": "fjd1nRdTiPmD"
      },
      "source": [
        "### Numerieke variabelen\n",
        "\n",
        "| Plot              | Code                                      |\n",
        "|-------------------|-------------------------------------------|\n",
        "| Boxplot           | `sns.boxplot(x='tip')`                    |\n",
        "| Histogram         | `sns.displot(x='tip')`                    |\n",
        "| Histogram (30 bins) | `sns.displot(x='tip', bins=30)`        |\n",
        "| Density plot      | `sns.kdeplot(x='tip')`                    |\n",
        "| Histogram + KDE   | `sns.displot(x='tip', kde=True)`          |\n",
        "| Violin plot       | `sns.violinplot(x='tip')`                 |\n",
        "| Scatterplot | `sns.scatterplot(x='total_bill', y='tip')` |"
      ]
    },
    {
      "cell_type": "markdown",
      "metadata": {
        "id": "tvdHoCa9iUuN"
      },
      "source": [
        "## 📈 Centrale tendens & spreiding\n",
        "\n"
      ]
    },
    {
      "cell_type": "markdown",
      "metadata": {
        "id": "mnIuyceaiYt0"
      },
      "source": [
        "| Maat                | Code                                     |\n",
        "|---------------------|------------------------------------------|\n",
        "| Overzicht           | `tips.tip.describe()`                    |\n",
        "| Gemiddelde          | `tips.tip.mean()`                        |\n",
        "| Mediaan             | `tips.tip.median()`                      |\n",
        "| Standaarddeviatie   | `tips.tip.std()`                         |\n",
        "| Variantie           | `tips.tip.var()`                         |\n",
        "| Min / Max           | `tips.tip.min(), tips.tip.max()`         |\n",
        "| Percentielen        | `tips.tip.quantile(...)`                 |\n",
        "| IQR                 | `stats.iqr(tips.tip)`                    |"
      ]
    },
    {
      "cell_type": "markdown",
      "metadata": {
        "id": "FzYJ4bRuibX5"
      },
      "source": [
        "## 🔁 Vorm van de verdeling"
      ]
    },
    {
      "cell_type": "markdown",
      "metadata": {
        "id": "J7rEBsXLicn2"
      },
      "source": [
        "| Maat      | Code                        | Betekenis                      |\n",
        "|-----------|-----------------------------|-------------------------------|\n",
        "| Skewness  | `tips.tip.skew()`           | Scheefheid van de verdeling   |\n",
        "| Kurtosis  | `tips.tip.kurtosis()`       | Spitsheid / uitschieters      |\n"
      ]
    },
    {
      "cell_type": "markdown",
      "metadata": {
        "id": "ljqp1gs5igV4"
      },
      "source": [
        "## 📏 Populatie vs Steekproef"
      ]
    },
    {
      "cell_type": "markdown",
      "metadata": {
        "id": "qssVSKUjiiWN"
      },
      "source": [
        "| Functie             | Code                          | Wat het doet                    |\n",
        "|---------------------|-------------------------------|---------------------------------|\n",
        "| Populatie SD        | `np.std(x, ddof=0)`           | Volledige populatie             |\n",
        "| Steekproef SD       | `np.std(x, ddof=1)`           | (aanbevolen) steekproef         |\n",
        "| Pandas standaard    | `pandas.Series.std()`         | Automatisch `ddof=1`            |"
      ]
    },
    {
      "cell_type": "markdown",
      "metadata": {
        "id": "alKgX7T6iovy"
      },
      "source": [
        "## 🧪 Praktijkoefeningen"
      ]
    },
    {
      "cell_type": "markdown",
      "metadata": {
        "id": "YPmqd6zPir1c"
      },
      "source": [
        "| Oefening            | Inzicht                          | Kernfuncties                         |\n",
        "|---------------------|----------------------------------|--------------------------------------|\n",
        "| Metro (wachtijden)  | Mediaan & IQR                    | `np.median()`, `stats.iqr()`         |\n",
        "| Koffiebar (tijden)  | Range, Q1–Q3, IQR                | `np.ptp()`, `np.percentile()`        |\n",
        "| Kattennesten        | Gemiddelde vs mediaan bij freq  | `np.mean()`, `np.repeat()`           |\n"
      ]
    },
    {
      "cell_type": "markdown",
      "metadata": {
        "id": "xPonT6FoiuTD"
      },
      "source": [
        "## ✅ Samenvatting inzichten"
      ]
    },
    {
      "cell_type": "markdown",
      "metadata": {
        "id": "EpB3vEuJiv_T"
      },
      "source": [
        "| Inzicht                                     | Tip                                  |\n",
        "|--------------------------------------------|--------------------------------------|\n",
        "| Gebruik `ddof=1` bij steekproeven          | = standaard in Pandas                |\n",
        "| `describe()` geeft snel overzicht          | Handig voor snelle analyse           |\n",
        "| IQR robuuster dan standaarddeviatie        | Minder gevoelig voor uitschieters    |\n",
        "| `displot(kde=True)` geeft goed totaalbeeld | Histogram + density                  |\n",
        "| Boxplot + Violin = visueel outliers        | Combineer bij dataverkenning         |"
      ]
    },
    {
      "cell_type": "markdown",
      "metadata": {
        "id": "qAU_fqB3i0kd"
      },
      "source": [
        "## 🎨 Uitleg Visualisatietypes"
      ]
    },
    {
      "cell_type": "markdown",
      "metadata": {
        "id": "iwEMoCrHi2Lm"
      },
      "source": [
        "| Term          | Uitleg                                                |\n",
        "|---------------|--------------------------------------------------------|\n",
        "| boxplot       | Grafiek die mediaan, spreiding en outliers toont.     |\n",
        "| histogram     | Staafdiagram dat de verdeling van waarden toont.      |\n",
        "| bins          | Aantal staven (intervallen) in een histogram.         |\n",
        "| density plot  | Gladde lijn die de kansverdeling benadert.            |\n",
        "| kde           | Kernel Density Estimate, maakt een smooth curve.      |\n",
        "| violin plot   | Combinatie van boxplot en density plot.               |\n",
        "| catplot       | Categorisch plot (bv. aantal per dag).                |"
      ]
    },
    {
      "cell_type": "markdown",
      "metadata": {
        "id": "yYVrec2zi6Jz"
      },
      "source": [
        "## 📈 Uitleg statistische maten"
      ]
    },
    {
      "cell_type": "markdown",
      "metadata": {
        "id": "ki4mUcM1i7uf"
      },
      "source": [
        "| Term             | Uitleg                                                             |\n",
        "|------------------|--------------------------------------------------------------------|\n",
        "| mean             | Som van alle waarden gedeeld door aantal.                         |\n",
        "| median           | Middelste waarde bij oplopende sortering.                         |\n",
        "| std              | Hoe ver de waarden afwijken van het gemiddelde.                   |\n",
        "| var              | Gemiddelde kwadratische afwijking van het gemiddelde.             |\n",
        "| min / max        | Kleinste / grootste waarde in de data.                            |\n",
        "| quantile         | Waarden bij bepaalde percentielen (bv. Q1 = 25%).                 |\n",
        "| percentiel       | Geeft aan welk percentage onder een bepaalde waarde valt.         |\n",
        "| IQR              | Interkwartielafstand = Q3 - Q1, meet spreiding zonder outliers.   |"
      ]
    },
    {
      "cell_type": "markdown",
      "metadata": {
        "id": "VNvv4wOI65KP"
      },
      "source": [
        "# 🧠Module 3 T-test , Z-test , confidence(kans dat iets boven onder tussen waardes zit of interval van zoveel %)\n"
      ]
    },
    {
      "cell_type": "markdown",
      "metadata": {
        "id": "5VntYP6iEhTD"
      },
      "source": [
        "## confidence"
      ]
    },
    {
      "cell_type": "code",
      "execution_count": null,
      "metadata": {
        "colab": {
          "base_uri": "https://localhost:8080/"
        },
        "id": "Ug7C-50SjB1X",
        "outputId": "5042128e-29a7-4062-fe60-686be67e7ede"
      },
      "outputs": [
        {
          "name": "stdout",
          "output_type": "stream",
          "text": [
            "Gemiddelde: 13.43\n",
            "90% Betrouwbaarheidsinterval: (11.97, 14.89)\n",
            "90% Z-interval: (12.28, 14.57)\n"
          ]
        }
      ],
      "source": [
        "# interval van bepaald percentage\n",
        "#T\n",
        "import numpy as np\n",
        "from scipy import stats\n",
        "\n",
        "data = [12, 15, 14, 10, 13, 16, 14]\n",
        "confidence = 0.90\n",
        "\n",
        "n = len(data)\n",
        "mean = np.mean(data)\n",
        "std_err = stats.sem(data)  # standaardfout\n",
        "\n",
        "# Kritieke waarde uit de t-verdeling\n",
        "t_crit = stats.t.ppf((1 + confidence) / 2, df=n-1)\n",
        "\n",
        "margin = t_crit * std_err\n",
        "ci_lower = mean - margin\n",
        "ci_upper = mean + margin\n",
        "\n",
        "print(f\"Gemiddelde: {mean:.2f}\")\n",
        "print(f\"90% Betrouwbaarheidsinterval: ({ci_lower:.2f}, {ci_upper:.2f})\")\n",
        "\n",
        "#Z\n",
        "from scipy.stats import norm\n",
        "\n",
        "data = [12, 15, 14, 10, 13, 16, 14]\n",
        "confidence = 0.90\n",
        "\n",
        "n = len(data)\n",
        "mean = np.mean(data)\n",
        "std_dev = np.std(data, ddof=0)  # populatiestandaarddeviatie (σ gekend)\n",
        "std_err = std_dev / np.sqrt(n)\n",
        "\n",
        "# Kritieke waarde uit de z-verdeling\n",
        "z_crit = norm.ppf((1 + confidence) / 2)\n",
        "\n",
        "margin = z_crit * std_err\n",
        "ci_lower = mean - margin\n",
        "ci_upper = mean + margin\n",
        "\n",
        "print(f\"90% Z-interval: ({ci_lower:.2f}, {ci_upper:.2f})\")\n"
      ]
    },
    {
      "cell_type": "code",
      "execution_count": null,
      "metadata": {
        "colab": {
          "base_uri": "https://localhost:8080/"
        },
        "id": "lWq6PVbeEjRW",
        "outputId": "7e8ceb17-0e1b-4ac4-93be-d15e48221b20"
      },
      "outputs": [
        {
          "name": "stdout",
          "output_type": "stream",
          "text": [
            "Standaardfout: 0.5795 kg\n",
            "Z-scores: z_a = -1.8982, z_b = 1.5531, z_c = -1.8982\n",
            "Kans dat het gemiddelde tussen 11 en 13 kg ligt: 0.9110\n",
            "Kans dat het gemiddelde niet tussen 11 en 13 kg ligt: 0.0890\n",
            "Kans dat het gemiddelde boven 11 kg ligt: 0.9712\n",
            "Kans dat het gemiddelde onder 11 kg ligt: 0.0288\n"
          ]
        }
      ],
      "source": [
        "import scipy.stats as stats\n",
        "import math\n",
        "\n",
        "# Gegeven waarden\n",
        "mu = 12.1  # populatiegemiddelde (kg)\n",
        "psa = 3.8  # populatiestandaardafwijking (kg)\n",
        "n = 43  # steekproefgrootte\n",
        "a = 11  # onderste doel (kg)\n",
        "b = 13  # bovenste doel (kg)\n",
        "c = 11  # doel voor bovenkans (kg)\n",
        "sigma = psa/math.sqrt(n) #standaardafwijking\n",
        "\n",
        "\n",
        "# Bereken standaardfout\n",
        "standard_error = psa / math.sqrt(n)\n",
        "\n",
        "# Bereken z-scores\n",
        "z_a = (a - mu) / sigma\n",
        "z_b = (b - mu) / sigma\n",
        "z_c = (c - mu) / sigma\n",
        "\n",
        "# 1. Kans dat het gemiddelde tussen a en b ligt: P(a < x_bar < b)\n",
        "prob_between = stats.norm.cdf(z_b) - stats.norm.cdf(z_a)\n",
        "\n",
        "# 2. Kans dat het gemiddelde niet tussen a en b ligt: P(x_bar < a of x_bar > b)\n",
        "prob_not_between = 1 - prob_between\n",
        "\n",
        "# 3. Kans dat het gemiddelde boven c ligt: P(x_bar > c)\n",
        "prob_above = 1 - stats.norm.cdf(z_c)\n",
        "\n",
        "# 4. Kans dat het gemiddelde onder c ligt: P(x_bar < c)\n",
        "prob_onder = stats.norm.cdf(z_c)\n",
        "\n",
        "# Resultaten printen\n",
        "print(f\"Standaardfout: {standard_error:.4f} kg\")\n",
        "print(f\"Z-scores: z_a = {z_a:.4f}, z_b = {z_b:.4f}, z_c = {z_c:.4f}\")\n",
        "print(f\"Kans dat het gemiddelde tussen {a} en {b} kg ligt: {prob_between:.4f}\")\n",
        "print(f\"Kans dat het gemiddelde niet tussen {a} en {b} kg ligt: {prob_not_between:.4f}\")\n",
        "print(f\"Kans dat het gemiddelde boven {c} kg ligt: {prob_above:.4f}\")\n",
        "print(f\"Kans dat het gemiddelde onder {c} kg ligt: {prob_onder:.4f}\")"
      ]
    },
    {
      "cell_type": "markdown",
      "metadata": {
        "id": "_nM6wSwcNtJf"
      },
      "source": [
        "## P score uitleg H0 en H1"
      ]
    },
    {
      "cell_type": "markdown",
      "metadata": {
        "id": "mhRcQZWvNzdI"
      },
      "source": [
        "\n",
        "\n",
        "*   right is H0 = gemiddelde is 20   /// H1 = gemiddelde is groter dan 20\n",
        "*   left is  H0 = gemiddelde is 20 /// H1 = gemiddelde is kleiner dan 20\n",
        "*   two sided H0 = gemiddelde is 20 /// H1 = gemiddelde is verschillend van 20\n",
        "\n",
        "\n",
        "\n",
        "*   P < alpha => H1\n",
        "*   P >= alpha => H0\n",
        "\n"
      ]
    },
    {
      "cell_type": "markdown",
      "metadata": {
        "id": "xWowOeeYBv5J"
      },
      "source": [
        "## Z-Test (acceptance regio geld ook voor T)\n",
        "*   The sample needs to be random\n",
        "*   The sample size needs to be sufficiently large (n > 30)\n",
        "*   The test statistic needs to have a normal distribution\n",
        "*   The standard deviation of the population,\n",
        ", is known\n",
        "\n"
      ]
    },
    {
      "cell_type": "markdown",
      "metadata": {
        "id": "hMrDr5gsUsJN"
      },
      "source": [
        "###between\n"
      ]
    },
    {
      "cell_type": "code",
      "execution_count": 9,
      "metadata": {
        "colab": {
          "base_uri": "https://localhost:8080/"
        },
        "id": "EVKGA2MPUto4",
        "outputId": "5a89126c-12a5-40de-b127-ef1dec998fc1"
      },
      "outputs": [
        {
          "name": "stdout",
          "output_type": "stream",
          "text": [
            "P(13.35 < X < 13.5) = 0.4592\n"
          ]
        }
      ],
      "source": [
        "# Stel parameters van de normale verdeling in\n",
        "mu = 13.4       # gemiddelde\n",
        "sigma = 0.12     # standaardafwijking\n",
        "\n",
        "# Bereken Z-scores\n",
        "z1 = (13.35 - mu) / sigma\n",
        "z2 = (13.5 - mu) / sigma\n",
        "\n",
        "# Kans dat X tussen 13.35 en 13.5 ligt\n",
        "p_within = stats.norm.cdf(z2) - stats.norm.cdf(z1)\n",
        "print(f\"P(13.35 < X < 13.5) = {p_within:.4f}\")"
      ]
    },
    {
      "cell_type": "markdown",
      "metadata": {
        "id": "tJyypBcH94Pw"
      },
      "source": [
        "### zie links of rechts of two tail"
      ]
    },
    {
      "cell_type": "code",
      "execution_count": null,
      "metadata": {
        "colab": {
          "base_uri": "https://localhost:8080/",
          "height": 430
        },
        "id": "BBTNq-WZ92jY",
        "outputId": "9cd5756d-bfb9-4ae6-c73e-f807bb5d8b67"
      },
      "outputs": [
        {
          "data": {
            "image/png": "[encoded data removed]",
            "text/plain": [
              "<Figure size 640x480 with 1 Axes>"
            ]
          },
          "metadata": {},
          "output_type": "display_data"
        }
      ],
      "source": [
        "# Importing the necessary packages\n",
        "import numpy as np                                  # \"Scientific computing\"\n",
        "import scipy.stats as stats                         # Statistical tests\n",
        "\n",
        "import random\n",
        "import math\n",
        "\n",
        "import pandas as pd                                 # Data Frame\n",
        "from pandas.api.types import CategoricalDtype\n",
        "\n",
        "import matplotlib.pyplot as plt                     # Basic visualisation\n",
        "from statsmodels.graphics.mosaicplot import mosaic  # Mosaic diagram\n",
        "import seaborn as sns\n",
        "# Properties of the sample: ( voorbeeld voor rechts)\n",
        "n = 20              # Sample size\n",
        "mu = 13.4          # (Hypothetical) population mean\n",
        "sigma = 0.12         # Population standard deviation (assumed to be known)\n",
        "m_sample = 13.42    # Sample mean\n",
        "s_sample = sigma / math.sqrt(n)\n",
        "\n",
        "# X-values\n",
        "dist_x = np.linspace(mu - 4 * s_sample, mu + 4 * s_sample, num=201)\n",
        "# Y-values for drawing the Gauss curve\n",
        "dist_y = stats.norm.pdf(dist_x, mu, s_sample)\n",
        "# Plot the Gauss-curve\n",
        "plt.plot(dist_x, dist_y)\n",
        "\n",
        "# Fill the area left of x\n",
        "# plt.fill_between(dist_x, 0, dist_y, where=(dist_x <= x), color='lightblue')\n",
        "# Show the mean with an orange line\n",
        "plt.axvline(m_sample, color=\"blue\");"
      ]
    },
    {
      "cell_type": "markdown",
      "metadata": {
        "id": "83BjjN-36-6j"
      },
      "source": [
        "### right tailed Z-**test**"
      ]
    },
    {
      "cell_type": "code",
      "execution_count": null,
      "metadata": {
        "id": "lFPTcPd8USdE"
      },
      "outputs": [],
      "source": [
        "## voor interval van acceptance regio te krijgen voor rechts\n",
        "z_crit_right = norm.ppf(1 - alpha)\n",
        "print(f\"Right-tailed Z-test: Verwerp H0 als Z ≥ {z_crit_right:.3f}\")\n",
        "print(f\"Acceptance region: Z < {z_crit_right:.3f}\")"
      ]
    },
    {
      "cell_type": "code",
      "execution_count": null,
      "metadata": {
        "colab": {
          "base_uri": "https://localhost:8080/"
        },
        "id": "j44027xA7X6T",
        "outputId": "b64425f6-c05a-4959-eae2-68e62de24be9"
      },
      "outputs": [
        {
          "name": "stdout",
          "output_type": "stream",
          "text": [
            "p-value: 0.22803\n",
            "p > alpha: do not reject H0\n"
          ]
        }
      ],
      "source": [
        "alpha = 0.05 # Significance level chosen by the researcher\n",
        "p = stats.norm.sf(m_sample, loc=mu, scale=sigma/np.sqrt(n))\n",
        "\n",
        "print(\"p-value: %.5f\" % p)\n",
        "if(p < alpha):\n",
        "    print(\"p < alpha: reject H0\")\n",
        "else:\n",
        "    print(\"p > alpha: do not reject H0\")"
      ]
    },
    {
      "cell_type": "code",
      "execution_count": null,
      "metadata": {
        "colab": {
          "base_uri": "https://localhost:8080/"
        },
        "id": "MrHTfkjz7iGq",
        "outputId": "30162979-6322-4b8f-b769-ef1be8bb8823"
      },
      "outputs": [
        {
          "name": "stdout",
          "output_type": "stream",
          "text": [
            "Critical value g ≃ 13.444\n",
            "sample mean = 13.420 < g = 13.444: do not reject H0\n"
          ]
        }
      ],
      "source": [
        "# Critical value according to the formula:\n",
        "#    g = mu + stats.norm.isf(alpha) * sigma / np.sqrt(n)\n",
        "# Making use of the loc/scale parameters of isf:\n",
        "g = stats.norm.isf(alpha, loc=mu, scale=sigma / np.sqrt(n))\n",
        "print(\"Critical value g ≃ %.3f\" % g)\n",
        "if (m_sample < g):\n",
        "    print(\"sample mean = %.3f < g = %.3f: do not reject H0\" % (m_sample, g))\n",
        "else:\n",
        "    print(\"sample mean = %.3f > g = %.3f: reject H0\" % (m_sample, g))"
      ]
    },
    {
      "cell_type": "code",
      "execution_count": null,
      "metadata": {
        "colab": {
          "base_uri": "https://localhost:8080/",
          "height": 430
        },
        "id": "f26NpUQs7pEA",
        "outputId": "bd2c0469-c99f-4c2f-f7d2-e4d7a28affed"
      },
      "outputs": [
        {
          "data": {
            "image/png": "[encoded data removed]",
            "text/plain": [
              "<Figure size 640x480 with 1 Axes>"
            ]
          },
          "metadata": {},
          "output_type": "display_data"
        }
      ],
      "source": [
        "# Gauss-curve plot:\n",
        "# X-values\n",
        "dist_x = np.linspace(mu - 4 * sigma/np.sqrt(n), mu + 4 * sigma/np.sqrt(n), num=201)\n",
        "# Y-values for the Gauss curve\n",
        "dist_y = stats.norm.pdf(dist_x, mu, sigma/np.sqrt(n))\n",
        "fig, dplot = plt.subplots(1, 1)\n",
        "# Plot the Gauss-curve\n",
        "dplot.plot(dist_x, dist_y)\n",
        "# Show the hypothetical population mean with an orange line\n",
        "dplot.axvline(mu, color=\"orange\", lw=2)\n",
        "# Show the sample mean with a red line\n",
        "dplot.axvline(m_sample, color=\"red\")\n",
        "# Fill the acceptance area in light blue\n",
        "dplot.fill_between(dist_x, 0, dist_y, where=dist_x <= g, color='lightblue');"
      ]
    },
    {
      "cell_type": "markdown",
      "metadata": {
        "id": "oa_Kn4dB-87J"
      },
      "source": [
        "###  left-tailed Z-Test"
      ]
    },
    {
      "cell_type": "code",
      "execution_count": null,
      "metadata": {
        "id": "HE3dy7-pUq6M"
      },
      "outputs": [],
      "source": [
        "from scipy.stats import norm\n",
        "# acceptance regio left\n",
        "alpha = 0.05\n",
        "z_crit_left = norm.ppf(alpha)\n",
        "\n",
        "print(f\"Left-tailed Z-test: Verwerp H0 als Z ≤ {z_crit_left:.3f}\")\n",
        "print(f\"Acceptance region: Z > {z_crit_left:.3f}\")\n"
      ]
    },
    {
      "cell_type": "code",
      "execution_count": null,
      "metadata": {
        "colab": {
          "base_uri": "https://localhost:8080/"
        },
        "id": "Z60rkiJi_B2y",
        "outputId": "65116cae-cdfb-46c6-e133-05db7ac8bd67"
      },
      "outputs": [
        {
          "name": "stdout",
          "output_type": "stream",
          "text": [
            "p-value: 0.22803\n",
            "p > a, do not reject H0\n"
          ]
        }
      ],
      "source": [
        "# Properties of the sample: ( voorbeeld voor rechts)\n",
        "n = 20              # Sample size\n",
        "mu = 13.4          # (Hypothetical) population mean\n",
        "sigma = 0.12         # Population standard deviation (assumed to be known)\n",
        "m_sample = 13.38    # Sample mean\n",
        "s_sample = sigma / math.sqrt(n)\n",
        "alpha = 0.05\n",
        "# Pay attention! Use cdf() instead of sf()! Why?\n",
        "p = stats.norm.cdf(m_sample, loc=mu, scale=sigma/np.sqrt(n))\n",
        "\n",
        "print(\"p-value: %.5f\" % p)\n",
        "if(p < alpha):\n",
        "    print(\"p < a, reject H0\")\n",
        "else:\n",
        "    print(\"p > a, do not reject H0\")"
      ]
    },
    {
      "cell_type": "code",
      "execution_count": null,
      "metadata": {
        "colab": {
          "base_uri": "https://localhost:8080/"
        },
        "id": "PRSPftaC_VmC",
        "outputId": "51b61964-aa5c-4606-d19c-30269194e746"
      },
      "outputs": [
        {
          "name": "stdout",
          "output_type": "stream",
          "text": [
            "Critical value g ≃ 13.356\n",
            "sample mean = 13.380 > g = 13.356: do not reject H0\n"
          ]
        }
      ],
      "source": [
        "# Critical value according to the formula in the lecture slides\n",
        "# g = m0 - stats.norm.isf(a) * s / np.sqrt(n)\n",
        "# Making use of the loc/scale parameters of isf:\n",
        "g = stats.norm.isf(1-alpha, loc=mu, scale=(sigma / np.sqrt(n)))\n",
        "print(\"Critical value g ≃ %.3f\" % g)\n",
        "if (m_sample > g):\n",
        "    print(\"sample mean = %.3f > g = %.3f: do not reject H0\" % (m_sample, g))\n",
        "else:\n",
        "    print(\"sample mean = %.3f < g = %.3f: reject H0\" % (m_sample, g))"
      ]
    },
    {
      "cell_type": "code",
      "execution_count": null,
      "metadata": {
        "colab": {
          "base_uri": "https://localhost:8080/",
          "height": 430
        },
        "id": "DT9H4S8E_Y7f",
        "outputId": "355d289b-7bf1-4736-9b6d-6e7ffc45fa04"
      },
      "outputs": [
        {
          "data": {
            "image/png": "[encoded data removed]",
            "text/plain": [
              "<Figure size 640x480 with 1 Axes>"
            ]
          },
          "metadata": {},
          "output_type": "display_data"
        }
      ],
      "source": [
        "# Gauss-curve:\n",
        "# X-values\n",
        "dist_x = np.linspace(mu - 4 * sigma/np.sqrt(n), mu + 4 * sigma/np.sqrt(n), num=201)\n",
        "# Y-values\n",
        "dist_y = stats.norm.pdf(dist_x, mu, sigma/np.sqrt(n))\n",
        "fig, dplot = plt.subplots(1, 1)\n",
        "# Plot\n",
        "dplot.plot(dist_x, dist_y)\n",
        "# Hypothetical population mean in orange\n",
        "dplot.axvline(mu, color=\"orange\", lw=2)\n",
        "# Sample mean in red\n",
        "dplot.axvline(m_sample, color=\"red\")\n",
        "# Fill the acceptance region in light blue\n",
        "dplot.fill_between(dist_x, 0, dist_y, where=dist_x >= g, color='lightblue');"
      ]
    },
    {
      "cell_type": "markdown",
      "metadata": {
        "id": "ycWdDimKAb9X"
      },
      "source": [
        "### two-tailed Z - test"
      ]
    },
    {
      "cell_type": "code",
      "execution_count": null,
      "metadata": {
        "id": "aoKjrxO-UyaH"
      },
      "outputs": [],
      "source": [
        "#accepttance regio two tailed\n",
        "z_crit_two_tail = norm.ppf(1 - alpha/2)\n",
        "\n",
        "\n",
        "print(f\"Two-tailed Z-test: Verwerp H0 als Z ≤ {-z_crit_two_tail:.3f} of Z ≥ {z_crit_two_tail:.3f}\")\n",
        "print(f\"Acceptance region: Z ∈ [ {-z_crit_two_tail:.3f}, {z_crit_two_tail:.3f} ]\")\n"
      ]
    },
    {
      "cell_type": "code",
      "execution_count": null,
      "metadata": {
        "id": "9uNnm8_IAhDJ"
      },
      "outputs": [],
      "source": [
        "# Properties of the sample:\n",
        "n = 20              # Sample size\n",
        "mu = 13.4          # (Hypothetical) population mean\n",
        "sigma = 0.12         # Population standard deviation (assumed to be known)\n",
        "m_sample = 13.41    # Sample mean\n",
        "alpha = 0.05        # Significance level (chosen by the researcher)"
      ]
    },
    {
      "cell_type": "code",
      "execution_count": null,
      "metadata": {
        "colab": {
          "base_uri": "https://localhost:8080/"
        },
        "id": "oAUsp-NZAkU9",
        "outputId": "60b59354-9693-411d-f600-a50222094387"
      },
      "outputs": [
        {
          "name": "stdout",
          "output_type": "stream",
          "text": [
            "p-waarde: 0.35469\n",
            "p > alpha/2, do not reject H0\n"
          ]
        }
      ],
      "source": [
        "p = stats.norm.sf(m_sample, loc=mu, scale=sigma/np.sqrt(n))\n",
        "print(\"p-waarde: %.5f\" % p)\n",
        "if(p < alpha/2):\n",
        "    print(\"p < alpha/2, reject H0\")\n",
        "else:\n",
        "    print(\"p > alpha/2, do not reject H0\")"
      ]
    },
    {
      "cell_type": "code",
      "execution_count": null,
      "metadata": {
        "colab": {
          "base_uri": "https://localhost:8080/"
        },
        "id": "_YbbYOT2Aoh2",
        "outputId": "22beceaf-c690-4e8d-96e1-2427035c8013"
      },
      "outputs": [
        {
          "name": "stdout",
          "output_type": "stream",
          "text": [
            "Acceptance region [g1, g2] ≃ [13.347, 13.453]\n",
            "Sample mean = 13.410 is inside acceptance region: do not reject H0\n"
          ]
        }
      ],
      "source": [
        "g1 = mu - stats.norm.isf(alpha/2) * sigma / np.sqrt(n)\n",
        "g2 = mu + stats.norm.isf(alpha/2) * sigma / np.sqrt(n)\n",
        "\n",
        "print(\"Acceptance region [g1, g2] ≃ [%.3f, %.3f]\" % (g1,g2))\n",
        "if (g1 < m_sample and m_sample < g2):\n",
        "    print(\"Sample mean = %.3f is inside acceptance region: do not reject H0\" % m_sample)\n",
        "else:\n",
        "    print(\"Sample mean = %.3f is outside acceptance region: reject H0\" % m_sample)"
      ]
    },
    {
      "cell_type": "code",
      "execution_count": null,
      "metadata": {
        "colab": {
          "base_uri": "https://localhost:8080/",
          "height": 430
        },
        "id": "vzoLvEmJArDT",
        "outputId": "9f61216d-f1e9-483e-a761-d6ee81616ba9"
      },
      "outputs": [
        {
          "data": {
            "image/png": "[encoded data removed]",
            "text/plain": [
              "<Figure size 640x480 with 1 Axes>"
            ]
          },
          "metadata": {},
          "output_type": "display_data"
        }
      ],
      "source": [
        "# Gauss-curve\n",
        "# X-values\n",
        "dist_x = np.linspace(mu - 4 * sigma/np.sqrt(n), mu + 4 * sigma/np.sqrt(n), num=201)\n",
        "# Y-values\n",
        "dist_y = stats.norm.pdf(dist_x, loc=mu, scale=sigma/np.sqrt(n))\n",
        "fig, dplot = plt.subplots(1, 1)\n",
        "# Plot\n",
        "dplot.plot(dist_x, dist_y)\n",
        "# Hypothetical population mean in orange\n",
        "dplot.axvline(mu, color=\"orange\", lw=2)\n",
        "# Sample mean in red\n",
        "dplot.axvline(m_sample, color=\"red\")\n",
        "acc_x = np.linspace(g1, g2, num=101)\n",
        "acc_y = stats.norm.pdf(acc_x, loc=mu, scale=sigma/np.sqrt(n))\n",
        "# Fill the acceptance region in light blue\n",
        "dplot.fill_between(acc_x, 0, acc_y, color='lightblue');"
      ]
    },
    {
      "cell_type": "markdown",
      "metadata": {
        "id": "N1Dmy0qmCQ7J"
      },
      "source": [
        "## T-test\n",
        "\n",
        "*   if the underlying distribution is the normal distribution\n",
        "*   if the variance or standarddeviation of the population is unknown\n",
        "\n",
        "\n"
      ]
    },
    {
      "cell_type": "markdown",
      "metadata": {
        "id": "BAXuzvfWUD_y"
      },
      "source": [
        "### between\n"
      ]
    },
    {
      "cell_type": "code",
      "execution_count": 7,
      "metadata": {
        "colab": {
          "base_uri": "https://localhost:8080/"
        },
        "id": "5e0CfdcgUHP0",
        "outputId": "0d03100a-6261-4c8e-e007-fb850f8fa15a"
      },
      "outputs": [
        {
          "name": "stdout",
          "output_type": "stream",
          "text": [
            "P(13.35 < X < 13.5) (T-verdeling) = 0.9603\n"
          ]
        }
      ],
      "source": [
        "# Gegeven parameters\n",
        "mu = 13.4         # steekproefgemiddelde of verwachte waarde\n",
        "s = 0.12          # steekproefstandaardafwijking\n",
        "n = 20            # steekproefgrootte\n",
        "df = n - 1        # vrijheidsgraden\n",
        "\n",
        "# Bereken de standaardfout van het gemiddelde\n",
        "se = s / (n ** 0.5)\n",
        "\n",
        "# Bereken T-scores\n",
        "t1 = (13.35 - mu) / se\n",
        "t2 = (13.5 - mu) / se\n",
        "\n",
        "# Kans dat X tussen 13.35 en 13.5 ligt onder de T-verdeling\n",
        "p_within_t = stats.t.cdf(t2, df=df) - stats.t.cdf(t1, df=df)\n",
        "print(f\"P(13.35 < X < 13.5) (T-verdeling) = {p_within_t:.4f}\")"
      ]
    },
    {
      "cell_type": "markdown",
      "metadata": {
        "id": "zU7a0PFgKHpk"
      },
      "source": [
        "### one tailed T right"
      ]
    },
    {
      "cell_type": "code",
      "execution_count": null,
      "metadata": {
        "id": "HaVtU1bBWFA_"
      },
      "outputs": [],
      "source": [
        "from scipy.stats import norm, t\n",
        "t_crit = t.ppf(1 - alpha, df=n-1)  # df = n-1"
      ]
    },
    {
      "cell_type": "code",
      "execution_count": null,
      "metadata": {
        "colab": {
          "base_uri": "https://localhost:8080/"
        },
        "id": "eTzzSsaOJrkC",
        "outputId": "c9b16064-ae9d-4c8f-f454-064e9b6d53c5"
      },
      "outputs": [
        {
          "name": "stdout",
          "output_type": "stream",
          "text": [
            "Sample mean: 6.146341463414634\n"
          ]
        }
      ],
      "source": [
        "scores = [6, 3, 6, 7, 6, 10, 6, 8, 7, 9, 3, 6, 4, 6, 8, 9, 5, 4, 6, 4, 6, 8, 10, 5, 4, 6, 4, 6, 6, 4, 5, 7, 8, 7, 5, 4, 8, 4, 5, 10, 7]\n",
        "n = len(scores)\n",
        "mu = 5.2\n",
        "s = np.std(scores, ddof = 1)  # the standard deviation of the population is unknown\n",
        "m_sample = np.mean(scores)\n",
        "alpha = 0.05\n",
        "\n",
        "print(f\"Sample mean: {m_sample}\")"
      ]
    },
    {
      "cell_type": "code",
      "execution_count": null,
      "metadata": {
        "colab": {
          "base_uri": "https://localhost:8080/"
        },
        "id": "iOi2zLr4JsOu",
        "outputId": "ab695b54-4761-4644-bb03-96e901fbdcc9"
      },
      "outputs": [
        {
          "name": "stdout",
          "output_type": "stream",
          "text": [
            "p-value: 0.0014163864505844063\n",
            "p < alpha: reject H0\n"
          ]
        }
      ],
      "source": [
        "p = stats.t.sf(m_sample, loc = mu, scale = s / math.sqrt(n), df = n - 1)\n",
        "print(f\"p-value: {p}\")\n",
        "if(p < alpha):\n",
        "    print(\"p < alpha: reject H0\")\n",
        "else:\n",
        "    print(\"p > alpha: do not reject H0\")"
      ]
    },
    {
      "cell_type": "code",
      "execution_count": null,
      "metadata": {
        "colab": {
          "base_uri": "https://localhost:8080/"
        },
        "id": "d6grak2vJ2Mz",
        "outputId": "bd9c7c40-7191-4cb5-b5bd-89c10db40e3b"
      },
      "outputs": [
        {
          "name": "stdout",
          "output_type": "stream",
          "text": [
            "Critical value g ≃ 5.701\n",
            "sample mean = 6.146 > g = 5.701: reject H0\n"
          ]
        }
      ],
      "source": [
        "g = stats.t.isf(alpha, loc = mu, scale = s / math.sqrt(n), df = n - 1)\n",
        "print(\"Critical value g ≃ %.3f\" % g)\n",
        "if (m_sample < g):\n",
        "    print(\"sample mean = %.3f < g = %.3f: do not reject H0\" % (m_sample, g))\n",
        "else:\n",
        "    print(\"sample mean = %.3f > g = %.3f: reject H0\" % (m_sample, g))"
      ]
    },
    {
      "cell_type": "code",
      "execution_count": null,
      "metadata": {
        "colab": {
          "base_uri": "https://localhost:8080/",
          "height": 430
        },
        "id": "cAze4tVtJ5ci",
        "outputId": "3954c566-e663-4c57-ea16-a3481ddf184d"
      },
      "outputs": [
        {
          "data": {
            "image/png": "[encoded data removed]",
            "text/plain": [
              "<Figure size 640x480 with 1 Axes>"
            ]
          },
          "metadata": {},
          "output_type": "display_data"
        }
      ],
      "source": [
        "# Gauss-curve\n",
        "# X-values\n",
        "dist_x = np.linspace(mu - 4 * s, mu + 4 * s, num=201)\n",
        "# Y-values\n",
        "dist_y = stats.t.pdf(dist_x, loc=mu, scale=s/np.sqrt(n), df=n-1)\n",
        "fig, dplot = plt.subplots(1, 1)\n",
        "# Plot\n",
        "dplot.plot(dist_x, dist_y)\n",
        "# Hypothetical population mean in orange\n",
        "dplot.axvline(mu, color=\"orange\", lw=2)\n",
        "# Sample mean in red\n",
        "dplot.axvline(m_sample, color=\"red\")\n",
        "# Fill the acceptance region in light blue\n",
        "dplot.fill_between(dist_x, 0, dist_y, where=dist_x >= g, color='lightblue');"
      ]
    },
    {
      "cell_type": "markdown",
      "metadata": {
        "id": "MwP8Qc0tKOmn"
      },
      "source": [
        "### left tailed T-test ttest gebruikt.\n",
        "\n",
        "*   You have one sample of data.\n",
        "*   You want to test if its mean significantly differs from a known or hypothesized population mean.\n",
        "*   The data is assumed to be normally distributed (or approximately normal for large samples).\n",
        "*   The standard deviation of the population is not known\n",
        "\n"
      ]
    },
    {
      "cell_type": "code",
      "execution_count": null,
      "metadata": {
        "id": "DvY2enzbWXoa"
      },
      "outputs": [],
      "source": [
        "from scipy.stats import norm , t\n",
        "# acceptance regio left\n",
        "alpha = 0.05\n",
        "t_crit_left = t.ppf(alpha)\n",
        "\n",
        "print(f\"Left-tailed t-test: Verwerp H0 als Z ≤ {z_crit_left:.3f}\")\n",
        "print(f\"Acceptance region: Z > {z_crit_left:.3f}\")"
      ]
    },
    {
      "cell_type": "code",
      "execution_count": null,
      "metadata": {
        "colab": {
          "base_uri": "https://localhost:8080/"
        },
        "id": "4AyUtc-oK6kI",
        "outputId": "2308170a-2699-477c-f027-1e532a3c2f1f"
      },
      "outputs": [
        {
          "name": "stdout",
          "output_type": "stream",
          "text": [
            "Sample mean        : 19.933\n",
            "t-score            : -0.115\n",
            "p-value           : 0.4551527949196003\n"
          ]
        }
      ],
      "source": [
        "study_times = [18,22,19,21,23,20,17,22,19,18,21,20,16,24,19]\n",
        "alpha = 0.05\n",
        "mu = 20\n",
        "\n",
        "# P > alpha H0 blijft\n",
        "# P < alpha H1 is het gene dat voorkomt\n",
        "#right is H0 = gemiddelde is 20  H1 = gemiddelde is groter dan 20\n",
        "#left is  H0 = gemiddelde is 20 H1 = gemiddelde is kleiner dan 20\n",
        "#two sided H0 = gemiddelde is 20 H1 = gemiddelde is verschillend van 20\n",
        "\n",
        "t_stat, p_val = stats.ttest_1samp(a=study_times, popmean=mu, alternative='less') # \"greater\" voor rechts en \"two-sided\" voor two sided voor two sided regio = t_crit = t.ppf(1 - alpha/2, df=n-1)\n",
        "print(\"Sample mean        : %.3f\" % np.mean(study_times))\n",
        "print(\"t-score            : %.3f\" % t_stat)\n",
        "print(f\"p-value           : {p_val}\")"
      ]
    },
    {
      "cell_type": "markdown",
      "metadata": {},
      "source": [
        "\n",
        "\n",
        "### Verschil Tussen Kansverdelingsfuncties (PDF, CDF, SF, ISF)\n",
        "\n",
        "| Functie | Volledige Naam | Wat het doet | Typische Vraag | Voorbeeld |\n",
        "| :--- | :--- | :--- | :--- | :--- |\n",
        "| **PDF** | **P**robability **D**ensity **F**unction (Kansdichtheidsfunctie) | [cite_start]Beschrijft de **relatieve waarschijnlijkheid** van een specifieke, exacte waarde [cite: 353-355]. | Hoe waarschijnlijk is een score van *precies* 85? | Een histogram of een vloeiende klokvormige curve is een visuele weergave van de PDF. De hoogte van de curve op een bepaald punt geeft de relatieve kansdichtheid weer. |\n",
        "| **CDF** | **C**umulative **D**istribution **F**unction (Cumulatieve distributiefunctie) | Berekent de **opgetelde kans** dat een waarde *kleiner dan of gelijk aan* een bepaald punt is. | Wat is de kans dat een student *maximaal* een score van 85 haalt? | Gebruikt in examenvraag 5 om de kans te berekenen dat een student een score heeft **tussen 80 en 85**. Je berekent `P(score ≤ 85)` en trekt daar `P(score ≤ 80)` van af. |\n",
        "| **SF** | **S**urvival **F**unction (Overlevingsfunctie) | Berekent de **opgetelde kans** dat een waarde *groter dan* een bepaald punt is. Het is het tegenovergestelde van de CDF (1 - CDF). | Wat is de kans dat een student *meer dan* een score van 85 haalt? | Gebruikt in examenvraag 5 om de kans te berekenen op een premie voor studenten die boven een bepaalde score uitkomen. |\n",
        "| **ISF** | **I**nverse **S**urvival **F**unction (Inverse overlevingsfunctie) | Doet het omgekeerde van de SF. Je geeft een **kans (een percentage)** en de functie geeft de **waarde** terug die bij die kans hoort. | Welke score heb je nodig om bij de *top 5%* van de studenten te horen? | Om de score te vinden die slechts door 5% van de studenten wordt overschreden, gebruik je `norm.isf(0.05)`. [cite_start]Dit is ook hoe je de kritieke Z- of t-waarden vindt voor betrouwbaarheidsintervallen en hypothesetoetsen [cite: 384-385, 429-430]. |"
      ]
    },
    {
      "cell_type": "markdown",
      "metadata": {
        "id": "QtIdoALPXMWq"
      },
      "source": [
        "# 🧠chi_kwadraat en T-test met 2 groepen"
      ]
    },
    {
      "cell_type": "markdown",
      "metadata": {
        "id": "s57lyPwsXfh2"
      },
      "source": [
        "## T-toets voor 2 onafhankelijke groepen vb: mannen en vrouwen\n",
        "Context: Vergelijk het gemiddelde inkomen van mannen en vrouwen.  \n",
        "H0: Het gemiddelde inkomen van mannen = dat van vrouwen\n",
        "\n",
        "H1: Het gemiddelde inkomen van mannen ≠ dat van vrouwen (two-tailed)"
      ]
    },
    {
      "cell_type": "code",
      "execution_count": 12,
      "metadata": {
        "colab": {
          "base_uri": "https://localhost:8080/"
        },
        "id": "lqABAd_4XdF9",
        "outputId": "a08bb003-41ed-40f9-ad0b-8d7bdb0dd4a3"
      },
      "outputs": [
        {
          "name": "stdout",
          "output_type": "stream",
          "text": [
            "T-statistic: -2.000, p-value: 0.081\n"
          ]
        }
      ],
      "source": [
        "from scipy import stats\n",
        "import numpy as np\n",
        "\n",
        "group1 = np.array([5, 6, 7, 8, 9])\n",
        "group2 = np.array([7, 8, 9, 10, 11])\n",
        "\n",
        "t_stat, p_val = stats.ttest_ind(group1, group2)\n",
        "print(f\"T-statistic: {t_stat:.3f}, p-value: {p_val:.3f}\")\n"
      ]
    },
    {
      "cell_type": "markdown",
      "metadata": {
        "id": "2kd8ankwXrdd"
      },
      "source": [
        "##  T-toets voor 2 gekoppelde metingen (voor/na)\n",
        "Context: Meet het effect van een training op testscores (voor en na).  \n",
        "H0: Gemiddelde score voor = gemiddelde score na training\n",
        "\n",
        "H1: Gemiddelde score voor ≠ gemiddelde score na training"
      ]
    },
    {
      "cell_type": "code",
      "execution_count": 13,
      "metadata": {
        "colab": {
          "base_uri": "https://localhost:8080/"
        },
        "id": "limVKn1iXs8M",
        "outputId": "91d14adb-7caa-4abd-bd69-987d988f56ef"
      },
      "outputs": [
        {
          "name": "stdout",
          "output_type": "stream",
          "text": [
            "T-statistic: -6.532, p-value: 0.003\n"
          ]
        }
      ],
      "source": [
        "before = np.array([20, 21, 19, 22, 20])\n",
        "after = np.array([22, 23, 20, 24, 21])\n",
        "\n",
        "t_stat, p_val = stats.ttest_rel(before, after)\n",
        "print(f\"T-statistic: {t_stat:.3f}, p-value: {p_val:.3f}\")\n"
      ]
    },
    {
      "cell_type": "markdown",
      "metadata": {
        "id": "0mVqtyo-Xy-M"
      },
      "source": [
        "## Chi²-test onafhankelijkheid (2 categorische variabelen)\n",
        "Test of twee categorische variabelen onafhankelijk zijn (bv. geslacht en rookgedrag).  \n",
        "H0: Geslacht en productvoorkeur zijn onafhankelijk\n",
        "\n",
        "H1: Geslacht en productvoorkeur zijn niet onafhankelijk"
      ]
    },
    {
      "cell_type": "code",
      "execution_count": 14,
      "metadata": {
        "colab": {
          "base_uri": "https://localhost:8080/"
        },
        "id": "-MmTZ4ByX1Tw",
        "outputId": "e4d7000f-8e65-4b4e-b017-600f5cad564c"
      },
      "outputs": [
        {
          "name": "stdout",
          "output_type": "stream",
          "text": [
            "Chi2: 15.042, p-value: 0.000\n"
          ]
        }
      ],
      "source": [
        "import numpy as np\n",
        "from scipy.stats import chi2_contingency\n",
        "\n",
        "# Contingentietabel (observaties)\n",
        "table = np.array([[30, 10],\n",
        "                  [20, 40]])\n",
        "\n",
        "chi2, p_val, dof, expected = chi2_contingency(table)\n",
        "print(f\"Chi2: {chi2:.3f}, p-value: {p_val:.3f}\")\n"
      ]
    },
    {
      "cell_type": "markdown",
      "metadata": {
        "id": "q255aMc6X8--"
      },
      "source": [
        "## Chi² goodness-of-fit (1 categorische variabele vs. verwachte verdeling)\n",
        "Context: Komt de verdeling van kleuren in een pakje M&M’s overeen met de fabrikant-specificatie?\n",
        "\n",
        "H0: Geobserveerde kleurverdeling komt overeen met verwachte verdeling\n",
        "\n",
        "H1: Geobserveerde kleurverdeling wijkt af van verwachte verdeling"
      ]
    },
    {
      "cell_type": "code",
      "execution_count": 15,
      "metadata": {
        "colab": {
          "base_uri": "https://localhost:8080/"
        },
        "id": "KWtPKnHFX_-b",
        "outputId": "f23743b2-18b7-4505-f355-081c88443d28"
      },
      "outputs": [
        {
          "name": "stdout",
          "output_type": "stream",
          "text": [
            "Chi2: 5.000, p-value: 0.082\n"
          ]
        }
      ],
      "source": [
        "from scipy.stats import chisquare\n",
        "\n",
        "observed = np.array([50, 30, 20])\n",
        "expected = np.array([40, 40, 20])\n",
        "\n",
        "chi2, p_val = chisquare(f_obs=observed, f_exp=expected)\n",
        "print(f\"Chi2: {chi2:.3f}, p-value: {p_val:.3f}\")\n"
      ]
    },
    {
      "cell_type": "markdown",
      "metadata": {
        "id": "G4kihvBYBq-j"
      },
      "source": [
        "## Cramér's V\n",
        "$$V = \\sqrt{\\frac{χ²}{n(k-1)}}$$\n",
        "- $n$ = Total observations\n",
        "- $k$ = min(rows, columns) in contingency table\n",
        "\n",
        "**Interpretatie:**\n",
        "\n",
        "| \\(V\\)    | Sterkte van associatie |\n",
        "|---------|-------------------------|\n",
        "| 0       | Geen                    |\n",
        "| 0.1     | Zwak                    |\n",
        "| 0.25    | Matig                   |\n",
        "| 0.5     | Sterk                   |\n",
        "| >0.5    | Zeer sterk              |"
      ]
    },
    {
      "cell_type": "code",
      "execution_count": 16,
      "metadata": {
        "colab": {
          "base_uri": "https://localhost:8080/"
        },
        "id": "BNMreP9uDp7g",
        "outputId": "b84c0450-1be2-4d60-ff26-844c7cc0783b"
      },
      "outputs": [
        {
          "name": "stdout",
          "output_type": "stream",
          "text": [
            "Cramér's V: 0.8660\n"
          ]
        }
      ],
      "source": [
        "import numpy as np\n",
        "import pandas as pd\n",
        "\n",
        "def cramers_v_from_chi2_and_df(chi2, df, col1, col2):\n",
        "    \"\"\"\n",
        "    Bereken Cramér's V op basis van chi-kwadraatwaarde en 2 categorische kolommen uit een DataFrame.\n",
        "\n",
        "    Parameters:\n",
        "        chi2: float – de chi-kwadraatwaarde\n",
        "        df: pandas DataFrame\n",
        "        col1: naam van eerste categorische kolom\n",
        "        col2: naam van tweede categorische kolom\n",
        "\n",
        "    Returns:\n",
        "        Cramér's V (float)\n",
        "    \"\"\"\n",
        "    contingency = pd.crosstab(df[col1], df[col2])\n",
        "    n = contingency.to_numpy().sum()\n",
        "    k = min(contingency.shape)\n",
        "\n",
        "    if k <= 1 or n == 0:\n",
        "        return np.nan\n",
        "    return np.sqrt(chi2 / (n * (k - 1)))\n",
        "\n",
        "#///\n",
        "chi2 = 6.0  # voorbeeldwaarde\n",
        "\n",
        "# voorbeelddata\n",
        "df = pd.DataFrame({\n",
        "    'Geslacht': ['M', 'V', 'M', 'V', 'M', 'V', 'V', 'M'],\n",
        "    'Voorkeur': ['A', 'B', 'A', 'B', 'A', 'A', 'B', 'B']\n",
        "})\n",
        "\n",
        "v = cramers_v_from_chi2_and_df(chi2, df, 'Geslacht', 'Voorkeur')\n",
        "print(f\"Cramér's V: {v:.4f}\")\n"
      ]
    },
    {
      "cell_type": "markdown",
      "metadata": {
        "id": "Wy6ZByQlZ9Mq"
      },
      "source": [
        "# 🧠Pearson correlatie (numeriek vs. numeriek) + Lineaire regressie + correlatie + covariancie"
      ]
    },
    {
      "cell_type": "markdown",
      "metadata": {
        "id": "3cdOeh7Ba6Ja"
      },
      "source": [
        "##Pearson correlatie (numeriek vs. numeriek)\n",
        "Context: Is er een lineair verband tussen studie-uren en examenresultaat?\n",
        "\n",
        "H0: Geen lineair verband tussen studie-uren en resultaten (ρ = 0)\n",
        "\n",
        "H1: Er is een lineair verband (ρ ≠ 0)"
      ]
    },
    {
      "cell_type": "code",
      "execution_count": null,
      "metadata": {
        "colab": {
          "base_uri": "https://localhost:8080/"
        },
        "id": "Y67fs-ZPa8Zk",
        "outputId": "e5886829-b545-4b57-9540-8caf64cec3bb"
      },
      "outputs": [
        {
          "name": "stdout",
          "output_type": "stream",
          "text": [
            "Pearson correlation: 1.000, p-value: 0.000\n"
          ]
        }
      ],
      "source": [
        "from scipy.stats import pearsonr\n",
        "import numpy as np\n",
        "\n",
        "study_hours = np.array([2, 3, 4, 5, 6])\n",
        "exam_scores = np.array([50, 55, 60, 65, 70])\n",
        "\n",
        "corr, p_val = pearsonr(study_hours, exam_scores)\n",
        "print(f\"Pearson correlation: {corr:.3f}, p-value: {p_val:.3f}\")\n"
      ]
    },
    {
      "cell_type": "markdown",
      "metadata": {
        "id": "gB2DkwWybJCe"
      },
      "source": [
        "##Lineaire regressie\n",
        "Context: Voorspel het gewicht van een persoon aan de hand van lengte.\n",
        "\n",
        "H0: Geen lineair verband tussen lengte en gewicht (slope = 0)\n",
        "\n",
        "H1: Er is een lineair verband (slope ≠ 0)\n",
        "\n"
      ]
    },
    {
      "cell_type": "code",
      "execution_count": null,
      "metadata": {
        "colab": {
          "base_uri": "https://localhost:8080/"
        },
        "id": "9JuqxpT6bVs9",
        "outputId": "40880f9e-f46a-4d9d-a731-87da52d38209"
      },
      "outputs": [
        {
          "name": "stdout",
          "output_type": "stream",
          "text": [
            "y= 0.7399999999999995 * X + -57.39999999999993\n",
            "Coef (slope): 0.740, Intercept: -57.400\n",
            "R = 0.9846556465128464\n",
            "R² = 0.9695467422096316\n"
          ]
        }
      ],
      "source": [
        "from sklearn.linear_model import LinearRegression\n",
        "import numpy as np\n",
        "\n",
        "X = np.array([[160], [165], [170], [175], [180]])\n",
        "y = np.array([60, 65, 70, 72, 75])\n",
        "x = np.array([160, 165 , 170 , 175 , 180])\n",
        "\n",
        "a, b = np.polyfit(x , y, 1)\n",
        "\n",
        "print(f'y= {a} * X + {b}')\n",
        "\n",
        "model = LinearRegression().fit(X, y)\n",
        "print(f\"Coef (slope): {model.coef_[0]:.3f}, Intercept: {model.intercept_:.3f}\")\n",
        "\n",
        "cor = np.corrcoef(x,y)[0][1]\n",
        "print(f\"R = { cor }\")\n",
        "print(f\"R² = {cor ** 2}\")\n"
      ]
    },
    {
      "cell_type": "markdown",
      "metadata": {
        "id": "GemZzUIhKelZ"
      },
      "source": [
        "**Interpretation**\n",
        "\n",
        "| $abs(R)$  |  $R^2$   | Explained variance |   Linear relation    |\n",
        "| :-------: | :------: | :----------------: | :------------------: |\n",
        "|   < .3    |   < .1   |       < 10%        |      very weak       |\n",
        "|  .3 - .5  | .1 - .25 |     10% - 25%      |         weak         |\n",
        "|  .5 - .7  | .25 - .5 |     25% - 50%      |       moderate       |\n",
        "| .7 - .85  | .5 - .75 |     50% - 75%      |        strong        |\n",
        "| .85 - .95 | .75 - .9 |     75% - 90%      |     very strong      |\n",
        "|   > .95   |   > .9   |       > 90%        | exceptionally strong |"
      ]
    },
    {
      "cell_type": "markdown",
      "metadata": {
        "id": "eL5MsaJlJ4eD"
      },
      "source": [
        "## Covariance\n",
        "Measures **direction** of linear relationship:  \n",
        "$Cov(X,Y) = \\frac{1}{n-1}\\sum_{i=1}^n(X_i - \\bar{X})(Y_i - \\bar{Y})$"
      ]
    },
    {
      "cell_type": "code",
      "execution_count": null,
      "metadata": {
        "id": "-SgKY82JJ6fU"
      },
      "outputs": [],
      "source": [
        "np.cov(\n",
        "    df.columnName,\n",
        "    df.columnName,\n",
        "    ddof=1)[0][1] #ddof = 1 -> unbiased sample"
      ]
    },
    {
      "cell_type": "markdown",
      "metadata": {
        "id": "uZbaJAqmKBkf"
      },
      "source": [
        "**Covariance Interpretation**:\n",
        "- $Cov > 0$: Variables move together (X↑ → Y↑)\n",
        "- $Cov < 0$: Variables move inversely (X↑ → Y↓)\n",
        "- $Cov ≈ 0$: No linear relationship"
      ]
    },
    {
      "cell_type": "markdown",
      "metadata": {
        "id": "tk5_-LvWJf2a"
      },
      "source": [
        "## correlatie\n",
        "Measures **strength and direction** of linear relationship:  \n",
        "$R = \\frac{Cov(X,Y)}{\\sigma_X\\sigma_Y}$\n"
      ]
    },
    {
      "cell_type": "code",
      "execution_count": null,
      "metadata": {
        "id": "GT5WBVQIJiii"
      },
      "outputs": [],
      "source": [
        "# Python function numpy.corrcoef() - returns a matrix, like numpy.cov()\n",
        "corr = np.corrcoef(\n",
        "    df.columnName,\n",
        "    df.columnName)[0][1]\n",
        "print(f\"R ≈ {corr:.4f}\")"
      ]
    },
    {
      "cell_type": "markdown",
      "metadata": {
        "id": "hvf2FOaQJwtt"
      },
      "source": [
        "**Properties**:\n",
        "- Unitless (-1 ≤ R ≤ 1)\n",
        "- R > 0: Positive linear relationship\n",
        "- R < 0: Negative linear relationship\n",
        "- R = 0: No linear relationship"
      ]
    },
    {
      "cell_type": "markdown",
      "metadata": {
        "id": "cEoFTuCWauQW"
      },
      "source": [
        "### 🎯Coëfficiënt van determinatie (R-squared of r²)\n",
        "\n",
        "De coëfficiënt van determinatie, aangeduid als **R-squared** of **r²**, is een maatstaf die aangeeft hoe goed een model de variantie in de afhankelijke variabele verklaart op basis van de onafhankelijke variabele(n).\n",
        "\n",
        "Deze metriek wordt gebruikt om:\n",
        "- de **model fit** te beoordelen,\n",
        "- **modellen met elkaar te vergelijken**,\n",
        "- en te interpreteren welk deel van de variantie verklaard wordt door het model.\n",
        "\n",
        "**Interpretatie:**\n",
        "- Een **r² van 0** duidt op een zwakke correlatie of een slecht passend model.\n",
        "- Een **r² van 1** wijst op een perfecte correlatie en een uitstekend passend model.\n",
        "- Bijvoorbeeld: een **R² ≈ 0.64** betekent dat **64% van de variantie** in de afhankelijke variabele (bv. *Bwt*) wordt verklaard door de onafhankelijke variabele (bv. *Hwt*).\n",
        "\n",
        "> Hoe dichter r² bij 1 ligt, hoe beter het model in staat is om de variatie in de uitkomstvariabele te verklaren.\n"
      ]
    },
    {
      "cell_type": "code",
      "execution_count": 11,
      "metadata": {
        "colab": {
          "base_uri": "https://localhost:8080/"
        },
        "id": "kP5wCnyQazUI",
        "outputId": "cafc7830-e51b-4e11-e913-17cfbcc93d3d"
      },
      "outputs": [
        {
          "name": "stdout",
          "output_type": "stream",
          "text": [
            "R² (handmatig): 0.6000\n",
            "R² (sklearn):   0.6000\n"
          ]
        }
      ],
      "source": [
        "import numpy as np\n",
        "from sklearn.metrics import r2_score\n",
        "\n",
        "# Stel voorbeeldgegevens in\n",
        "# X = onafhankelijke variabele (bijv. Hwt)\n",
        "# y = afhankelijke variabele (bijv. Bwt)\n",
        "X = np.array([1, 2, 3, 4, 5])\n",
        "y = np.array([2, 4, 5, 4, 5])\n",
        "\n",
        "# Eenvoudige lineaire regressie fitten\n",
        "# We gebruiken np.polyfit om een lijn y = a*x + b te vinden\n",
        "coeffs = np.polyfit(X, y, deg=1)\n",
        "a, b = coeffs\n",
        "y_pred = a * X + b\n",
        "\n",
        "# 1. ✅ Handmatige berekening van R²\n",
        "ss_res = np.sum((y - y_pred) ** 2)             # Residual sum of squares\n",
        "ss_tot = np.sum((y - np.mean(y)) ** 2)         # Total sum of squares\n",
        "r_squared_manual = 1 - (ss_res / ss_tot)\n",
        "\n",
        "# 2. ✅ Berekening met sklearn\n",
        "r_squared_sklearn = r2_score(y, y_pred)\n",
        "\n",
        "# Resultaten afdrukken\n",
        "print(f\"R² (handmatig): {r_squared_manual:.4f}\")\n",
        "print(f\"R² (sklearn):   {r_squared_sklearn:.4f}\")\n"
      ]
    },
    {
      "cell_type": "markdown",
      "metadata": {
        "id": "BgNC7egPbrMl"
      },
      "source": [
        "#🧠Exponentiële afvlakking (tijdreeksvoorspelling)\n"
      ]
    },
    {
      "cell_type": "markdown",
      "metadata": {
        "id": "xZD8xk2ybtFx"
      },
      "source": [
        "##Exponentiële afvlakking (tijdreeksvoorspelling)\n",
        "Context: Voorspel de toekomstige verkoop op basis van historische maandelijkse data."
      ]
    },
    {
      "cell_type": "code",
      "execution_count": null,
      "metadata": {
        "colab": {
          "base_uri": "https://localhost:8080/"
        },
        "id": "wrClioLFbvVL",
        "outputId": "af3f3034-f1fb-48b3-f57f-2f2d701b00cc"
      },
      "outputs": [
        {
          "name": "stdout",
          "output_type": "stream",
          "text": [
            "5    221.663\n",
            "6    221.663\n",
            "dtype: float64\n"
          ]
        },
        {
          "name": "stderr",
          "output_type": "stream",
          "text": [
            "/usr/local/lib/python3.11/dist-packages/pandas/util/_decorators.py:213: EstimationWarning: Model has no free parameters to estimate. Set optimized=False to suppress this warning\n",
            "  return func(*args, **kwargs)\n"
          ]
        }
      ],
      "source": [
        "import pandas as pd\n",
        "from statsmodels.tsa.holtwinters import SimpleExpSmoothing\n",
        "\n",
        "sales = pd.Series([200, 220, 215, 240, 230])\n",
        "model = SimpleExpSmoothing(sales).fit(smoothing_level=0.3)\n",
        "forecast = model.forecast(2)\n",
        "print(forecast)\n"
      ]
    },
    {
      "cell_type": "markdown",
      "metadata": {
        "id": "VxSw2i9ieg3U"
      },
      "source": [
        "###Plot alles mogelijkheden"
      ]
    },
    {
      "cell_type": "code",
      "execution_count": null,
      "metadata": {
        "colab": {
          "base_uri": "https://localhost:8080/",
          "height": 642
        },
        "id": "c3dgxk4Hel5i",
        "outputId": "28d7f10e-11fd-4830-a2af-48b44abcb538"
      },
      "outputs": [
        {
          "name": "stderr",
          "output_type": "stream",
          "text": [
            "<ipython-input-106-9f661fa62f75>:7: FutureWarning: 'M' is deprecated and will be removed in a future version, please use 'ME' instead.\n",
            "  index=pd.date_range(start='2023-01', periods=12, freq='M'))\n"
          ]
        },
        {
          "data": {
            "image/png": "[encoded data removed]",
            "text/plain": [
              "<Figure size 1200x600 with 1 Axes>"
            ]
          },
          "metadata": {},
          "output_type": "display_data"
        }
      ],
      "source": [
        "import pandas as pd\n",
        "import matplotlib.pyplot as plt\n",
        "from statsmodels.tsa.holtwinters import SimpleExpSmoothing, Holt, ExponentialSmoothing\n",
        "\n",
        "# Voorbeeld tijdreeks (verkoopdata per maand)\n",
        "sales = pd.Series([200, 220, 215, 240, 230, 250, 265, 270, 260, 275, 280, 290],\n",
        "                  index=pd.date_range(start='2023-01', periods=12, freq='M'))\n",
        "\n",
        "# Simple Moving Averages\n",
        "sma_3 = sales.rolling(window=3).mean()\n",
        "sma_5 = sales.rolling(window=5).mean()\n",
        "\n",
        "# Simple Exponential Smoothing\n",
        "ses = SimpleExpSmoothing(sales).fit(smoothing_level=0.3, optimized=False)\n",
        "ses_forecast = ses.fittedvalues\n",
        "\n",
        "# Holt (met trend)\n",
        "holt = Holt(sales).fit(smoothing_level=0.3, smoothing_trend=0.1, optimized=False)\n",
        "holt_forecast = holt.fittedvalues\n",
        "\n",
        "# Holt-Winters (trend + seizoen)\n",
        "hw = ExponentialSmoothing(sales, trend='add', seasonal='add', seasonal_periods=4).fit()\n",
        "hw_forecast = hw.fittedvalues\n",
        "\n",
        "# Plot\n",
        "plt.figure(figsize=(12, 6))\n",
        "plt.plot(sales, label='Originele Data', marker='o')\n",
        "plt.plot(sma_3, label='SMA (3)', linestyle='--')\n",
        "plt.plot(sma_5, label='SMA (5)', linestyle='--')\n",
        "plt.plot(ses_forecast, label='Simple Exp. Smoothing')\n",
        "plt.plot(holt_forecast, label=\"Holt's Linear Trend\")\n",
        "plt.plot(hw_forecast, label='Holt-Winters (Additief)')\n",
        "\n",
        "plt.title('Vergelijking van Smoothing Methoden')\n",
        "plt.xlabel('Datum')\n",
        "plt.ylabel('Verkoop')\n",
        "plt.legend()\n",
        "plt.grid(True)\n",
        "plt.tight_layout()\n",
        "plt.show()\n"
      ]
    },
    {
      "cell_type": "markdown",
      "metadata": {
        "id": "6keagnm5fNS3"
      },
      "source": [
        "#🧠Data manipuleren"
      ]
    },
    {
      "cell_type": "markdown",
      "metadata": {
        "id": "plVBDQMhfQ9m"
      },
      "source": [
        "##Geef datatypes kolom"
      ]
    },
    {
      "cell_type": "code",
      "execution_count": null,
      "metadata": {
        "colab": {
          "base_uri": "https://localhost:8080/"
        },
        "id": "hhsgAZaqfWnY",
        "outputId": "cd2a66a6-ffdc-4876-f062-04073b1ac0bc"
      },
      "outputs": [
        {
          "name": "stdout",
          "output_type": "stream",
          "text": [
            "date         object\n",
            "employees     int64\n",
            "dtype: object\n"
          ]
        }
      ],
      "source": [
        "import pandas as pd\n",
        "\n",
        "# Voorbeelddata (vervang dit door jouw echte data inlezen via pd.read_csv of andere bron)\n",
        "data = {\n",
        "    'date': ['2020-01-01', '2020-02-01', '2020-03-01'],\n",
        "    'employees': [395, 402, 410]\n",
        "}\n",
        "df = pd.DataFrame(data)\n",
        "\n",
        "# Toon de datatypes\n",
        "print(df.dtypes)\n"
      ]
    },
    {
      "cell_type": "markdown",
      "metadata": {
        "id": "AtzVnOEefeJz"
      },
      "source": [
        "##Conversie naar datetime"
      ]
    },
    {
      "cell_type": "code",
      "execution_count": null,
      "metadata": {
        "id": "fRF5Fcdrfmn9"
      },
      "outputs": [],
      "source": [
        "df['date'] = pd.to_datetime(df['date'], errors='coerce')\n"
      ]
    },
    {
      "cell_type": "markdown",
      "metadata": {
        "id": "uigVi_nZfpx9"
      },
      "source": [
        "##Plot maken"
      ]
    },
    {
      "cell_type": "code",
      "execution_count": null,
      "metadata": {
        "colab": {
          "base_uri": "https://localhost:8080/",
          "height": 507
        },
        "id": "LwvyQOArfsI8",
        "outputId": "bde1aed0-5aa0-4e3d-cb80-e95b80405ff2"
      },
      "outputs": [
        {
          "data": {
            "image/png": "[encoded data removed]",
            "text/plain": [
              "<Figure size 1200x500 with 1 Axes>"
            ]
          },
          "metadata": {},
          "output_type": "display_data"
        }
      ],
      "source": [
        "import matplotlib.pyplot as plt\n",
        "\n",
        "plt.figure(figsize=(12, 5))\n",
        "plt.plot(df['date'], df['employees'], marker='o')\n",
        "plt.title('Aantal werknemers per maand')\n",
        "plt.xlabel('Datum')\n",
        "plt.ylabel('Werknemers')\n",
        "plt.grid(True)\n",
        "plt.tight_layout()\n",
        "plt.show()\n"
      ]
    },
    {
      "cell_type": "markdown",
      "metadata": {
        "id": "02jn-RIfWsvk"
      },
      "source": [
        "# 📏 Cohen's d\n",
        "\n",
        "**Cohen's d** meet het gestandaardiseerde verschil tussen twee gemiddelden.  \n",
        "Het geeft een indicatie van de **praktische relevantie**, zelfs wanneer een verschil statistisch significant is.\n",
        "\n",
        "### ✅ Wat doet Cohen's d?\n",
        "- Meet **effectgrootte** (hoe groot is het verschil, los van steekproefgrootte)\n",
        "- Drukt verschil uit in **standaarddeviatie-eenheden**\n",
        "- Helpt inschatten of een verschil **praktisch betekenisvol** is\n",
        "\n",
        "### 📊 Interpretatiegids\n",
        "\n",
        "| Cohen's d | Effectgrootte |\n",
        "|-----------|----------------|\n",
        "| 0.2       | Klein          |\n",
        "| 0.5       | Medium         |\n",
        "| 0.8       | Groot          |\n",
        "\n",
        "> ⚠️ Let op: deze richtlijnen zijn algemeen — interpretatie kan verschillen per vakgebied.\n",
        "### 📘 Samengevat\n",
        "\n",
        "| Vergelijkt Cohen's d...                                                        | Antwoord |\n",
        "|--------------------------------------------------------------------------------|----------|\n",
        "| Sample vs populatie                                                            | ❌ Nee   |\n",
        "| Twee gemiddelden binnen een sample (bv. twee groepen)                          | ✅ Ja    |\n",
        "| De grootte van een effect onafhankelijk van de p-waarde                        | ✅ Ja    |\n"
      ]
    },
    {
      "cell_type": "code",
      "execution_count": 10,
      "metadata": {
        "colab": {
          "base_uri": "https://localhost:8080/"
        },
        "id": "WpMpgSnDXBvo",
        "outputId": "8f6e49db-c1e6-4bc3-d742-9d698afd2220"
      },
      "outputs": [
        {
          "name": "stdout",
          "output_type": "stream",
          "text": [
            "Cohen's d = 3.508\n",
            "Effectgrootte volgens Cohen's d: groot\n"
          ]
        }
      ],
      "source": [
        "import numpy as np\n",
        "\n",
        "# Voorbeeldgegevens\n",
        "groep1 = [13.5, 13.7, 13.6, 13.4, 13.5]  # bv. controlegroep\n",
        "groep2 = [13.9, 14.0, 13.8, 14.1, 13.9]  # bv. experimentele groep\n",
        "\n",
        "# Gemiddelden en standaarddeviaties\n",
        "mean1 = np.mean(groep1)\n",
        "mean2 = np.mean(groep2)\n",
        "std1 = np.std(groep1, ddof=1)  # ddof=1 → steekproefstandaardafwijking\n",
        "std2 = np.std(groep2, ddof=1)\n",
        "\n",
        "# Gepoole standaardafwijking\n",
        "pooled_std = np.sqrt(((std1**2 + std2**2) / 2))\n",
        "\n",
        "# Cohen's d\n",
        "cohens_d = (mean2 - mean1) / pooled_std\n",
        "print(f\"Cohen's d = {cohens_d:.3f}\")\n",
        "\n",
        "# Interpretatie\n",
        "if abs(cohens_d) < 0.2:\n",
        "    effect = \"verwaarloosbaar\"\n",
        "elif abs(cohens_d) < 0.5:\n",
        "    effect = \"klein\"\n",
        "elif abs(cohens_d) < 0.8:\n",
        "    effect = \"medium\"\n",
        "else:\n",
        "    effect = \"groot\"\n",
        "\n",
        "print(f\"Effectgrootte volgens Cohen's d: {effect}\")\n"
      ]
    }
  ],
  "metadata": {
    "colab": {
      "collapsed_sections": [
        "L-c2gtVm6Sgp",
        "SzHBClPSQzAZ",
        "LLkGp9CyUSZ7",
        "TWKnE0CtjLSj",
        "m_NXNe18jUhA",
        "FuDbk40XbLIr",
        "I2QoMobFbnRT",
        "AFNf1u9kiBuq",
        "nDsUNm2xiErO",
        "tvdHoCa9iUuN",
        "FzYJ4bRuibX5",
        "ljqp1gs5igV4",
        "alKgX7T6iovy",
        "xPonT6FoiuTD",
        "qAU_fqB3i0kd",
        "yYVrec2zi6Jz",
        "VNvv4wOI65KP",
        "5VntYP6iEhTD",
        "_nM6wSwcNtJf",
        "xWowOeeYBv5J",
        "tJyypBcH94Pw",
        "83BjjN-36-6j",
        "oa_Kn4dB-87J",
        "ycWdDimKAb9X",
        "N1Dmy0qmCQ7J",
        "zU7a0PFgKHpk",
        "MwP8Qc0tKOmn",
        "QtIdoALPXMWq",
        "s57lyPwsXfh2",
        "2kd8ankwXrdd",
        "0mVqtyo-Xy-M",
        "q255aMc6X8--",
        "Wy6ZByQlZ9Mq",
        "3cdOeh7Ba6Ja",
        "gB2DkwWybJCe",
        "BgNC7egPbrMl",
        "xZD8xk2ybtFx",
        "VxSw2i9ieg3U",
        "6keagnm5fNS3",
        "plVBDQMhfQ9m",
        "AtzVnOEefeJz",
        "uigVi_nZfpx9"
      ],
      "provenance": []
    },
    "kernelspec": {
      "display_name": "Python 3",
      "name": "python3"
    },
    "language_info": {
      "name": "python"
    }
  },
  "nbformat": 4,
  "nbformat_minor": 0
}
