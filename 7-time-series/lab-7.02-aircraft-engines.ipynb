{
  "cells": [
    {
      "cell_type": "markdown",
      "metadata": {
        "id": "ifLP6PF2VNyG"
      },
      "source": [
        "# Lab 7.02 - Time series analysis"
      ]
    },
    {
      "cell_type": "code",
      "execution_count": 1,
      "metadata": {
        "id": "PwYaTAjzVNyI"
      },
      "outputs": [],
      "source": [
        "# Package imports\n",
        "# Package imports for data science and time series analysis in particular\n",
        "import numpy as np                                  # \"Scientific computing\"\n",
        "import pandas as pd                                 # Dataframe\n",
        "import scipy.stats as stats                         # Statistical tests\n",
        "\n",
        "import matplotlib.pyplot as plt                     # Basic visualisation\n",
        "import seaborn as sns                               # Advanced dataviz\n",
        "\n",
        "from sklearn.linear_model import LinearRegression   # Linear regression model\n",
        "\n",
        "# Time series analysis\n",
        "from datetime import datetime\n",
        "from sklearn.metrics import mean_absolute_error,mean_squared_error\n",
        "from statsmodels.tsa.api import Holt\n",
        "from statsmodels.tsa.holtwinters import ExponentialSmoothing\n",
        "from statsmodels.tsa.seasonal import seasonal_decompose"
      ]
    },
    {
      "cell_type": "markdown",
      "metadata": {
        "id": "z8e3JogMwQLG"
      },
      "source": [
        "## Exercise 2 - aircraft engines\n",
        "\n",
        "You have been assigned to forecast the number of aircraft engines ordered each month from an engine manufacturing company. At the end of February, the\n",
        "forecast is that 100 engines will be ordered during April.\n",
        "Then during March, 120 engines are actually ordered.  \n",
        "Using $\\alpha$ = 0.3, determine a forecast (at the end of March) for the number of orders placed during April and during May. Use simple exponential\n",
        "smoothing.  \n",
        "These are the appropriate formulae\n",
        "\n",
        "$X_t = \\alpha x_t + (1 - \\alpha) X_{t-1}$\n",
        "\n",
        "$F_{t+m} = X_t$"
      ]
    },
    {
      "cell_type": "markdown",
      "metadata": {},
      "source": [
        "| Symbool   | Betekenis                                                                  |\n",
        "| --------- | -------------------------------------------------------------------------- |\n",
        "| $X_t$     | Nieuwe forecast (na tijd t, dus aan het eind van maart)                    |\n",
        "| $x_t$     | De werkelijke waarde op tijdstip t (de realiteit)                          |\n",
        "| $X_{t-1}$ | De vorige voorspelling (bijv. gedaan eind februari)                        |\n",
        "| $\\alpha$  | Gewicht (tussen 0 en 1) — bepaalt hoeveel belang je aan het nieuwste geeft |\n"
      ]
    },
    {
      "cell_type": "code",
      "execution_count": 2,
      "metadata": {},
      "outputs": [
        {
          "name": "stdout",
          "output_type": "stream",
          "text": [
            "Forecast eind maart (voor april): 106.00\n",
            "Forecast eind maart (voor mei): 106.00\n"
          ]
        }
      ],
      "source": [
        "# Gegeven waarden\n",
        "alpha = 0.3              # Smoothing factor\n",
        "X_prev = 100             # Voorspelling voor april, gedaan eind februari\n",
        "x_actual = 120           # Werkelijk aantal bestellingen in maart\n",
        "\n",
        "# Stap 1: Bereken nieuwe forecast (X_t), dus aan het einde van maart\n",
        "X_march = alpha * x_actual + (1 - alpha) * X_prev\n",
        "print(f\"Forecast eind maart (voor april): {X_march:.2f}\")\n",
        "\n",
        "# Stap 2: Forecast voor mei (gebruik waarde van X_march)\n",
        "F_may = X_march\n",
        "print(f\"Forecast eind maart (voor mei): {F_may:.2f}\")\n"
      ]
    },
    {
      "cell_type": "markdown",
      "metadata": {},
      "source": [
        "\n",
        "###  Stap 3: Voorspel de volgende maand\n",
        "\n",
        "> \"Omdat SES alleen de laatste waarde gebruikt als voorspelling:  \n",
        "> `F_april = X_march`  \n",
        "> `F_may = X_march`\"\n",
        "\n",
        "---\n",
        "\n",
        "###  Uitleg\n",
        "\n",
        "Bij **Simple Exponential Smoothing (SES)** gaan we er **niet** vanuit dat er een trend of seizoenspatroon is. Daarom wordt elke toekomstige voorspelling gewoon gelijk aan de **laatste geschatte waarde**.\n",
        "\n",
        "De redenering is:\n",
        "- We hebben net een nieuwe voorspelling gemaakt voor maart: `X_march`\n",
        "- SES zegt: \"Als je vooruit wilt voorspellen, gebruik gewoon `X_march` voor alle komende maanden\"\n",
        "\n",
        "---\n",
        "\n",
        "\n"
      ]
    },
    {
      "cell_type": "markdown",
      "metadata": {
        "id": "OzaYuRuogzWf"
      },
      "source": [
        "## Source\n",
        "Business Analytics Data Analysis & Decision Making "
      ]
    },
    {
      "cell_type": "markdown",
      "metadata": {},
      "source": [
        "#  Oefening 2 – SES Forecasting Stappenplan\n",
        "\n",
        "\n",
        "---\n",
        "\n",
        "###  Stap 1: Noteer de gegeven informatie\n",
        "\n",
        "- $\\alpha$ = 0.3\n",
        "- $X_{t-1}$ = forecast van vorige periode (100 voor april, gemaakt in februari)\n",
        "- $x_t$ = waargenomen waarde in maart = 120\n",
        "\n",
        "---\n",
        "\n",
        "###  Stap 2: Pas de SES-formule toe\n",
        "\n",
        "Gebruik: <br>\n",
        "Xₜ = α * xₜ + (1 - α) * Xₜ₋₁\n",
        "\n",
        "\n",
        "---\n",
        "\n",
        "### Stap 3: Voorspel de volgende maand\n",
        "\n",
        "Omdat SES alleen de laatste waarde gebruikt als voorspelling:\n",
        "F_april = X_march\n",
        "F_may = X_march"
      ]
    },
    {
      "cell_type": "markdown",
      "metadata": {},
      "source": [
        "#  Nieuwe concepten uitgelegd – SES Forecasting\n",
        "\n",
        "---\n",
        "\n",
        "##  Wat is Simple Exponential Smoothing (SES)?\n",
        "\n",
        "SES is een methode om toekomstige waarden te voorspellen door:\n",
        "- Recente waarnemingen **meer gewicht** te geven\n",
        "- Oudere waarnemingen **minder gewicht** te geven\n",
        "\n",
        "Dit is handig bij **data zonder sterke trend of seizoenspatroon**.\n",
        "\n",
        "---\n",
        "\n",
        "##  Wat is α (alpha)?\n",
        "\n",
        "Alpha is de **smoothing factor**, een waarde tussen 0 en 1 die bepaalt **hoeveel gewicht** je geeft aan recente data.\n",
        "\n",
        "| Alpha waarde | Betekenis                                 |\n",
        "|--------------|--------------------------------------------|\n",
        "| α ≈ 0.1       | Voorspelling reageert **traag** op veranderingen |\n",
        "| α ≈ 0.9       | Voorspelling reageert **snel** op veranderingen |\n",
        "\n",
        "---\n",
        "\n",
        "##  Wat is Xₜ?\n",
        "\n",
        "- $Xₜ$ is de **geschatte waarde op tijdstip t**, berekend op basis van:\n",
        "  - De vorige schatting ($X_{t-1}$)\n",
        "  - De werkelijke nieuwe waarde ($x_t$)\n",
        "\n",
        "Formule: <br>\n",
        "Xₜ = α * xₜ + (1 - α) * Xₜ₋₁"
      ]
    }
  ],
  "metadata": {
    "colab": {
      "provenance": []
    },
    "kernelspec": {
      "display_name": "Python 3",
      "language": "python",
      "name": "python3"
    },
    "language_info": {
      "codemirror_mode": {
        "name": "ipython",
        "version": 3
      },
      "file_extension": ".py",
      "mimetype": "text/x-python",
      "name": "python",
      "nbconvert_exporter": "python",
      "pygments_lexer": "ipython3",
      "version": "3.12.1"
    },
    "orig_nbformat": 4
  },
  "nbformat": 4,
  "nbformat_minor": 0
}
