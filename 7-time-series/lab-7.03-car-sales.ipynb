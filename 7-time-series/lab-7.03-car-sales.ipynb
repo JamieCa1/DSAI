{
  "cells": [
    {
      "cell_type": "markdown",
      "metadata": {
        "id": "ifLP6PF2VNyG"
      },
      "source": [
        "# Lab 7.03 - Time series analysis"
      ]
    },
    {
      "cell_type": "code",
      "execution_count": 1,
      "metadata": {
        "id": "PwYaTAjzVNyI"
      },
      "outputs": [],
      "source": [
        "# Package imports"
      ]
    },
    {
      "cell_type": "markdown",
      "metadata": {
        "id": "nsaevyk8itxA"
      },
      "source": [
        "## Exercise 3 - Car sales\n",
        "\n",
        "An automobile dealer is using Holt's method to\n",
        "forecast weekly car sales. Currently, the level is\n",
        "estimated to be 50 cars per week, and the trend is\n",
        "estimated to be six cars per week. During the current\n",
        "week, 30 cars are sold. After observing the current\n",
        "week's sales, forecast the number of cars three weeks\n",
        "from now. Use $α = $β = 0.3.\n",
        "\n",
        "These are the appropriate formulae\n",
        "\n",
        "$X_{t} = \\alpha x_{t} + (1-\\alpha)(X_{t-1} + b_{t-1})$\n",
        "\n",
        "$b_{t} = \\beta(X_{t}-X_{t-1}) + (1-\\beta)b_{t-1}$\n",
        "\n",
        "$F_{t+m} = X_t + mb_t$"
      ]
    },
    {
      "cell_type": "code",
      "execution_count": 2,
      "metadata": {},
      "outputs": [
        {
          "name": "stdout",
          "output_type": "stream",
          "text": [
            "Nieuw niveau (X_t): 48.20\n",
            "Nieuwe trend (b_t): 3.66\n",
            "Forecast over 3 weken: 59.18 auto's\n"
          ]
        }
      ],
      "source": [
        "# Gegeven waarden\n",
        "alpha = 0.3\n",
        "beta = 0.3\n",
        "\n",
        "x_t = 30           # Waarneming van deze week\n",
        "X_prev = 50        # Vorige geschatte level (X_{t-1})\n",
        "b_prev = 6         # Vorige geschatte trend (b_{t-1})\n",
        "\n",
        "# Stap 1: Bereken nieuw level (X_t)\n",
        "X_t = alpha * x_t + (1 - alpha) * (X_prev + b_prev)\n",
        "\n",
        "# Stap 2: Bereken nieuwe trend (b_t)\n",
        "b_t = beta * (X_t - X_prev) + (1 - beta) * b_prev\n",
        "\n",
        "# Stap 3: Maak een forecast voor over 3 weken\n",
        "m = 3\n",
        "F_t_plus_3 = X_t + m * b_t\n",
        "\n",
        "print(f\"Nieuw niveau (X_t): {X_t:.2f}\")\n",
        "print(f\"Nieuwe trend (b_t): {b_t:.2f}\")\n",
        "print(f\"Forecast over 3 weken: {F_t_plus_3:.2f} auto's\")\n"
      ]
    },
    {
      "cell_type": "markdown",
      "metadata": {},
      "source": [
        "#  Oefening 3 – Holt’s Method (DES) Stappenplan\n",
        "\n",
        "---\n",
        "\n",
        "###  Stap 1: Noteer de gegeven waarden\n",
        "\n",
        "- α = 0.3\n",
        "- β = 0.3\n",
        "- Vorige niveau (X_{t-1}) = 50\n",
        "- Vorige trend (b_{t-1}) = 6\n",
        "- Huidige verkoop (xₜ) = 30\n",
        "- m = 3 weken vooruit\n",
        "\n",
        "---\n",
        "\n",
        "###  Stap 2: Bereken het nieuwe niveau\n",
        "\n",
        "Gebruik de formule: Xₜ = α * xₜ + (1 - α) * (Xₜ₋₁ + bₜ₋₁)\n",
        "\n",
        "\n",
        "\n",
        "### Stap 3: Bereken de nieuwe trend\n",
        "\n",
        "Gebruik de formule: bₜ = β * (Xₜ - Xₜ₋₁) + (1 - β) * bₜ₋₁\n",
        "\n",
        "\n",
        "### Stap 4: Maak een forecast voor m weken vooruit\n",
        "\n",
        "Gebruik de formule: Fₜ₊ₘ = Xₜ + m * bₜ\n",
        "\n",
        "### Stap 5: Interpreteer het resultaat\n",
        "\n",
        "- Het model houdt rekening met zowel het dalend aantal verkopen (30 vs 50) als met de eerdere groeitrend (+6).\n",
        "- De forecast toont of de trend stabiliseert of keert.\n"
      ]
    },
    {
      "cell_type": "markdown",
      "metadata": {
        "id": "OzaYuRuogzWf"
      },
      "source": [
        "## Source\n",
        "Business Analytics Data Analysis & Decision Making "
      ]
    },
    {
      "cell_type": "markdown",
      "metadata": {},
      "source": [
        "# Theorie – Holt’s Method (Double Exponential Smoothing)\n",
        "\n",
        "---\n",
        "\n",
        "## Wat is Holt’s Method?\n",
        "\n",
        "Holt's methode breidt Simple Exponential Smoothing uit door **trend** toe te voegen. Het model voorspelt dus beter als de data een **oplopende of dalende lijn** vertoont.\n",
        "\n",
        "---\n",
        "\n",
        "## 1. Niveau (Level) – `Xₜ`\n",
        "\n",
        "- De **geschatte waarde** van de tijdreeks op tijdstip t.\n",
        "- Houdt rekening met het vorige niveau én de trend.\n",
        "  \n",
        "Formule: Xₜ = α * xₜ + (1 - α) * (Xₜ₋₁ + bₜ₋₁)\n",
        "\n",
        "## 2. Trend – `bₜ`\n",
        "\n",
        "- De verwachte **verandering per tijdseenheid**.\n",
        "- Wordt geüpdatet met hoe het nieuwe niveau zich verhoudt tot het vorige niveau.\n",
        "\n",
        "Formule: bₜ = β * (Xₜ - Xₜ₋₁) + (1 - β) * bₜ₋₁\n",
        "\n",
        "##  3. Voorspelling m stappen vooruit – `Fₜ₊ₘ`\n",
        "\n",
        "- Gebaseerd op het huidige niveau en de trend: Fₜ₊ₘ = Xₜ + m * bₜ\n",
        "\n",
        "\n",
        "- Makkelijk in te stellen voor elke waarde van m (1 week, 3 weken, 6 weken...)\n",
        "\n",
        "---\n",
        "\n",
        "## Waarom Holt gebruiken?\n",
        "\n",
        "- Beter dan SES als je tijdreeks een **oplopende of dalende lijn** toont.\n",
        "- Handig voor verkoop, temperatuur, voorraad – alles met structurele beweging.\n",
        "\n",
        "---\n",
        "\n",
        "## Voorbeeld: Auto’s verkopen\n",
        "\n",
        "| Vorige niveau (Xₜ₋₁) | 50 auto's |\n",
        "|-----------------------|-----------|\n",
        "| Vorige trend (bₜ₋₁)  | +6 per week |\n",
        "| Huidige verkoop (xₜ) | 30 auto's |\n",
        "| α = β = 0.3          | smoothing parameters |\n",
        "\n",
        "---\n",
        "\n"
      ]
    }
  ],
  "metadata": {
    "colab": {
      "provenance": []
    },
    "kernelspec": {
      "display_name": "Python 3",
      "language": "python",
      "name": "python3"
    },
    "language_info": {
      "codemirror_mode": {
        "name": "ipython",
        "version": 3
      },
      "file_extension": ".py",
      "mimetype": "text/x-python",
      "name": "python",
      "nbconvert_exporter": "python",
      "pygments_lexer": "ipython3",
      "version": "3.12.1"
    },
    "orig_nbformat": 4
  },
  "nbformat": 4,
  "nbformat_minor": 0
}
